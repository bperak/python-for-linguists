{
 "cells": [
  {
   "cell_type": "markdown",
   "metadata": {},
   "source": [
    "# 6. Zadaci"
   ]
  },
  {
   "cell_type": "markdown",
   "metadata": {
    "collapsed": true
   },
   "source": [
    "# 6.1. Zadaci iz poglavlja \"Osnove programiranja\" (1. poglavlje)"
   ]
  },
  {
   "cell_type": "markdown",
   "metadata": {},
   "source": [
    "## 6.1.1. Zadaci iz poglavlja \"Jednostavni tipovi podataka\" (1.5. poglavlje)\n",
    "\n",
    "1. Ispišite jednu rečenicu po izboru.\n",
    "2. U varijablu `broj1` pohranite cjelobrojni tip podatka vrijednosti `15` i ispišite ju.\n",
    "3. U varijablu `broj2` pohranite realni tip podatka vrijednosti `5.05` i ispišite ju.\n",
    "4. U varijablu `broj3` pohranite realni tip podatka vrijednost `-7.89` i ispišite ju.\n",
    "5. U varijablu `niz1` pohranite niz znakova `'Nitko ne očekuje španjolsku inkviziciju.'` i ispišite ju.\n",
    "6. U varijablu `niz2` pohranite niz znakova `'5.05'` i ispišite ju.\n",
    "7. U varijablu `niz3` pohranite prazan niz znakova i ispišite ju.\n",
    "8. Indeksirajte prvi znak varijable `niz1`.\n",
    "9. Indeksirajte posljednji znak varijable `niz1`.\n",
    "10. Indeksirajte podniz `'.05'` varijable `niz2`.\n",
    "11. U varijablu `niz4` pohranite niz znakova `'ime\\tprezime\\tadresa'` i ispišite ju.\n",
    "12. U varijablu `niz5` pohranite niz znakova `'prvi red\\ndrugi red\\n3. red\\n'`."
   ]
  },
  {
   "cell_type": "markdown",
   "metadata": {
    "collapsed": true
   },
   "source": [
    "## 6.1.2. Zadaci iz poglavlja \"Operatori\" (1.7. poglavlje)\n",
    "\n",
    "13. Provjerite je li varijabla `broj2` veća od varijable `broj1`.\n",
    "14. Podijelite vrijednost varijable `broj1` sa `2` te ispišite novonastalu realnu vrijednost.\n",
    "15. Izračunajte ostatak dijeljenja vrijednosti varijable `broj1` sa `2`.\n",
    "16. Provjerite je li izraz `(6+5)%3` jednak izrazu `1+5/3`.\n",
    "17. Provjerite je li izraz `2**3` različit od izraza `116/14.5`."
   ]
  },
  {
   "cell_type": "markdown",
   "metadata": {
    "collapsed": true
   },
   "source": [
    "## 6.1.3. Zadaci iz poglavlja \"Rad s nizovima znakova\" (1.9. poglavlje)\n",
    "\n",
    "18. Ispišite poruku na ekran `'Rezultat dijenjenja iz 14. zadatka je 7.5, a cijeli dio tog izraza je 7.'`. Brojčane vrijednosti ispišite iz objekta odnosno varijable `broj1`. Za ispis druge vrijednosti trebate funkcijom promijeniti tip podatka.\n",
    "19. U jednu varijablu pohranite svoju godinu rođenja, a u drugu varijablu prošlu godinu. Ispišite poruku `'Prošle ste godine navršili godina: x'`. Na mjestu znaka `'x'` trebate izračunati broj godina pomoću varijabli. Na kraju promijenite vrijednost varijable rođenja te ponovite ispis.\n",
    "20. Izračunajte duljinu varijable `niz4` te vrijednost ispišite u obliku poruke.\n",
    "21. Provjerite sadrži li varijabla `niz5` paran broj znakova.\n",
    "22. Provjerite nalazi li se znak `'g'` u varijabli `niz1`.\n",
    "23. Provjerite nalazi li se podniz `'jo'` u varijabli `niz1`.\n",
    "24. Ispišite varijablu `niz4` velikim slovima.\n",
    "25. U varijabli `niz1` zamijenite znak `'k'`sa znakom `'K'`.\n",
    "26. Iz varijable `niz5` uklonite bjeline s početka i kraja niza."
   ]
  },
  {
   "cell_type": "markdown",
   "metadata": {
    "collapsed": true
   },
   "source": [
    "## 6.1.4. Zadaci iz poglavlja \"Rad s listama\" (1.10. poglavlje)\n",
    "\n",
    "27. Iz varijable `niz1` stvorite listu odvajanjem elemenata razmakom `' '`.\n",
    "28. Pohranite vrijednost iz prethodnog zadatka u varijablu `lista`. Stvorite novi niz iz varijable `lista` spajanjem elemenata prelaskom u novi red `\\n`.\n",
    "29. Iz varijable `niz4` stvorite listu odvajanjem elemenata tabulatorom `'\\t'`.\n",
    "30. U varijablu `lista1` pohranite listu `['jedan','dva','tri']`.\n",
    "31. U varijablu `lista2` pohranite listu s četiri elementa različitih tipova podataka.\n",
    "32. U varijablu `lista3` pohranite praznu listu.\n",
    "33. Iz varijable `lista1` indeksirajte prvo slovo posljednjeg elementa.\n",
    "34. U varijablu `lista4` spojite varijable `lista1` i `lista2` te izračunajte duljinu novonastale liste.\n",
    "35. Iz varijable `lista2` promijenite predzadnji element liste.\n",
    "36. U varijablu `lista1` dodajte elemente `4` te `'pet'`.\n",
    "37. U varijablu `lista1` dodajte na predzadnje mjesto element `'uljez'`."
   ]
  },
  {
   "cell_type": "markdown",
   "metadata": {
    "collapsed": true
   },
   "source": [
    "## 6.1.5. Zadaci iz poglavlja \"Kontrola tijeka\" (1.11. poglavlje)\n",
    "\n",
    "38. U varijablu `ime` pohranite svoje ime. Ispišite poruku na ekran ovisno o tome sadrži li ime paran ili neparan broj znakova (npr. “Ime Maja sadrži paran broj znakova”).\n",
    "39. Ispišite poruku počinje li ime samoglasnikom ili suglasnikom. Isto učinite s posljednjim slovom imena.\n",
    "40. Prođite kroz sva slova imena i izračunajte broj samoglasnika.\n",
    "41. Izračunajte omjer suglasnika i samoglasnika (broj_suglasnika/broj_samoglasnika).\n",
    "42. Definirajte listu brojčanih vrijednosti od 3 do 6 i izračunajte sumu tih vrijednosti (iteriranjem kroz listu).\n",
    "43. Izračunajte sumu parnih brojčanih vrijednosti.\n",
    "44. Izračunajte sumu vrijednosti djeljivih s 3.\n",
    "45. Definirajte listu nizova znakova. Stvorite novi niz znakova koji sadrži prvi znak svakog elementa liste. Na primjer, iz liste `['dan','mjesec','godina']`, niz znakova je `'dmg'`.\n",
    "46. Stvorite novi niz znakova koji sadrži:\n",
    "    1. prvi znak elementa liste ako je duljina elementa parna, odnosno\n",
    "    2. posljednji znak elementa liste ako je duljina elementa neparna. Na primjer, iz liste `['dan','mjesec','godina']`, niz znakova je `'nmg'`.\n",
    "47. Stvorite novu listu koja sadrži samo elemente originalne liste čija je duljina veća od 3."
   ]
  },
  {
   "cell_type": "markdown",
   "metadata": {
    "collapsed": true
   },
   "source": [
    "## 6.1.6. Zadaci iz poglavlja \"Rad s datotekama\" (2. poglavlje)\n",
    "\n",
    "48. "
   ]
  },
  {
   "cell_type": "code",
   "execution_count": null,
   "metadata": {
    "collapsed": true
   },
   "outputs": [],
   "source": []
  },
  {
   "cell_type": "code",
   "execution_count": null,
   "metadata": {
    "collapsed": true
   },
   "outputs": [],
   "source": []
  },
  {
   "cell_type": "code",
   "execution_count": null,
   "metadata": {
    "collapsed": true
   },
   "outputs": [],
   "source": []
  }
 ],
 "metadata": {
  "anaconda-cloud": {},
  "kernelspec": {
   "display_name": "Python [default]",
   "language": "python",
   "name": "python2"
  },
  "language_info": {
   "codemirror_mode": {
    "name": "ipython",
    "version": 2
   },
   "file_extension": ".py",
   "mimetype": "text/x-python",
   "name": "python",
   "nbconvert_exporter": "python",
   "pygments_lexer": "ipython2",
   "version": "2.7.12"
  }
 },
 "nbformat": 4,
 "nbformat_minor": 0
}
