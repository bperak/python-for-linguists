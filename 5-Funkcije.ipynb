{
 "cells": [
  {
   "cell_type": "markdown",
   "metadata": {},
   "source": [
    "# 5. Funkcije"
   ]
  },
  {
   "cell_type": "markdown",
   "metadata": {},
   "source": [
    "Do sada smo koristili funkcije, no samo one unaprijed definirane u *Pythonu* poput funkcije `float()`, `len()` i slično. U ovom ćemo poglavlju naučiti pisati vlastite funkcije i to iz dva važna razloga:\n",
    "1. organizacija koda koji rješava neki problem funkcijama čini kod bitno preglednijim te\n",
    "2. ono izrazito povećava ponovnu upotrebljivost koda, tj. omogućuje da ne moramo uvijek nanovo pisati rješenje nekog problema."
   ]
  },
  {
   "cell_type": "markdown",
   "metadata": {},
   "source": [
    "Kako se funkcije pišu vidjet ćemo najlakše na primjeru."
   ]
  },
  {
   "cell_type": "code",
   "execution_count": 24,
   "metadata": {
    "collapsed": true
   },
   "outputs": [],
   "source": [
    "def uvecaj(broj):\n",
    "    return broj+1"
   ]
  },
  {
   "cell_type": "markdown",
   "metadata": {},
   "source": [
    "Ovdje smo definirali (`def`) novu funkciju imena `uvecaj` koja prima jedan argument (`(broj)`) te koja vraća (`return`) taj argument uvećan za jedan (`broj +1`). Iz tijela funkcije vidljivo je da argument mora biti brojčana vrijednost. Kako je *Python* dinamički tipiziran jezik, tj. kako se tip podataka određuje tijekom izvršavanja koda, nije moguće, odnosno potrebno ograničavati tip podataka koji se funkciji pruža kao argument."
   ]
  },
  {
   "cell_type": "markdown",
   "metadata": {},
   "source": [
    "Pogledajmo kako bi napisali funkciju koja prebrojava broj samoglasnika u nekom Unicode nizu znakova:"
   ]
  },
  {
   "cell_type": "code",
   "execution_count": 29,
   "metadata": {
    "collapsed": true
   },
   "outputs": [],
   "source": [
    "def broj_samoglasnika(niz_znakova):\n",
    "    rezultat=0\n",
    "    for znak in niz_znakova:\n",
    "        if znak.lower() in 'aeiou':\n",
    "            rezultat+=1"
   ]
  },
  {
   "cell_type": "markdown",
   "metadata": {},
   "source": [
    "U većini funkcija računamo rješenje nekog problema (u ovom slučaju broj samoglasnika u nizu znakova) te na kraju izračuna konačnu vrijednost vraćamo koristeći rezerviranu riječ `return`. Funkcija u ovom primjeru kao argument prima niz znakova (`niz_znakova`), a vraća cjelobrojnu vrijednost (`rezultat`) koja odgovara broju samoglasnika u tom nizu znakova."
   ]
  },
  {
   "cell_type": "markdown",
   "metadata": {},
   "source": [
    "Na sljedeći način ćemo upotrijebiti dvije napisane funkcije:"
   ]
  },
  {
   "cell_type": "code",
   "execution_count": 26,
   "metadata": {
    "collapsed": false
   },
   "outputs": [
    {
     "name": "stdout",
     "output_type": "stream",
     "text": [
      "24\n"
     ]
    }
   ],
   "source": [
    "print uvecaj(23)"
   ]
  },
  {
   "cell_type": "code",
   "execution_count": 32,
   "metadata": {
    "collapsed": false
   },
   "outputs": [
    {
     "name": "stdout",
     "output_type": "stream",
     "text": [
      "7\n"
     ]
    }
   ],
   "source": [
    "print broj_samoglasnika('Ovo je niz znakova.')"
   ]
  },
  {
   "cell_type": "markdown",
   "metadata": {},
   "source": [
    "U prvom primjeru smo broj `23` uvećali za jedan, a u drugom smo izračunali broj samoglasnika u nizu `Ovo je niz znakova.`."
   ]
  },
  {
   "cell_type": "markdown",
   "metadata": {},
   "source": [
    "U nastavku ćemo napisati dvije funkcije za računanje frekvencijske distribucije te njeno sortiranje. Oba smo postupka upoznali u poglavlju o rječnicima, no sada ćemo ih zapisati kao funkcije."
   ]
  },
  {
   "cell_type": "markdown",
   "metadata": {},
   "source": [
    "Prva je funkcija za računanje frekvencijske distribucije:"
   ]
  },
  {
   "cell_type": "code",
   "execution_count": 33,
   "metadata": {
    "collapsed": false
   },
   "outputs": [],
   "source": [
    "def frek_distr(iterabilni):\n",
    "    rjecnik={}\n",
    "    for element in iterabilni:\n",
    "        rjecnik[element]=rjecnik.get(element,0)+1\n",
    "    return rjecnik"
   ]
  },
  {
   "cell_type": "markdown",
   "metadata": {},
   "source": [
    "Funkcija `frek_distr` kao argument prima neki iterabilni objekt `iterabilni`. U našem slučaju će to najčešće biti niz znakova te nešto kasnije i lista riječi iz nizova znakova. Zatim stvara prazan rječnik (`rjecnik={}`) koji će sadržavati pojave i njihove vrijednosti. Nakon toga `for` petljom iterira kroz iterabilni objekt (niz znakova ili lista) (`for element in iterabilni`) te računa u novostvorenom rječniku koliko se puta pojavila određena vrijednost, odnosno računa frekvencijsku distribuciju (`rjecnik[element]=rjecnik.get(element,0)+1`). Konačno vraća taj novostvoreni rječnik s uređenim parovima (pojava, broj pojavljivanja) (`return rjecnik`)."
   ]
  },
  {
   "cell_type": "markdown",
   "metadata": {},
   "source": [
    "Druga funkcija sortira frekvencijsku distribuciju:"
   ]
  },
  {
   "cell_type": "code",
   "execution_count": 34,
   "metadata": {
    "collapsed": true
   },
   "outputs": [],
   "source": [
    "def sortiraj_distr(rjecnik):\n",
    "    return sorted(rjecnik.items(),key=lambda x:-x[1])"
   ]
  },
  {
   "cell_type": "markdown",
   "metadata": {},
   "source": [
    "Funkcija `sortiraj_distr` kao argument prima rječnik (`rjecnik`) te vraća listu parova sortiranu po drugoj vrijednosti para (`return sorted(rjecnik.items(),key=lambda x:-x[1])`). Ta će nam funkcija trebati kad ćemo htjeti napraviti uvid u najčešće ili pak najrjeđe događaje u frekvencijskoj distribuciji."
   ]
  },
  {
   "cell_type": "markdown",
   "metadata": {},
   "source": [
    "Na primjer, obje funkcije primijenit ćemo na sljedeći način:"
   ]
  },
  {
   "cell_type": "code",
   "execution_count": 35,
   "metadata": {
    "collapsed": false
   },
   "outputs": [
    {
     "name": "stdout",
     "output_type": "stream",
     "text": [
      "{'a': 2, 'g': 2, 'i': 3, 'j': 1, 'l': 2, 'o': 5, 'n': 2, 'r': 2, 't': 1}\n",
      "[('o', 5), ('i', 3), ('a', 2), ('g', 2), ('l', 2), ('n', 2), ('r', 2), ('j', 1), ('t', 1)]\n"
     ]
    }
   ],
   "source": [
    "niz_znakova='otorinolaringologija'\n",
    "fd=frek_distr(niz_znakova)\n",
    "print fd\n",
    "print sortiraj_distr(fd)"
   ]
  },
  {
   "cell_type": "markdown",
   "metadata": {},
   "source": [
    "Prednost ovakvog rješenja je, kako smo na početku ovog poglavlja i rekli, ta što je čitljivost posljednjeg koda bitno veća te ta što nismo nanovo morali definirati rješenje ta dva problema kao što to nećemo morati učiniti ni ubuduće."
   ]
  },
  {
   "cell_type": "markdown",
   "metadata": {},
   "source": [
    "Osim što možemo računati frekvencijsku distribuciju znakova u nizu, možemo izračunati i frekvencijsku distribuciju pojavnica. Prvo ćemo napisati funkciju za opojavničenje nekog niza znakova:"
   ]
  },
  {
   "cell_type": "code",
   "execution_count": 36,
   "metadata": {
    "collapsed": true
   },
   "outputs": [],
   "source": [
    "def opojavnici(niz):\n",
    "    import re\n",
    "    return re.findall(r'\\w+',niz,re.UNICODE)"
   ]
  },
  {
   "cell_type": "markdown",
   "metadata": {},
   "source": [
    "Funkcija `opojavnici` kao argument uzima neki niz znakova `niz`. Zatim učitava modul za regularne izraze `re`. Konačno, vraća sve Unicode alfanumeričke znakove.\n",
    "\n",
    "Ove tri funkcije predstavljaju osnovne alate za obrade.\n",
    "\n",
    "Na sljedeći ćemo način opojavničiti neki niz znakova, izračunati frekvencijsku distribuciju pojavnica, sortirati ih te ispisati sortiranu listu:"
   ]
  },
  {
   "cell_type": "code",
   "execution_count": 37,
   "metadata": {
    "collapsed": false
   },
   "outputs": [
    {
     "name": "stdout",
     "output_type": "stream",
     "text": [
      "[('biti', 2), ('ne', 1), ('ili', 1)]\n"
     ]
    }
   ],
   "source": [
    "pojavnice=opojavnici('biti ili ne biti')\n",
    "fd=frek_distr(pojavnice)\n",
    "sd=sortiraj_distr(fd)\n",
    "print sd"
   ]
  },
  {
   "cell_type": "markdown",
   "metadata": {},
   "source": [
    "U nastavku ćemo pokrenuti funkcije nad datotekom `datoteka.txt` te ispisati sortiranu frekvencijsku distribuciju znakova i frekvencijsku distribuciju pojavnica."
   ]
  },
  {
   "cell_type": "code",
   "execution_count": 38,
   "metadata": {
    "collapsed": false
   },
   "outputs": [
    {
     "name": "stdout",
     "output_type": "stream",
     "text": [
      "[(u' ', 13), (u'e', 8), (u'o', 8), (u'r', 6), (u'd', 5), (u'.', 5), (u'v', 5), (u'j', 4), (u'i', 3), (u'\\n', 2), (u'g', 1), (u'l', 1), (u'p', 1), (u'3', 1), (u'u', 1), (u'2', 1), (u'?', 1)]\n",
      "[(u'je', 4), (u'ovo', 4), (u'red', 4), (u'prvi', 1), (u'3', 1), (u'li', 1), (u'drugi', 1), (u'2', 1)]\n"
     ]
    }
   ],
   "source": [
    "dat=open('datoteka.txt').read().decode('utf8').lower()\n",
    "pojavnice=opojavnici(dat)\n",
    "fd_znak=frek_distr(dat)\n",
    "fd_pojavnica=frek_distr(pojavnice)\n",
    "sd_znak=sortiraj_distr(fd_znak)\n",
    "sd_pojavnica=sortiraj_distr(fd_pojavnica)\n",
    "print sd_znak\n",
    "print sd_pojavnica"
   ]
  }
 ],
 "metadata": {
  "anaconda-cloud": {},
  "kernelspec": {
   "display_name": "Python [default]",
   "language": "python",
   "name": "python2"
  },
  "language_info": {
   "codemirror_mode": {
    "name": "ipython",
    "version": 2
   },
   "file_extension": ".py",
   "mimetype": "text/x-python",
   "name": "python",
   "nbconvert_exporter": "python",
   "pygments_lexer": "ipython2",
   "version": "2.7.12"
  }
 },
 "nbformat": 4,
 "nbformat_minor": 0
}
