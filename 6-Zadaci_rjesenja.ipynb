{
 "cells": [
  {
   "cell_type": "markdown",
   "metadata": {},
   "source": [
    "# 6. Zadaci - rješenja"
   ]
  },
  {
   "cell_type": "markdown",
   "metadata": {
    "collapsed": true
   },
   "source": [
    "# 6.1. Zadaci iz poglavlja \"Osnove programiranja\" (1. poglavlje)"
   ]
  },
  {
   "cell_type": "markdown",
   "metadata": {},
   "source": [
    "## 6.1.1. Zadaci iz poglavlja \"Jednostavni tipovi podataka\" (1.5. poglavlje)"
   ]
  },
  {
   "cell_type": "markdown",
   "metadata": {},
   "source": [
    "**Zadatak 1.** Ispišite jednu rečenicu po izboru."
   ]
  },
  {
   "cell_type": "code",
   "execution_count": 3,
   "metadata": {
    "collapsed": false
   },
   "outputs": [
    {
     "name": "stdout",
     "output_type": "stream",
     "text": [
      "Ispisujem jednu rečenicu po izboru.\n"
     ]
    }
   ],
   "source": [
    "print 'Ispisujem jednu rečenicu po izboru.'"
   ]
  },
  {
   "cell_type": "markdown",
   "metadata": {
    "collapsed": true
   },
   "source": [
    "**Zadatak 2.** U varijablu `broj1` pohranite cjelobrojni tip podatka vrijednosti `15` i ispišite ju."
   ]
  },
  {
   "cell_type": "code",
   "execution_count": 2,
   "metadata": {
    "collapsed": false
   },
   "outputs": [
    {
     "name": "stdout",
     "output_type": "stream",
     "text": [
      "15\n"
     ]
    }
   ],
   "source": [
    "broj1=15\n",
    "print broj1"
   ]
  },
  {
   "cell_type": "markdown",
   "metadata": {
    "collapsed": true
   },
   "source": [
    "**Zadatak 3.** U varijablu `broj2` pohranite realni tip podatka vrijednosti `5.05` i ispišite ju."
   ]
  },
  {
   "cell_type": "code",
   "execution_count": 3,
   "metadata": {
    "collapsed": false
   },
   "outputs": [
    {
     "name": "stdout",
     "output_type": "stream",
     "text": [
      "5.05\n"
     ]
    }
   ],
   "source": [
    "broj2=5.05\n",
    "print broj2"
   ]
  },
  {
   "cell_type": "markdown",
   "metadata": {
    "collapsed": true
   },
   "source": [
    "**Zadatak 4.** U varijablu `broj3` pohranite realni tip podatka vrijednost `-7.89` i ispišite ju."
   ]
  },
  {
   "cell_type": "code",
   "execution_count": 4,
   "metadata": {
    "collapsed": false
   },
   "outputs": [
    {
     "name": "stdout",
     "output_type": "stream",
     "text": [
      "-7.89\n"
     ]
    }
   ],
   "source": [
    "broj3=-7.89\n",
    "print broj3"
   ]
  },
  {
   "cell_type": "markdown",
   "metadata": {},
   "source": [
    "**Zadatak 5.** U varijablu `niz1` pohranite niz znakova `'Nitko ne očekuje španjolsku inkviziciju.'` i ispišite ju."
   ]
  },
  {
   "cell_type": "code",
   "execution_count": 5,
   "metadata": {
    "collapsed": false
   },
   "outputs": [
    {
     "name": "stdout",
     "output_type": "stream",
     "text": [
      "Nitko ne očekuje španjolsku inkviziciju.\n"
     ]
    }
   ],
   "source": [
    "niz1='Nitko ne očekuje španjolsku inkviziciju.'\n",
    "print niz1"
   ]
  },
  {
   "cell_type": "markdown",
   "metadata": {},
   "source": [
    "**Zadatak 6.** U varijablu `niz2` pohranite niz znakova `'5.05'` i ispišite ju."
   ]
  },
  {
   "cell_type": "code",
   "execution_count": 6,
   "metadata": {
    "collapsed": false
   },
   "outputs": [
    {
     "name": "stdout",
     "output_type": "stream",
     "text": [
      "5.05\n"
     ]
    }
   ],
   "source": [
    "niz2='5.05'\n",
    "print niz2"
   ]
  },
  {
   "cell_type": "markdown",
   "metadata": {},
   "source": [
    "**Zadatak 7.** U varijablu `niz3` pohranite prazan niz znakova i ispišite ju."
   ]
  },
  {
   "cell_type": "code",
   "execution_count": 7,
   "metadata": {
    "collapsed": false
   },
   "outputs": [
    {
     "name": "stdout",
     "output_type": "stream",
     "text": [
      "\n"
     ]
    }
   ],
   "source": [
    "niz3=''\n",
    "print niz3"
   ]
  },
  {
   "cell_type": "markdown",
   "metadata": {},
   "source": [
    "**Zadatak 8.** Indeksirajte prvi znak varijable `niz1`."
   ]
  },
  {
   "cell_type": "code",
   "execution_count": 10,
   "metadata": {
    "collapsed": false
   },
   "outputs": [
    {
     "data": {
      "text/plain": [
       "'N'"
      ]
     },
     "execution_count": 10,
     "metadata": {},
     "output_type": "execute_result"
    }
   ],
   "source": [
    "niz1[0]"
   ]
  },
  {
   "cell_type": "markdown",
   "metadata": {},
   "source": [
    "**Zadatak 9.** Indeksirajte posljednji znak varijable `niz1`."
   ]
  },
  {
   "cell_type": "code",
   "execution_count": 11,
   "metadata": {
    "collapsed": false
   },
   "outputs": [
    {
     "data": {
      "text/plain": [
       "'.'"
      ]
     },
     "execution_count": 11,
     "metadata": {},
     "output_type": "execute_result"
    }
   ],
   "source": [
    "niz1[-1]"
   ]
  },
  {
   "cell_type": "markdown",
   "metadata": {},
   "source": [
    "**Zadatak 10.** Indeksirajte podniz `'.05'` varijable `niz2`."
   ]
  },
  {
   "cell_type": "code",
   "execution_count": 12,
   "metadata": {
    "collapsed": false
   },
   "outputs": [
    {
     "data": {
      "text/plain": [
       "'5.05'"
      ]
     },
     "execution_count": 12,
     "metadata": {},
     "output_type": "execute_result"
    }
   ],
   "source": [
    "niz2[-4:]"
   ]
  },
  {
   "cell_type": "markdown",
   "metadata": {
    "collapsed": true
   },
   "source": [
    "**Zadatak 11.** U varijablu `niz4` pohranite niz znakova `'ime\\tprezime\\tadresa'` i ispišite ju."
   ]
  },
  {
   "cell_type": "code",
   "execution_count": 8,
   "metadata": {
    "collapsed": false
   },
   "outputs": [
    {
     "name": "stdout",
     "output_type": "stream",
     "text": [
      "ime\tprezime\tadresa\n"
     ]
    }
   ],
   "source": [
    "niz4='ime\\tprezime\\tadresa'\n",
    "print niz4"
   ]
  },
  {
   "cell_type": "markdown",
   "metadata": {
    "collapsed": true
   },
   "source": [
    "**Zadatak 12.** U varijablu `niz5` pohranite niz znakova `'prvi red\\ndrugi red\\n3. red\\n'`."
   ]
  },
  {
   "cell_type": "code",
   "execution_count": 9,
   "metadata": {
    "collapsed": false
   },
   "outputs": [
    {
     "name": "stdout",
     "output_type": "stream",
     "text": [
      "prvi red\n",
      "drugi red\n",
      "3. red\n",
      "\n"
     ]
    }
   ],
   "source": [
    "niz5='prvi red\\ndrugi red\\n3. red\\n'\n",
    "print niz5"
   ]
  },
  {
   "cell_type": "markdown",
   "metadata": {
    "collapsed": true
   },
   "source": [
    "## 6.1.2. Zadaci iz poglavlja \"Operatori\" (1.7. poglavlje)"
   ]
  },
  {
   "cell_type": "markdown",
   "metadata": {},
   "source": [
    "**Zadatak 13.** Provjerite je li varijabla `broj2` veća od varijable `broj1`."
   ]
  },
  {
   "cell_type": "code",
   "execution_count": 10,
   "metadata": {
    "collapsed": false
   },
   "outputs": [
    {
     "data": {
      "text/plain": [
       "False"
      ]
     },
     "execution_count": 10,
     "metadata": {},
     "output_type": "execute_result"
    }
   ],
   "source": [
    "broj2>broj1"
   ]
  },
  {
   "cell_type": "markdown",
   "metadata": {},
   "source": [
    "**Zadatak 14.** Podijelite vrijednost varijable `broj1` sa `2` te ispišite novonastalu realnu vrijednost."
   ]
  },
  {
   "cell_type": "code",
   "execution_count": 16,
   "metadata": {
    "collapsed": false
   },
   "outputs": [
    {
     "name": "stdout",
     "output_type": "stream",
     "text": [
      "7.5\n"
     ]
    }
   ],
   "source": [
    "print broj1/2."
   ]
  },
  {
   "cell_type": "markdown",
   "metadata": {},
   "source": [
    "**Zadatak 15.** Izračunajte ostatak dijeljenja vrijednosti varijable `broj1` sa `2`."
   ]
  },
  {
   "cell_type": "code",
   "execution_count": 17,
   "metadata": {
    "collapsed": false
   },
   "outputs": [
    {
     "name": "stdout",
     "output_type": "stream",
     "text": [
      "1\n"
     ]
    }
   ],
   "source": [
    "print broj1%2"
   ]
  },
  {
   "cell_type": "markdown",
   "metadata": {},
   "source": [
    "**Zadatak 16.** Provjerite je li izraz `(6+5)%3` jednak izrazu `1+5/3`."
   ]
  },
  {
   "cell_type": "code",
   "execution_count": 14,
   "metadata": {
    "collapsed": false
   },
   "outputs": [
    {
     "data": {
      "text/plain": [
       "True"
      ]
     },
     "execution_count": 14,
     "metadata": {},
     "output_type": "execute_result"
    }
   ],
   "source": [
    "(6+5)%3==1+5/3"
   ]
  },
  {
   "cell_type": "markdown",
   "metadata": {},
   "source": [
    "**Zadatak 17.** Provjerite je li izraz `2**3` različit od izraza `116/14.5`."
   ]
  },
  {
   "cell_type": "code",
   "execution_count": 15,
   "metadata": {
    "collapsed": false
   },
   "outputs": [
    {
     "data": {
      "text/plain": [
       "False"
      ]
     },
     "execution_count": 15,
     "metadata": {},
     "output_type": "execute_result"
    }
   ],
   "source": [
    "2**3!=116/14.5"
   ]
  },
  {
   "cell_type": "markdown",
   "metadata": {
    "collapsed": true
   },
   "source": [
    "## 6.1.3. Zadaci iz poglavlja \"Rad s nizovima znakova\" (1.9. poglavlje)"
   ]
  },
  {
   "cell_type": "markdown",
   "metadata": {},
   "source": [
    "**Zadatak 18.** Ispišite poruku na ekran `'Rezultat dijenjenja iz 14. zadatka je 7.5, a cijeli dio tog izraza je 7.'`. Brojčane vrijednosti ispišite iz objekta odnosno varijable `broj1`. Za ispis druge vrijednosti trebate funkcijom promijeniti tip podatka."
   ]
  },
  {
   "cell_type": "code",
   "execution_count": 11,
   "metadata": {
    "collapsed": false
   },
   "outputs": [
    {
     "name": "stdout",
     "output_type": "stream",
     "text": [
      "Rezultat dijenjenja iz 14. zadatka je 7.5, a cijeli dio tog izraza je 7.\n"
     ]
    }
   ],
   "source": [
    "print 'Rezultat dijenjenja iz 14. zadatka je '+str(broj1/2.)+', a cijeli dio tog izraza je '+str(int(broj1/2))+'.'"
   ]
  },
  {
   "cell_type": "markdown",
   "metadata": {
    "collapsed": true
   },
   "source": [
    "**Zadatak 19.** U jednu varijablu pohranite svoju godinu rođenja, a u drugu varijablu prošlu godinu. Ispišite poruku `'Prošle ste godine navršili godina: x'`. Na mjestu znaka `'x'` trebate izračunati broj godina pomoću varijabli. Na kraju promijenite vrijednost varijable rođenja te ponovite ispis."
   ]
  },
  {
   "cell_type": "code",
   "execution_count": 12,
   "metadata": {
    "collapsed": false
   },
   "outputs": [
    {
     "name": "stdout",
     "output_type": "stream",
     "text": [
      "Prošle ste godine navršili godina: 21\n"
     ]
    }
   ],
   "source": [
    "g_rodjenja=1995\n",
    "g_prosla=2016\n",
    "print 'Prošle ste godine navršili godina: '+str(g_prosla-g_rodjenja)"
   ]
  },
  {
   "cell_type": "markdown",
   "metadata": {},
   "source": [
    "**Zadatak 20.** Izračunajte duljinu varijable `niz4` te vrijednost ispišite u obliku poruke."
   ]
  },
  {
   "cell_type": "code",
   "execution_count": 13,
   "metadata": {
    "collapsed": false
   },
   "outputs": [
    {
     "name": "stdout",
     "output_type": "stream",
     "text": [
      "Dužina niza jest 18.\n"
     ]
    }
   ],
   "source": [
    "print 'Dužina niza jest '+str(len(niz4))+'.'"
   ]
  },
  {
   "cell_type": "markdown",
   "metadata": {},
   "source": [
    "**Zadatak 21.** Provjerite sadrži li varijabla `niz5` paran broj znakova."
   ]
  },
  {
   "cell_type": "code",
   "execution_count": 23,
   "metadata": {
    "collapsed": false
   },
   "outputs": [
    {
     "data": {
      "text/plain": [
       "True"
      ]
     },
     "execution_count": 23,
     "metadata": {},
     "output_type": "execute_result"
    }
   ],
   "source": [
    "len(niz5)%2==0"
   ]
  },
  {
   "cell_type": "markdown",
   "metadata": {},
   "source": [
    "**Zadatak 22.** Provjerite nalazi li se znak `'g'` u varijabli `niz1`."
   ]
  },
  {
   "cell_type": "code",
   "execution_count": 24,
   "metadata": {
    "collapsed": false
   },
   "outputs": [
    {
     "data": {
      "text/plain": [
       "False"
      ]
     },
     "execution_count": 24,
     "metadata": {},
     "output_type": "execute_result"
    }
   ],
   "source": [
    "'g' in niz1"
   ]
  },
  {
   "cell_type": "markdown",
   "metadata": {},
   "source": [
    "**Zadatak 23.** Provjerite nalazi li se podniz `'jo'` u varijabli `niz1`."
   ]
  },
  {
   "cell_type": "code",
   "execution_count": 25,
   "metadata": {
    "collapsed": false
   },
   "outputs": [
    {
     "data": {
      "text/plain": [
       "True"
      ]
     },
     "execution_count": 25,
     "metadata": {},
     "output_type": "execute_result"
    }
   ],
   "source": [
    "'jo' in niz1"
   ]
  },
  {
   "cell_type": "markdown",
   "metadata": {},
   "source": [
    "**Zadatak 24.** Ispišite varijablu `niz4` velikim slovima."
   ]
  },
  {
   "cell_type": "code",
   "execution_count": 26,
   "metadata": {
    "collapsed": false
   },
   "outputs": [
    {
     "name": "stdout",
     "output_type": "stream",
     "text": [
      "IME\tPREZIME\tADRESA\n"
     ]
    }
   ],
   "source": [
    "print niz4.upper()"
   ]
  },
  {
   "cell_type": "markdown",
   "metadata": {},
   "source": [
    "**Zadatak 25.** U varijabli `niz1` zamijenite znak `'k'`sa znakom `'K'`."
   ]
  },
  {
   "cell_type": "code",
   "execution_count": 27,
   "metadata": {
    "collapsed": false
   },
   "outputs": [
    {
     "name": "stdout",
     "output_type": "stream",
     "text": [
      "NitKo ne očeKuje španjolsKu inKviziciju.\n"
     ]
    }
   ],
   "source": [
    "print niz1.replace('k','K')"
   ]
  },
  {
   "cell_type": "markdown",
   "metadata": {},
   "source": [
    "**Zadatak 26.** Iz varijable `niz5` uklonite bjeline s početka i kraja niza."
   ]
  },
  {
   "cell_type": "code",
   "execution_count": 28,
   "metadata": {
    "collapsed": false
   },
   "outputs": [
    {
     "name": "stdout",
     "output_type": "stream",
     "text": [
      "prvi red\n",
      "drugi red\n",
      "3. red\n"
     ]
    }
   ],
   "source": [
    "print niz5.strip()"
   ]
  },
  {
   "cell_type": "markdown",
   "metadata": {
    "collapsed": true
   },
   "source": [
    "## 6.1.4. Zadaci iz poglavlja \"Rad s listama\" (1.10. poglavlje)"
   ]
  },
  {
   "cell_type": "markdown",
   "metadata": {},
   "source": [
    "**Zadatak 27.** Iz varijable `niz1` stvorite listu odvajanjem elemenata razmakom `' '`."
   ]
  },
  {
   "cell_type": "code",
   "execution_count": 29,
   "metadata": {
    "collapsed": false
   },
   "outputs": [
    {
     "name": "stdout",
     "output_type": "stream",
     "text": [
      "['Nitko', 'ne', 'o\\xc4\\x8dekuje', '\\xc5\\xa1panjolsku', 'inkviziciju.']\n"
     ]
    }
   ],
   "source": [
    "print niz1.split(' ')"
   ]
  },
  {
   "cell_type": "markdown",
   "metadata": {
    "collapsed": true
   },
   "source": [
    "**Zadatak 28.** Pohranite vrijednost iz prethodnog zadatka u varijablu `lista`. Stvorite novi niz iz varijable `lista` spajanjem elemenata prelaskom u novi red `\\n`."
   ]
  },
  {
   "cell_type": "code",
   "execution_count": 25,
   "metadata": {
    "collapsed": false
   },
   "outputs": [
    {
     "name": "stdout",
     "output_type": "stream",
     "text": [
      "Nitko\n",
      "ne\n",
      "očekuje\n",
      "španjolsku\n",
      "inkviziciju.\n"
     ]
    }
   ],
   "source": [
    "lista=niz1.split(' ')\n",
    "novi_niz='\\n'.join(lista)\n",
    "print novi_niz"
   ]
  },
  {
   "cell_type": "markdown",
   "metadata": {
    "collapsed": true
   },
   "source": [
    "**Zadatak 29.** Iz varijable `niz4` stvorite listu odvajanjem elemenata tabulatorom `'\\t'`."
   ]
  },
  {
   "cell_type": "code",
   "execution_count": 26,
   "metadata": {
    "collapsed": false
   },
   "outputs": [
    {
     "name": "stdout",
     "output_type": "stream",
     "text": [
      "['ime', 'prezime', 'adresa']\n"
     ]
    }
   ],
   "source": [
    "print niz4.split('\\t')"
   ]
  },
  {
   "cell_type": "markdown",
   "metadata": {
    "collapsed": true
   },
   "source": [
    "**Zadatak 30.** U varijablu `lista1` pohranite listu `['jedan','dva','tri']`."
   ]
  },
  {
   "cell_type": "code",
   "execution_count": 27,
   "metadata": {
    "collapsed": false
   },
   "outputs": [
    {
     "name": "stdout",
     "output_type": "stream",
     "text": [
      "['jedan', 'dva', 'tri']\n"
     ]
    }
   ],
   "source": [
    "lista1=['jedan','dva','tri']\n",
    "print lista1"
   ]
  },
  {
   "cell_type": "markdown",
   "metadata": {
    "collapsed": true
   },
   "source": [
    "**Zadatak 31.** U varijablu `lista2` pohranite listu s četiri elementa različitih tipova podataka."
   ]
  },
  {
   "cell_type": "code",
   "execution_count": 28,
   "metadata": {
    "collapsed": false
   },
   "outputs": [
    {
     "name": "stdout",
     "output_type": "stream",
     "text": [
      "[1, 'dva', 6.9, ['lista', 'u', 'listi']]\n"
     ]
    }
   ],
   "source": [
    "lista2=[1,'dva',6.9,['lista','u','listi']]\n",
    "print lista2"
   ]
  },
  {
   "cell_type": "markdown",
   "metadata": {
    "collapsed": true
   },
   "source": [
    "**Zadatak 32.** U varijablu `lista3` pohranite praznu listu."
   ]
  },
  {
   "cell_type": "code",
   "execution_count": 29,
   "metadata": {
    "collapsed": false
   },
   "outputs": [
    {
     "name": "stdout",
     "output_type": "stream",
     "text": [
      "[]\n"
     ]
    }
   ],
   "source": [
    "lista3=[]\n",
    "print lista3"
   ]
  },
  {
   "cell_type": "markdown",
   "metadata": {
    "collapsed": true
   },
   "source": [
    "**Zadatak 33.** Iz varijable `lista1` indeksirajte prvo slovo posljednjeg elementa."
   ]
  },
  {
   "cell_type": "code",
   "execution_count": 30,
   "metadata": {
    "collapsed": false
   },
   "outputs": [
    {
     "name": "stdout",
     "output_type": "stream",
     "text": [
      "t\n"
     ]
    }
   ],
   "source": [
    "print lista1[-1][0]"
   ]
  },
  {
   "cell_type": "markdown",
   "metadata": {
    "collapsed": true
   },
   "source": [
    "**Zadatak 34.** U varijablu `lista4` spojite varijable `lista1` i `lista2` te izračunajte duljinu novonastale liste."
   ]
  },
  {
   "cell_type": "code",
   "execution_count": 31,
   "metadata": {
    "collapsed": false
   },
   "outputs": [
    {
     "name": "stdout",
     "output_type": "stream",
     "text": [
      "['jedan', 'dva', 'tri', 1, 'dva', 6.9, ['lista', 'u', 'listi']]\n"
     ]
    }
   ],
   "source": [
    "lista4=lista1+lista2\n",
    "print lista4"
   ]
  },
  {
   "cell_type": "markdown",
   "metadata": {},
   "source": [
    "**Zadatak 35.** Iz varijable `lista2` promijenite predzadnji element liste."
   ]
  },
  {
   "cell_type": "code",
   "execution_count": 32,
   "metadata": {
    "collapsed": false
   },
   "outputs": [
    {
     "name": "stdout",
     "output_type": "stream",
     "text": [
      "[1, 'dva', 'novi element', ['lista', 'u', 'listi']]\n"
     ]
    }
   ],
   "source": [
    "lista2[-2]='novi element'\n",
    "print lista2"
   ]
  },
  {
   "cell_type": "markdown",
   "metadata": {},
   "source": [
    "**Zadatak 36.** U varijablu `lista1` dodajte elemente `4` te `'pet'`."
   ]
  },
  {
   "cell_type": "code",
   "execution_count": 33,
   "metadata": {
    "collapsed": false
   },
   "outputs": [
    {
     "name": "stdout",
     "output_type": "stream",
     "text": [
      "['jedan', 'dva', 'tri', 4, 'pet']\n"
     ]
    }
   ],
   "source": [
    "lista1.append(4)\n",
    "lista1.append('pet')\n",
    "print lista1"
   ]
  },
  {
   "cell_type": "markdown",
   "metadata": {},
   "source": [
    "**Zadatak 37.** U varijablu `lista1` dodajte na predzadnje mjesto element `'uljez'`."
   ]
  },
  {
   "cell_type": "code",
   "execution_count": 34,
   "metadata": {
    "collapsed": false
   },
   "outputs": [
    {
     "name": "stdout",
     "output_type": "stream",
     "text": [
      "['jedan', 'dva', 'tri', 'uljez', 4, 'pet']\n"
     ]
    }
   ],
   "source": [
    "lista1.insert(-2,'uljez')\n",
    "print lista1"
   ]
  },
  {
   "cell_type": "markdown",
   "metadata": {
    "collapsed": true
   },
   "source": [
    "## 6.1.5. Zadaci iz poglavlja \"Kontrola tijeka\" (1.11. poglavlje)"
   ]
  },
  {
   "cell_type": "markdown",
   "metadata": {},
   "source": [
    "**Zadatak 38.** U varijablu `ime` pohranite svoje ime. Ispišite poruku na ekran ovisno o tome sadrži li ime paran ili neparan broj znakova (npr. “Ime Maja sadrži paran broj znakova”)."
   ]
  },
  {
   "cell_type": "code",
   "execution_count": 35,
   "metadata": {
    "collapsed": false
   },
   "outputs": [
    {
     "name": "stdout",
     "output_type": "stream",
     "text": [
      "Ime Nikola sadrži paran broj znakova.\n"
     ]
    }
   ],
   "source": [
    "ime='Nikola'\n",
    "if len(ime)%2==0:\n",
    "    print 'Ime '+ime+' sadrži paran broj znakova.'\n",
    "else:\n",
    "    print 'Ime '+ime+' sadrži neparan broj znakova.'"
   ]
  },
  {
   "cell_type": "markdown",
   "metadata": {},
   "source": [
    "**Zadatak 39.** Ispišite poruku počinje li ime samoglasnikom ili suglasnikom. Isto učinite s posljednjim slovom imena."
   ]
  },
  {
   "cell_type": "code",
   "execution_count": 36,
   "metadata": {
    "collapsed": false
   },
   "outputs": [
    {
     "name": "stdout",
     "output_type": "stream",
     "text": [
      "Ime Emanuela počinje samoglasnikom.\n",
      "Ime Emanuela završava samoglasnikom.\n"
     ]
    }
   ],
   "source": [
    "ime='Emanuela'\n",
    "\n",
    "if ime[0].lower() in 'aeiou':\n",
    "    print 'Ime '+ime+' počinje samoglasnikom.'\n",
    "else:\n",
    "    print 'Ime '+ime+' počinje suglasnikom.'\n",
    "\n",
    "if ime[-1].lower() in 'aeiou':\n",
    "    print 'Ime '+ime+' završava samoglasnikom.'\n",
    "else:\n",
    "    print 'Ime '+ime+' završava suglasnikom.'"
   ]
  },
  {
   "cell_type": "markdown",
   "metadata": {},
   "source": [
    "**Zadatak 40.** Prođite kroz sva slova imena i izračunajte broj samoglasnika."
   ]
  },
  {
   "cell_type": "code",
   "execution_count": 37,
   "metadata": {
    "collapsed": false
   },
   "outputs": [
    {
     "name": "stdout",
     "output_type": "stream",
     "text": [
      "Ime Emanuela sadrži broj samoglasnika: 5.\n"
     ]
    }
   ],
   "source": [
    "ime='Emanuela'\n",
    "\n",
    "broj_samoglasnika=0\n",
    "\n",
    "for znak in ime.lower():\n",
    "    if znak in 'aeiou':\n",
    "        broj_samoglasnika+=1\n",
    "print 'Ime '+ime+' sadrži broj samoglasnika: '+str(broj_samoglasnika)+'.'"
   ]
  },
  {
   "cell_type": "markdown",
   "metadata": {},
   "source": [
    "**Zadatak 41.** Izračunajte omjer suglasnika i samoglasnika (broj_suglasnika/broj_samoglasnika)."
   ]
  },
  {
   "cell_type": "code",
   "execution_count": 39,
   "metadata": {
    "collapsed": false
   },
   "outputs": [
    {
     "name": "stdout",
     "output_type": "stream",
     "text": [
      "Omjer suglasnika i samoglasnika u imenu Emanuela je : 0.6\n"
     ]
    }
   ],
   "source": [
    "ime='Emanuela'\n",
    "\n",
    "broj_samoglasnika=0\n",
    "broj_suglasnika=0\n",
    "\n",
    "for znak in ime.lower():\n",
    "    if znak in 'aeiou':\n",
    "        broj_samoglasnika+=1\n",
    "    else:\n",
    "        broj_suglasnika+=1\n",
    "\n",
    "print 'Omjer suglasnika i samoglasnika u imenu '+ime+' je : '+str(float(broj_suglasnika)/broj_samoglasnika)"
   ]
  },
  {
   "cell_type": "markdown",
   "metadata": {},
   "source": [
    "**Zadatak 42.** Definirajte listu brojčanih vrijednosti od 3 do 6 i izračunajte sumu tih vrijednosti (iteriranjem kroz listu)."
   ]
  },
  {
   "cell_type": "code",
   "execution_count": 40,
   "metadata": {
    "collapsed": false
   },
   "outputs": [
    {
     "name": "stdout",
     "output_type": "stream",
     "text": [
      "18\n"
     ]
    }
   ],
   "source": [
    "lista=[3,4,5,6]\n",
    "\n",
    "suma=0\n",
    "\n",
    "for element in lista:\n",
    "    suma+=element\n",
    "\n",
    "print suma"
   ]
  },
  {
   "cell_type": "markdown",
   "metadata": {},
   "source": [
    "**Zadatak 43.** Izračunajte sumu parnih brojčanih vrijednosti."
   ]
  },
  {
   "cell_type": "code",
   "execution_count": 41,
   "metadata": {
    "collapsed": false
   },
   "outputs": [
    {
     "name": "stdout",
     "output_type": "stream",
     "text": [
      "10\n"
     ]
    }
   ],
   "source": [
    "lista=[3,4,5,6]\n",
    "\n",
    "suma_parnih=0\n",
    "\n",
    "for element in lista:\n",
    "    if element%2==0:\n",
    "        suma_parnih+=element\n",
    "\n",
    "print suma_parnih"
   ]
  },
  {
   "cell_type": "markdown",
   "metadata": {},
   "source": [
    "**Zadatak 44.** Izračunajte sumu vrijednosti djeljivih s 3."
   ]
  },
  {
   "cell_type": "code",
   "execution_count": 42,
   "metadata": {
    "collapsed": false
   },
   "outputs": [
    {
     "name": "stdout",
     "output_type": "stream",
     "text": [
      "9\n"
     ]
    }
   ],
   "source": [
    "lista=[3,4,5,6]\n",
    "\n",
    "suma_3=0\n",
    "\n",
    "for element in lista:\n",
    "    if element%3==0:\n",
    "        suma_3+=element\n",
    "\n",
    "print suma_3"
   ]
  },
  {
   "cell_type": "markdown",
   "metadata": {},
   "source": [
    "**Zadatak 45.** Definirajte listu nizova znakova. Stvorite novi niz znakova koji sadrži prvi znak svakog elementa liste. Na primjer, iz liste `['dan','mjesec','godina']`, niz znakova je `'dmg'`."
   ]
  },
  {
   "cell_type": "code",
   "execution_count": 43,
   "metadata": {
    "collapsed": false
   },
   "outputs": [
    {
     "name": "stdout",
     "output_type": "stream",
     "text": [
      "dmg\n"
     ]
    }
   ],
   "source": [
    "lista=['dan','mjesec','godina']\n",
    "novi_niz=''\n",
    "\n",
    "for element in lista:\n",
    "    novi_niz+=element[0]\n",
    "\n",
    "print novi_niz"
   ]
  },
  {
   "cell_type": "markdown",
   "metadata": {},
   "source": [
    "**Zadatak 46.** Stvorite novi niz znakova koji sadrži:\n",
    "    1. prvi znak elementa liste ako je duljina elementa parna, odnosno\n",
    "    2. posljednji znak elementa liste ako je duljina elementa neparna. Na primjer, iz liste `['dan','mjesec','godina']`, niz znakova je `'nmg'`."
   ]
  },
  {
   "cell_type": "code",
   "execution_count": 44,
   "metadata": {
    "collapsed": false
   },
   "outputs": [
    {
     "name": "stdout",
     "output_type": "stream",
     "text": [
      "nmg\n"
     ]
    }
   ],
   "source": [
    "lista=['dan','mjesec','godina']\n",
    "novi_niz=''\n",
    "\n",
    "for element in lista:\n",
    "    if len(element)%2==0:\n",
    "        novi_niz+=element[0]\n",
    "    else:\n",
    "        novi_niz+=element[-1]\n",
    "\n",
    "print novi_niz"
   ]
  },
  {
   "cell_type": "markdown",
   "metadata": {},
   "source": [
    "**Zadatak 47.** Stvorite novu listu koja sadrži samo elemente originalne liste čija je duljina veća od 3."
   ]
  },
  {
   "cell_type": "code",
   "execution_count": 45,
   "metadata": {
    "collapsed": false
   },
   "outputs": [
    {
     "name": "stdout",
     "output_type": "stream",
     "text": [
      "['mjesec', 'godina']\n"
     ]
    }
   ],
   "source": [
    "lista=['dan','mjesec','godina']\n",
    "nova_lista=[]\n",
    "\n",
    "for element in lista:\n",
    "    if len(element)>3:\n",
    "        nova_lista.append(element)\n",
    "\n",
    "print nova_lista"
   ]
  },
  {
   "cell_type": "markdown",
   "metadata": {
    "collapsed": true
   },
   "source": [
    "## 6.2. Zadaci iz poglavlja \"Rad s datotekama\" (2. poglavlje)"
   ]
  },
  {
   "cell_type": "markdown",
   "metadata": {},
   "source": [
    "**Zadatak 48.** Pročitajte sadržaj datoteke `datoteka.txt`. Izračunajte duljinu teksta."
   ]
  },
  {
   "cell_type": "code",
   "execution_count": 46,
   "metadata": {
    "collapsed": false
   },
   "outputs": [
    {
     "name": "stdout",
     "output_type": "stream",
     "text": [
      "Ovo je prvi red.Je li ovo drugi red?\n",
      "Ovo je 2. red.\n",
      "Ovo je 3. red.\n",
      "66\n"
     ]
    }
   ],
   "source": [
    "dat=open('datoteka.txt','r').read()\n",
    "\n",
    "print dat\n",
    "print len(dat)"
   ]
  },
  {
   "cell_type": "markdown",
   "metadata": {
    "collapsed": true
   },
   "source": [
    "**Zadatak 49.** Izračunajte koliko redova ima `datoteka.txt`."
   ]
  },
  {
   "cell_type": "code",
   "execution_count": 47,
   "metadata": {
    "collapsed": false
   },
   "outputs": [
    {
     "name": "stdout",
     "output_type": "stream",
     "text": [
      "3\n"
     ]
    }
   ],
   "source": [
    "broj_redova=0\n",
    "\n",
    "for red in open('datoteka.txt'):\n",
    "    broj_redova+=1\n",
    "print broj_redova"
   ]
  },
  {
   "cell_type": "markdown",
   "metadata": {},
   "source": [
    "**Zadatak 50.** Izračunajte koliko ima samoglasnika, a koliko suglasnika u datoteci `datoteka.txt`."
   ]
  },
  {
   "cell_type": "code",
   "execution_count": 48,
   "metadata": {
    "collapsed": false
   },
   "outputs": [
    {
     "name": "stdout",
     "output_type": "stream",
     "text": [
      "20\n",
      "46\n"
     ]
    }
   ],
   "source": [
    "broj_samoglasnika=0\n",
    "broj_suglasnika=0\n",
    "\n",
    "for znak in open('datoteka.txt').read().lower():\n",
    "    if znak in 'aeiou':\n",
    "        broj_samoglasnika+=1\n",
    "    else:\n",
    "        broj_suglasnika+=1\n",
    "\n",
    "print broj_samoglasnika\n",
    "print broj_suglasnika"
   ]
  },
  {
   "cell_type": "markdown",
   "metadata": {
    "collapsed": true
   },
   "source": [
    "**Zadatak 51.** Ispišite posljednji znak svakog reda u datoteci `datoteka.txt`."
   ]
  },
  {
   "cell_type": "code",
   "execution_count": 49,
   "metadata": {
    "collapsed": false
   },
   "outputs": [
    {
     "name": "stdout",
     "output_type": "stream",
     "text": [
      "?\n",
      ".\n",
      ".\n"
     ]
    }
   ],
   "source": [
    "for red in open('datoteka.txt'):\n",
    "    print red.strip()[-1]"
   ]
  },
  {
   "cell_type": "markdown",
   "metadata": {
    "collapsed": true
   },
   "source": [
    "**Zadatak 52.** Zapišite proizvoljan tekst od više redaka bez dijakritičkih znakova u neku datoteku (Python kodom, dakle funkcijom open() itd.) te potom pročitajte taj tekst iz datoteke i izračunajte njegovu duljinu."
   ]
  },
  {
   "cell_type": "code",
   "execution_count": 50,
   "metadata": {
    "collapsed": false
   },
   "outputs": [
    {
     "name": "stdout",
     "output_type": "stream",
     "text": [
      "73\n"
     ]
    }
   ],
   "source": [
    "d=open('moj_tekst.txt','w')\n",
    "d.write('neki proizvoljan tekst\\nbez dijakritickih znakova\\n')\n",
    "d.write('treba izracunati\\nduljinu')\n",
    "d.close()\n",
    "\n",
    "print len(open('moj_tekst.txt').read())"
   ]
  },
  {
   "cell_type": "markdown",
   "metadata": {
    "collapsed": true
   },
   "source": [
    "Proučite sadržaj datoteke `primjer.txt` (najbolje pomoću programa Notepad++). predstavlja uzorak rezultata označavanja podataka studenata na kolegiju \"Odabrana poglavlja obrade prirodnog jezika\". Drugi stupac datoteke predstavlja identifikator korisnika, treći stupac o tome je li točan odgovor unaprijed znan (1 je istina, 0 laž) te četvrti podatak je li taj odgovor točan (1 je ponovno istina, 0 laž). Sljedeće zadatke rješavajte na ovoj datoteci.\n",
    "\n",
    "**Zadatak 53.** Izračunajte broj odgovora u uzorku. Broj odgovora jednak je broju redova u datoteci."
   ]
  },
  {
   "cell_type": "code",
   "execution_count": 52,
   "metadata": {
    "collapsed": false
   },
   "outputs": [
    {
     "name": "stdout",
     "output_type": "stream",
     "text": [
      "1645\n"
     ]
    }
   ],
   "source": [
    "broj_odgovora=0\n",
    "\n",
    "for red in open('primjer.txt'):\n",
    "    broj_odgovora+=1\n",
    "\n",
    "print broj_odgovora"
   ]
  },
  {
   "cell_type": "markdown",
   "metadata": {
    "collapsed": true
   },
   "source": [
    "**Zadatak 54.** Izračunajte broj odgovora u uzorku za koje je odgovor unaprijed znan. Iteriranjem kroz datoteku, brojač povećajte za `1` ako treći stupac ima vrijednost `1`."
   ]
  },
  {
   "cell_type": "code",
   "execution_count": 53,
   "metadata": {
    "collapsed": false
   },
   "outputs": [
    {
     "name": "stdout",
     "output_type": "stream",
     "text": [
      "645\n"
     ]
    }
   ],
   "source": [
    "unaprijed_znan=0\n",
    "\n",
    "for red in open('primjer.txt'):\n",
    "    if red.strip().split('\\t')[2]=='1':\n",
    "        unaprijed_znan+=1\n",
    "\n",
    "print unaprijed_znan"
   ]
  },
  {
   "cell_type": "markdown",
   "metadata": {
    "collapsed": true
   },
   "source": [
    "**Zadatak 55.** Izračunajte broj točnih odgovora za koje je odgovor unaprijed znan. Iteriranjem kroz datoteku, brojač povećajte za `1` ako treći stupac ima vrijednost `1` i ako četvrti stupac ima vrijednost `1`."
   ]
  },
  {
   "cell_type": "code",
   "execution_count": 54,
   "metadata": {
    "collapsed": false
   },
   "outputs": [
    {
     "name": "stdout",
     "output_type": "stream",
     "text": [
      "327\n"
     ]
    }
   ],
   "source": [
    "tocni_odgovori=0\n",
    "\n",
    "for red in open('primjer.txt'):\n",
    "    if red.strip().split('\\t')[2]=='1' and red.strip().split('\\t')[3]=='1':\n",
    "        tocni_odgovori+=1\n",
    "\n",
    "print tocni_odgovori"
   ]
  },
  {
   "cell_type": "markdown",
   "metadata": {
    "collapsed": true
   },
   "source": [
    "**Zadatak 56.** Izračunajte postotak točnih odgovora. Iteriranjem kroz datoteku, izračunajte broj svih odgovora (redovi u datoteci) i broj točnih odgovora (četvrti stupac ima vrijednost `1`). Ispišite postotak točnih odgovora."
   ]
  },
  {
   "cell_type": "code",
   "execution_count": 55,
   "metadata": {
    "collapsed": false
   },
   "outputs": [
    {
     "name": "stdout",
     "output_type": "stream",
     "text": [
      "19.8784194529\n"
     ]
    }
   ],
   "source": [
    "broj_odgovora=0\n",
    "tocni_odgovori=0\n",
    "\n",
    "for red in open('primjer.txt'):\n",
    "    broj_odgovora+=1\n",
    "    if red.strip().split('\\t')[3]=='1':\n",
    "        tocni_odgovori+=1\n",
    "\n",
    "print float(tocni_odgovori)/broj_odgovora*100"
   ]
  },
  {
   "cell_type": "markdown",
   "metadata": {
    "collapsed": true
   },
   "source": [
    "**Zadatak 57.** Izračunajte postotak točnih odgovora korisnika s identifikatorom 9 s obzirom na njegove sve odgovore."
   ]
  },
  {
   "cell_type": "code",
   "execution_count": 56,
   "metadata": {
    "collapsed": false
   },
   "outputs": [
    {
     "name": "stdout",
     "output_type": "stream",
     "text": [
      "17.8343949045\n"
     ]
    }
   ],
   "source": [
    "broj_odgovora_9=0\n",
    "tocni_odgovori_9=0\n",
    "\n",
    "for red in open('primjer.txt'):\n",
    "    if red.strip().split('\\t')[1]=='9':\n",
    "        broj_odgovora_9+=1\n",
    "        if red.strip().split('\\t')[3]=='1':\n",
    "            tocni_odgovori_9+=1\n",
    "\n",
    "print float(tocni_odgovori_9)/broj_odgovora_9*100"
   ]
  },
  {
   "cell_type": "markdown",
   "metadata": {
    "collapsed": true
   },
   "source": [
    "Proučite sadržaj datoteka `hr.txt` i `en.txt`. Datoteke su kodirane UTF-8 oblikom kodiranja, jedna predstavlja uzorak teksta pisanog hrvatskim, druga uzorak teksta pisanog engleskim jezikom. Sljedeće zadatke radite nad tim podacima.\n",
    "\n",
    "**Zadatak 58.** Tekst iz datoteke `hr.txt` pročitajte i dekodirajte te prvih 1000 znakova zapišite u datoteku `hr_iso_1000.txt` koristeći ISO-8859-2 kodiranje te u datoteku `hr_utf_1000.txt` koristeći UTF-8 kodiranje. Izračunajte broj znakova bez dekodiranja u obje nove datoteke te provjerite je li on identičan. Ponovite isto, no ovaj put dekodirajući tekst."
   ]
  },
  {
   "cell_type": "code",
   "execution_count": 57,
   "metadata": {
    "collapsed": false
   },
   "outputs": [
    {
     "name": "stdout",
     "output_type": "stream",
     "text": [
      "1027\n",
      "1000\n",
      "1000\n",
      "1000\n",
      "False\n",
      "True\n"
     ]
    }
   ],
   "source": [
    "hr_tekst=open('hr.txt').read().decode('utf8')\n",
    "odsjecak=hr_tekst[:1000]\n",
    "\n",
    "dat_utf=open('hr_utf_1000.txt','w')\n",
    "dat_utf.write(odsjecak.encode('utf8'))\n",
    "dat_utf.close()\n",
    "\n",
    "dat_iso=open('hr_iso_1000.txt','w')\n",
    "dat_iso.write(odsjecak.encode('iso-8859-2'))\n",
    "dat_iso.close()\n",
    "\n",
    "print len(open('hr_utf_1000.txt').read())\n",
    "print len(open('hr_iso_1000.txt').read())\n",
    "print len(open('hr_utf_1000.txt').read().decode('utf8'))\n",
    "print len(open('hr_iso_1000.txt').read().decode('iso-8859-2'))\n",
    "print open('hr_utf_1000.txt').read()==open('hr_iso_1000.txt').read()\n",
    "print open('hr_utf_1000.txt').read().decode('utf8')==open('hr_iso_1000.txt').read().decode('iso-8859-2')"
   ]
  },
  {
   "cell_type": "markdown",
   "metadata": {
    "collapsed": true
   },
   "source": [
    "**Zadatak 59.** Dalje radite nad datotekama hr.txt i en.txt. Izračunajte broj redaka u svakoj od datoteka iteriranjem kroz svaki red."
   ]
  },
  {
   "cell_type": "code",
   "execution_count": 60,
   "metadata": {
    "collapsed": false
   },
   "outputs": [
    {
     "name": "stdout",
     "output_type": "stream",
     "text": [
      "broj redova u hr je 1000, a u en je 1000\n"
     ]
    }
   ],
   "source": [
    "hr_br_redova=0\n",
    "en_br_redova=0\n",
    "\n",
    "for red in open('hr.txt'):\n",
    "    hr_br_redova+=1\n",
    "for red in open('en.txt'):\n",
    "    en_br_redova+=1\n",
    "\n",
    "print 'broj redova u hr je '+str(hr_br_redova)+', a u en je '+str(en_br_redova)"
   ]
  },
  {
   "cell_type": "markdown",
   "metadata": {
    "collapsed": true
   },
   "source": [
    "**Zadatak 60.** Izračunajte broj znakova u svakoj od datoteka. Pazite da ispravno dekodirate tekst prije izračuna njegove duljine."
   ]
  },
  {
   "cell_type": "code",
   "execution_count": 63,
   "metadata": {
    "collapsed": false
   },
   "outputs": [
    {
     "name": "stdout",
     "output_type": "stream",
     "text": [
      "broj znakova u hr je 133906, a u en je 132106\n"
     ]
    }
   ],
   "source": [
    "hr_tekst=open('hr.txt').read().decode('utf8')\n",
    "en_tekst=open('en.txt').read().decode('utf8')\n",
    "\n",
    "hr_br_znakova=len(hr_tekst)\n",
    "en_br_znakova=len(en_tekst)\n",
    "\n",
    "print 'broj znakova u hr je '+str(hr_br_znakova)+', a u en je '+str(en_br_znakova)"
   ]
  },
  {
   "cell_type": "markdown",
   "metadata": {
    "collapsed": true
   },
   "source": [
    "**Zadatak 61.** Izračunajte broj znakova razmaka i prelazaka u novi red te pretpostavite broj riječi u svakom dokumentu. Izračun broja traženih znakova provedite iteriranjem kroz svaki znak."
   ]
  },
  {
   "cell_type": "code",
   "execution_count": 64,
   "metadata": {
    "collapsed": false
   },
   "outputs": [
    {
     "name": "stdout",
     "output_type": "stream",
     "text": [
      "procjena broja riječi u hr je 19546, a u en je 20771\n"
     ]
    }
   ],
   "source": [
    "hr_br_rijeci=0\n",
    "en_br_rijeci=0\n",
    "\n",
    "for znak in hr_tekst:\n",
    "    if znak in ' \\n':\n",
    "        hr_br_rijeci+=1\n",
    "\n",
    "for znak in en_tekst:\n",
    "    if znak in ' \\n':\n",
    "        en_br_rijeci+=1\n",
    "\n",
    "print 'procjena broja riječi u hr je '+str(hr_br_rijeci)+', a u en je '+str(en_br_rijeci)"
   ]
  },
  {
   "cell_type": "markdown",
   "metadata": {
    "collapsed": true
   },
   "source": [
    "**Zadatak 62.** Izračunajte procjenu prosječne duljine riječi u svakom uzorku ((broj_znakova-broj_rijeci)/broj_rijeci)."
   ]
  },
  {
   "cell_type": "code",
   "execution_count": 65,
   "metadata": {
    "collapsed": false
   },
   "outputs": [
    {
     "name": "stdout",
     "output_type": "stream",
     "text": [
      "procjena prosječne duljine riječi u hr je 5.85081346567\n",
      "procjena prosječne duljine riječi u en je 5.36011747147\n"
     ]
    }
   ],
   "source": [
    "print 'procjena prosječne duljine riječi u hr je '+str(float(hr_br_znakova-hr_br_rijeci)/hr_br_rijeci)\n",
    "print 'procjena prosječne duljine riječi u en je '+str(float(en_br_znakova-en_br_rijeci)/en_br_rijeci)"
   ]
  },
  {
   "cell_type": "markdown",
   "metadata": {
    "collapsed": true
   },
   "source": [
    "**Zadatak 63.** Izračunajte broj pojava svakog samoglasnika u svakom od tekstnih uzoraka. Izvršite cijeli izračun jednom iteracijom po datoteci kroz svaki znak pojedinog niza znakova."
   ]
  },
  {
   "cell_type": "code",
   "execution_count": 66,
   "metadata": {
    "collapsed": false
   },
   "outputs": [
    {
     "name": "stdout",
     "output_type": "stream",
     "text": [
      "hr a 12283\n",
      "hr e 9377\n",
      "hr i 10805\n",
      "hr o 9599\n",
      "hr u 5267\n",
      "hr a 0.259512792884\n",
      "hr e 0.198115400055\n",
      "hr i 0.228285901418\n",
      "hr o 0.202805772116\n",
      "hr u 0.111280133528\n",
      "en a 9046\n",
      "en e 12796\n",
      "en i 8613\n",
      "en o 8223\n",
      "en u 3029\n",
      "en a 0.216894046563\n",
      "en e 0.306807010814\n",
      "en i 0.206512096291\n",
      "en o 0.197161148009\n",
      "en u 0.072625698324\n"
     ]
    }
   ],
   "source": [
    "hr_br_a=0\n",
    "hr_br_e=0\n",
    "hr_br_i=0\n",
    "hr_br_o=0\n",
    "hr_br_u=0\n",
    "\n",
    "en_br_a=0\n",
    "en_br_e=0\n",
    "en_br_i=0\n",
    "en_br_o=0\n",
    "en_br_u=0\n",
    "\n",
    "for znak in hr_tekst.lower():\n",
    "    if znak=='a':\n",
    "        hr_br_a+=1\n",
    "    elif znak=='e':\n",
    "        hr_br_e+=1\n",
    "    elif znak=='i':\n",
    "        hr_br_i+=1\n",
    "    elif znak=='o':\n",
    "        hr_br_o+=1\n",
    "    elif znak=='u':\n",
    "        hr_br_u+=1\n",
    "\n",
    "print 'hr a '+str(hr_br_a)\n",
    "print 'hr e '+str(hr_br_e)\n",
    "print 'hr i '+str(hr_br_i)\n",
    "print 'hr o '+str(hr_br_o)\n",
    "print 'hr u '+str(hr_br_u)\n",
    "\n",
    "hr_br_sam=float(hr_br_a+hr_br_e+hr_br_i+hr_br_o+hr_br_u)\n",
    "\n",
    "print 'hr a '+str(hr_br_a/hr_br_sam)\n",
    "print 'hr e '+str(hr_br_e/hr_br_sam)\n",
    "print 'hr i '+str(hr_br_i/hr_br_sam)\n",
    "print 'hr o '+str(hr_br_o/hr_br_sam)\n",
    "print 'hr u '+str(hr_br_u/hr_br_sam)\n",
    "\n",
    "for znak in en_tekst.lower():\n",
    "    if znak=='a':\n",
    "        en_br_a+=1\n",
    "    elif znak=='e':\n",
    "        en_br_e+=1\n",
    "    elif znak=='i':\n",
    "        en_br_i+=1\n",
    "    elif znak=='o':\n",
    "        en_br_o+=1\n",
    "    elif znak=='u':\n",
    "        en_br_u+=1\n",
    "\n",
    "print 'en a '+str(en_br_a)\n",
    "print 'en e '+str(en_br_e)\n",
    "print 'en i '+str(en_br_i)\n",
    "print 'en o '+str(en_br_o)\n",
    "print 'en u '+str(en_br_u)\n",
    "\n",
    "en_br_sam=float(en_br_a+en_br_e+en_br_i+en_br_o+en_br_u)\n",
    "\n",
    "print 'en a '+str(en_br_a/en_br_sam)\n",
    "print 'en e '+str(en_br_e/en_br_sam)\n",
    "print 'en i '+str(en_br_i/en_br_sam)\n",
    "print 'en o '+str(en_br_o/en_br_sam)\n",
    "print 'en u '+str(en_br_u/en_br_sam)"
   ]
  },
  {
   "cell_type": "markdown",
   "metadata": {
    "collapsed": true
   },
   "source": [
    "## 6.3. Zadaci iz poglavlja \"Regularni izrazi\" (3. poglavlje)"
   ]
  },
  {
   "cell_type": "markdown",
   "metadata": {
    "collapsed": true
   },
   "source": [
    "Zadatke rješavajte na datotekama `hr.txt` i `en.txt`.\n",
    "\n",
    "**Zadatak 64.** Regularnim izrazom izračunajte broj pojava samoglasnika u svakoj datoteci."
   ]
  },
  {
   "cell_type": "code",
   "execution_count": 67,
   "metadata": {
    "collapsed": false
   },
   "outputs": [
    {
     "name": "stdout",
     "output_type": "stream",
     "text": [
      "47331\n",
      "41707\n"
     ]
    }
   ],
   "source": [
    "import re\n",
    "\n",
    "hr=open('hr.txt').read().decode('utf8').lower()\n",
    "en=open('en.txt').read().decode('utf8').lower()\n",
    "\n",
    "print len(re.findall(r'[aeiou]',hr))\n",
    "print len(re.findall(r'[aeiou]',en))"
   ]
  },
  {
   "cell_type": "markdown",
   "metadata": {
    "collapsed": true
   },
   "source": [
    "**Zadatak 65.** Regularnim izrazom izračunajte broj pojava jednog ili više samoglasnika u svakoj datoteci."
   ]
  },
  {
   "cell_type": "code",
   "execution_count": 68,
   "metadata": {
    "collapsed": false
   },
   "outputs": [
    {
     "name": "stdout",
     "output_type": "stream",
     "text": [
      "46002\n",
      "36936\n"
     ]
    }
   ],
   "source": [
    "import re\n",
    "\n",
    "hr=open('hr.txt').read().decode('utf8').lower()\n",
    "en=open('en.txt').read().decode('utf8').lower()\n",
    "\n",
    "print len(re.findall(r'[aeiou]+',hr))\n",
    "print len(re.findall(r'[aeiou]+',en))"
   ]
  },
  {
   "cell_type": "markdown",
   "metadata": {
    "collapsed": true
   },
   "source": [
    "**Zadatak 66.** Regularnim izrazom izračunajte broj pojava znamenki u svakoj datoteci."
   ]
  },
  {
   "cell_type": "code",
   "execution_count": 69,
   "metadata": {
    "collapsed": false
   },
   "outputs": [
    {
     "name": "stdout",
     "output_type": "stream",
     "text": [
      "1204\n",
      "1225\n"
     ]
    }
   ],
   "source": [
    "import re\n",
    "\n",
    "hr=open('hr.txt').read().decode('utf8').lower()\n",
    "en=open('en.txt').read().decode('utf8').lower()\n",
    "\n",
    "print len(re.findall(r'\\d',hr))\n",
    "print len(re.findall(r'\\d',en))"
   ]
  },
  {
   "cell_type": "markdown",
   "metadata": {
    "collapsed": true
   },
   "source": [
    "**Zadatak 67.** Regularnim izrazom izračunajte broj pojava jedne ili više znamenki u svakoj datoteci."
   ]
  },
  {
   "cell_type": "code",
   "execution_count": 70,
   "metadata": {
    "collapsed": false
   },
   "outputs": [
    {
     "name": "stdout",
     "output_type": "stream",
     "text": [
      "564\n",
      "575\n"
     ]
    }
   ],
   "source": [
    "import re\n",
    "\n",
    "hr=open('hr.txt').read().decode('utf8').lower()\n",
    "en=open('en.txt').read().decode('utf8').lower()\n",
    "\n",
    "print len(re.findall(r'\\d+',hr))\n",
    "print len(re.findall(r'\\d+',en))"
   ]
  },
  {
   "cell_type": "markdown",
   "metadata": {
    "collapsed": true
   },
   "source": [
    "**Zadatak 68.** Regularnim izrazom izračunajte broj riječi u svakoj od datoteka, sve znakove prethodno pretvorite u mala slova."
   ]
  },
  {
   "cell_type": "code",
   "execution_count": 71,
   "metadata": {
    "collapsed": false
   },
   "outputs": [
    {
     "name": "stdout",
     "output_type": "stream",
     "text": [
      "19787\n",
      "21310\n"
     ]
    }
   ],
   "source": [
    "import re\n",
    "\n",
    "hr=open('hr.txt').read().decode('utf8').lower()\n",
    "en=open('en.txt').read().decode('utf8').lower()\n",
    "\n",
    "hr_rijeci=re.findall(r'\\w+',hr,re.UNICODE)\n",
    "en_rijeci=re.findall(r'\\w+',en,re.UNICODE)\n",
    "\n",
    "print len(hr_rijeci)\n",
    "print len(en_rijeci)"
   ]
  },
  {
   "cell_type": "markdown",
   "metadata": {
    "collapsed": true
   },
   "source": [
    "## 6.4. Zadaci iz poglavlja \"Rječnici\" (4. poglavlje)"
   ]
  },
  {
   "cell_type": "markdown",
   "metadata": {
    "collapsed": true
   },
   "source": [
    "Zadatke rješavajte na datotekama `hr.txt` i `en.txt`.\n",
    "\n",
    "**Zadatak 69.** Stvorite prazni rječnik, pridružite mu više parova (ključ, vrijednost) različitih tipova podataka. Ispišite sve ključeve te potom sve vrijednosti iz stvorenog rječnika."
   ]
  },
  {
   "cell_type": "code",
   "execution_count": 72,
   "metadata": {
    "collapsed": false
   },
   "outputs": [
    {
     "name": "stdout",
     "output_type": "stream",
     "text": [
      "{'a': 6788, 'b': 'neki tekst', 0.1: 'jedan', 999: 1.5}\n"
     ]
    }
   ],
   "source": [
    "rjecnik={'a':6788,'b':'neki tekst',999:1.5,0.1:'jedan'}\n",
    "print rjecnik"
   ]
  },
  {
   "cell_type": "markdown",
   "metadata": {
    "collapsed": true
   },
   "source": [
    "**Zadatak 70.** Izračunajte broj pojava svakog samoglasnika u datoteci `hr.txt` te u datoteci `en.txt`."
   ]
  },
  {
   "cell_type": "code",
   "execution_count": 73,
   "metadata": {
    "collapsed": false
   },
   "outputs": [
    {
     "name": "stdout",
     "output_type": "stream",
     "text": [
      "{u'i': 10805, u'a': 12283, u'e': 9377, u'u': 5267, u'o': 9599}\n",
      "{u'i': 8613, u'a': 9046, u'e': 12796, u'u': 3029, u'o': 8223}\n"
     ]
    }
   ],
   "source": [
    "hr_tekst=open('hr.txt').read().decode('utf8')\n",
    "en_tekst=open('en.txt').read().decode('utf8')\n",
    "\n",
    "hr_frek_samogl={}\n",
    "en_frek_samogl={}\n",
    "\n",
    "for znak in hr_tekst.lower():\n",
    "    if znak in 'aeiou':\n",
    "        hr_frek_samogl[znak]=hr_frek_samogl.get(znak,0)+1\n",
    "print hr_frek_samogl\n",
    "\n",
    "for znak in en_tekst.lower():\n",
    "    if znak in 'aeiou':\n",
    "        en_frek_samogl[znak]=en_frek_samogl.get(znak,0)+1\n",
    "print en_frek_samogl"
   ]
  },
  {
   "cell_type": "markdown",
   "metadata": {
    "collapsed": true
   },
   "source": [
    "**Zadatak 71.** Izračunajte dvije frekvencijske distribucije znakova, jednu za datoteku `hr.txt`, drugu za datoteku `en.txt`."
   ]
  },
  {
   "cell_type": "code",
   "execution_count": 75,
   "metadata": {
    "collapsed": false
   },
   "outputs": [
    {
     "name": "stdout",
     "output_type": "stream",
     "text": [
      "62\n",
      "{u'\\u0107': 709, u'\\n': 1000, u'\\u010d': 980, u'\\u0111': 280, u'\\u2013': 14, u'\\u201d': 5, u'\\u201c': 7, u'!': 1, u' ': 18546, u'\"': 413, u'%': 15, u\"'\": 12, u'\\u2026': 3, u')': 90, u'(': 90, u'-': 350, u',': 1175, u'/': 113, u'.': 1083, u'1': 223, u'0': 325, u'3': 73, u'2': 180, u'5': 76, u'4': 65, u'7': 44, u'6': 80, u'9': 81, u'8': 57, u';': 31, u':': 63, u'?': 27, u'\\u0161': 763, u'[': 55, u']': 55, u'a': 12283, u'c': 1093, u'b': 1636, u'e': 9377, u'd': 3570, u'g': 1841, u'f': 281, u'i': 10805, u'h': 783, u'k': 4550, u'j': 5571, u'm': 3217, u'l': 3585, u'o': 9599, u'n': 6866, u'q': 12, u'p': 3403, u's': 5649, u'r': 5966, u'u': 5267, u't': 5075, u'w': 28, u'v': 3616, u'y': 114, u'x': 16, u'z': 2122, u'\\u017e': 497}\n",
      "57\n",
      "{u'\\n': 1000, u'\\u2013': 16, u'\\u2019': 4, u'!': 1, u' ': 19771, u'\"': 424, u'%': 20, u'$': 2, u\"'\": 296, u'\\u2026': 3, u')': 101, u'(': 100, u'-': 394, u',': 1210, u'/': 121, u'.': 937, u'1': 231, u'0': 325, u'3': 73, u'2': 184, u'5': 75, u'4': 67, u'7': 46, u'6': 81, u'9': 84, u'8': 59, u';': 33, u':': 60, u'?': 27, u'[': 58, u']': 58, u'a': 9046, u'c': 3660, u'b': 1596, u'e': 12796, u'd': 3997, u'g': 2080, u'f': 2088, u'i': 8613, u'h': 4171, u'k': 980, u'j': 303, u'm': 2827, u'l': 3930, u'o': 8223, u'n': 7734, u'q': 100, u'p': 2518, u's': 7353, u'r': 6880, u'u': 3029, u't': 9658, u'w': 1445, u'v': 1394, u'y': 1513, u'x': 153, u'z': 158}\n"
     ]
    }
   ],
   "source": [
    "hr_tekst=open('hr.txt').read().decode('utf8')\n",
    "en_tekst=open('en.txt').read().decode('utf8')\n",
    "\n",
    "hr_frek_znak={}\n",
    "en_frek_znak={}\n",
    "\n",
    "for znak in hr_tekst.lower():\n",
    "    hr_frek_znak[znak]=hr_frek_znak.get(znak,0)+1\n",
    "print len(hr_frek_znak)\n",
    "print hr_frek_znak\n",
    "\n",
    "for znak in en_tekst.lower():\n",
    "    en_frek_znak[znak]=en_frek_znak.get(znak,0)+1\n",
    "print len(en_frek_znak)\n",
    "print en_frek_znak"
   ]
  },
  {
   "cell_type": "markdown",
   "metadata": {
    "collapsed": true
   },
   "source": [
    "**Zadatak 72.** Ispišite na ekran dvadeset najfrekventnijih znakova iz svakog od rječnika iz prethodnog zadatka s pripadajućim frekvencijama. Usporedite distribucije."
   ]
  },
  {
   "cell_type": "code",
   "execution_count": 76,
   "metadata": {
    "collapsed": false
   },
   "outputs": [
    {
     "name": "stdout",
     "output_type": "stream",
     "text": [
      "[(u' ', 18546), (u'a', 12283), (u'i', 10805), (u'o', 9599), (u'e', 9377), (u'n', 6866), (u'r', 5966), (u's', 5649), (u'j', 5571), (u'u', 5267), (u't', 5075), (u'k', 4550), (u'v', 3616), (u'l', 3585), (u'd', 3570), (u'p', 3403), (u'm', 3217), (u'z', 2122), (u'g', 1841), (u'b', 1636)]\n",
      "[(u' ', 19771), (u'e', 12796), (u't', 9658), (u'a', 9046), (u'i', 8613), (u'o', 8223), (u'n', 7734), (u's', 7353), (u'r', 6880), (u'h', 4171), (u'd', 3997), (u'l', 3930), (u'c', 3660), (u'u', 3029), (u'm', 2827), (u'p', 2518), (u'f', 2088), (u'g', 2080), (u'b', 1596), (u'y', 1513)]\n"
     ]
    }
   ],
   "source": [
    "hr_sort_znak=sorted(hr_frek_znak.items(),key=lambda x:-x[1])\n",
    "print hr_sort_znak[:20]\n",
    "\n",
    "en_sort_znak=sorted(en_frek_znak.items(),key=lambda x:-x[1])\n",
    "print en_sort_znak[:20]"
   ]
  },
  {
   "cell_type": "markdown",
   "metadata": {
    "collapsed": true
   },
   "source": [
    "**Zadatak 73.** Ispišite sve znakove iz hrvatske distribucije koji su među 20 najčešćih, a nisu među 20 najčešćih engleskih. Inicijaliziraj listu 20 najčešćih znakova u hrvatskom jeziku. Iteriranjem kroz frekvencijsku distribuciju hrvatskih znakova, u listu dodajte prvih 20 znakova iz sortirane frekvencijske distribucije. Isto napravite i za 20 najčešćih znakova u engleskom jeziku. Zatim, iteriranjem kroz listu 20 najčešćih znakova u hrvatskom jeziku, provjerite nalazi li se u listi 20 najčešćih znakova u engleskom jeziku. Ako se ne nalazi, ispišite znak. Isto učinite i iteriranjem kroz listu 20 najčešćih znakova u engleskom jeziku."
   ]
  },
  {
   "cell_type": "code",
   "execution_count": 86,
   "metadata": {
    "collapsed": false
   },
   "outputs": [
    {
     "name": "stdout",
     "output_type": "stream",
     "text": [
      "znak in hr20 a ne u en20: j\n",
      "znak in hr20 a ne u en20: k\n",
      "znak in hr20 a ne u en20: v\n",
      "znak in hr20 a ne u en20: z\n",
      "znak in en20 a ne u hr20: h\n",
      "znak in en20 a ne u hr20: c\n",
      "znak in en20 a ne u hr20: f\n",
      "znak in en20 a ne u hr20: y\n"
     ]
    }
   ],
   "source": [
    "hr20=[]\n",
    "en20=[]\n",
    "\n",
    "for par in hr_sort_znak[:20]:\n",
    "    hr20.append(par[0])\n",
    "\n",
    "for par in en_sort_znak[:20]:\n",
    "    en20.append(par[0])\n",
    "\n",
    "for znak in hr20:\n",
    "    if znak not in en20:\n",
    "          print 'znak in hr20 a ne u en20:',znak\n",
    "\n",
    "for znak in en20:\n",
    "    if znak not in hr20:\n",
    "          print 'znak in en20 a ne u hr20:',znak"
   ]
  },
  {
   "cell_type": "markdown",
   "metadata": {
    "collapsed": true
   },
   "source": [
    "**Zadatak 74.** Izračunajte frekvencijsku distribuciju riječi u svakoj od datoteka koristeći regularne izraze i rječnike."
   ]
  },
  {
   "cell_type": "code",
   "execution_count": 89,
   "metadata": {
    "collapsed": false
   },
   "outputs": [
    {
     "name": "stdout",
     "output_type": "stream",
     "text": [
      "46\n",
      "50\n"
     ]
    }
   ],
   "source": [
    "hr_fd_rijeci={}\n",
    "en_fd_rijeci={}\n",
    "\n",
    "for rijec in hr_rijeci:\n",
    "    hr_fd_rijeci[rijec]=hr_fd_rijeci.get(rijec,0)+1\n",
    "\n",
    "for rijec in en_rijeci:\n",
    "    en_fd_rijeci[rijec]=en_fd_rijeci.get(rijec,0)+1\n",
    "\n",
    "print hr_fd_rijeci['ali']\n",
    "print en_fd_rijeci['but']"
   ]
  },
  {
   "cell_type": "markdown",
   "metadata": {
    "collapsed": true
   },
   "source": [
    "**Zadatak 75.** Ispišite 20 najčešćih riječi u svakoj od datoteka. O kakvim se riječima radi?"
   ]
  },
  {
   "cell_type": "code",
   "execution_count": 90,
   "metadata": {
    "collapsed": false
   },
   "outputs": [
    {
     "name": "stdout",
     "output_type": "stream",
     "text": [
      "[(u'je', 776), (u'u', 747), (u'i', 544), (u'se', 279), (u'na', 275), (u'za', 262), (u'su', 252), (u'kako', 202), (u's', 167), (u'da', 164), (u'a', 142), (u'od', 127), (u'\\u0107e', 123), (u'koji', 106), (u'bi', 99), (u'iz', 93), (u'ne', 78), (u'\\u0161to', 74), (u'eu', 66), (u'o', 65)]\n",
      "[(u'the', 1417), (u'of', 584), (u'to', 560), (u'and', 537), (u'in', 532), (u'a', 392), (u's', 239), (u'for', 220), (u'that', 218), (u'on', 183), (u'is', 172), (u'with', 148), (u'by', 133), (u'said', 124), (u'was', 115), (u'it', 112), (u'be', 111), (u'as', 109), (u'are', 103), (u'an', 95)]\n"
     ]
    }
   ],
   "source": [
    "print sorted(hr_fd_rijeci.items(),key=lambda x:-x[1])[:20]\n",
    "print sorted(en_fd_rijeci.items(),key=lambda x:-x[1])[:20]"
   ]
  },
  {
   "cell_type": "markdown",
   "metadata": {
    "collapsed": true
   },
   "source": [
    "**Zadatak 76.** U svakoj od datoteka izračunajte tzv. omjer broja različnica (različitih riječi u tekstu) i pojavnica (riječi u tekstu). Broj različnica možete dobiti računanjem duljine rječnika izračunatog u prethodnom zadatku. U kojem je jeziku taj omjer veći? Zašto?"
   ]
  },
  {
   "cell_type": "code",
   "execution_count": 91,
   "metadata": {
    "collapsed": false
   },
   "outputs": [
    {
     "name": "stdout",
     "output_type": "stream",
     "text": [
      "0.338302926164\n",
      "0.206147348663\n"
     ]
    }
   ],
   "source": [
    "print float(len(hr_fd_rijeci))/len(hr_rijeci)\n",
    "print float(len(en_fd_rijeci))/len(en_rijeci)"
   ]
  },
  {
   "cell_type": "markdown",
   "metadata": {
    "collapsed": true
   },
   "source": [
    "## 6.5. Zadaci iz poglavlja \"Funkcije\" (5. poglavlje)"
   ]
  },
  {
   "cell_type": "markdown",
   "metadata": {},
   "source": [
    "Funkcije rješavajte u zasebnoj datoteci `funkcije.py`, a ostale zadatke u tekstnoj datoteci. Kod koji nije dio funkcija pišite u glavnom programu (unutar selekcije `if __name__=='__main__':`).\n",
    "\n",
    "**Zadatak 77.** Napišite funkciju `uvecaj_za_jedan()` koja kao argument prima brojčanu vrijednost te vraća tu vrijednost uvećanu za 1. Provjerite funkciju u glavnom programu."
   ]
  },
  {
   "cell_type": "code",
   "execution_count": 94,
   "metadata": {
    "collapsed": false
   },
   "outputs": [
    {
     "name": "stdout",
     "output_type": "stream",
     "text": [
      "6\n",
      "79.9\n"
     ]
    }
   ],
   "source": [
    "def uvecaj_za_jedan(broj):\n",
    "    return broj+1\n",
    "\n",
    "if __name__=='__main__':\n",
    "    print uvecaj_za_jedan(5)\n",
    "    print uvecaj_za_jedan(78.9)"
   ]
  },
  {
   "cell_type": "markdown",
   "metadata": {
    "collapsed": true
   },
   "source": [
    "**Zadatak 78.** Napišite funkciju `je_li_duljina_parna()` koja kao argument prima iterabilni objekt (niz znakova, listu, rječnik) te vraća logičku vrijednost je li duljina parna ili ne. Provjerite funkciju u glavnom programu nad nizom znakova, listom i rječnikom."
   ]
  },
  {
   "cell_type": "code",
   "execution_count": 96,
   "metadata": {
    "collapsed": false
   },
   "outputs": [
    {
     "name": "stdout",
     "output_type": "stream",
     "text": [
      "True\n",
      "False\n"
     ]
    }
   ],
   "source": [
    "def je_li_duljina_parna(iterabilni):\n",
    "    return len(iterabilni)%2==0\n",
    "\n",
    "if __name__=='__main__':\n",
    "    print je_li_duljina_parna('neki niz znakova')\n",
    "    print je_li_duljina_parna([1,2,3,4,'pet'])"
   ]
  },
  {
   "cell_type": "markdown",
   "metadata": {
    "collapsed": true
   },
   "source": [
    "**Zadatak 79.** Napišite funkciju `broj_samoglasnika()` koja kao argument prima Unicode niz znakova te vraća broj samoglasnika u nizu znakova. Provjerite funkciju u glavnom programu."
   ]
  },
  {
   "cell_type": "code",
   "execution_count": 98,
   "metadata": {
    "collapsed": false
   },
   "outputs": [
    {
     "name": "stdout",
     "output_type": "stream",
     "text": [
      "9\n"
     ]
    }
   ],
   "source": [
    "def broj_samoglasnika(niz):\n",
    "    rezultat=0\n",
    "    for znak in niz:\n",
    "        if znak.lower() in 'aeiou':\n",
    "            rezultat+=1\n",
    "    return rezultat\n",
    "\n",
    "if __name__=='__main__':\n",
    "    print broj_samoglasnika('Ovo je neki niz znakova.')"
   ]
  },
  {
   "cell_type": "markdown",
   "metadata": {
    "collapsed": true
   },
   "source": [
    "**Zadatak 80.** Napišite funkciju `frekvencijska_distribucija()` koja kao argument prima sekvencu te vraća rječnik koji predstavlja frekvencijsku distribuciju događaja iz sekvence."
   ]
  },
  {
   "cell_type": "code",
   "execution_count": 101,
   "metadata": {
    "collapsed": false
   },
   "outputs": [
    {
     "name": "stdout",
     "output_type": "stream",
     "text": [
      "{'a': 2, ' ': 4, 'e': 2, 'i': 2, 'k': 2, 'j': 1, 'o': 2, 'n': 3, '.': 1, 'O': 1, 'v': 2, 'z': 2}\n",
      "{1: 4, 2: 1, 3: 2, 4: 7}\n"
     ]
    }
   ],
   "source": [
    "def frekvencijska_distribucija(sekvenca):\n",
    "    rjecnik={}\n",
    "    for dogadjaj in sekvenca:\n",
    "        rjecnik[dogadjaj]=rjecnik.get(dogadjaj,0)+1\n",
    "    return rjecnik\n",
    "\n",
    "if __name__=='__main__':\n",
    "    print frekvencijska_distribucija('Ovo je neki niz znakova.')\n",
    "    print frekvencijska_distribucija([1,1,1,1,2,3,3,4,4,4,4,4,4,4])"
   ]
  },
  {
   "cell_type": "markdown",
   "metadata": {
    "collapsed": true
   },
   "source": [
    "**Zadatak 81.** Napišite funkciju `sortiraj_distribuciju()` koja kao argument prima rječnik te vraća listu parova tog rječnika sortiranu prema drugoj vrijednosti unazadno."
   ]
  },
  {
   "cell_type": "code",
   "execution_count": 102,
   "metadata": {
    "collapsed": false
   },
   "outputs": [
    {
     "name": "stdout",
     "output_type": "stream",
     "text": [
      "[(' ', 4), ('n', 3), ('a', 2), ('e', 2), ('i', 2), ('k', 2), ('o', 2), ('v', 2), ('z', 2), ('j', 1), ('.', 1), ('O', 1)]\n",
      "[(4, 7), (1, 4), (3, 2), (2, 1)]\n"
     ]
    }
   ],
   "source": [
    "def sortiraj_distribuciju(rjecnik):\n",
    "    return sorted(rjecnik.items(),key=lambda x:-x[1])\n",
    "\n",
    "if __name__=='__main__':\n",
    "    print sortiraj_distribuciju(frekvencijska_distribucija('Ovo je neki niz znakova.'))\n",
    "    print sortiraj_distribuciju(frekvencijska_distribucija([1,1,1,1,2,3,3,4,4,4,4,4,4,4]))"
   ]
  },
  {
   "cell_type": "markdown",
   "metadata": {},
   "source": [
    "**Zadatak 82.** Napišite funkciju `opojavnici()` koja kao argument prima Unicode niz znakova, a vraća listu pojavncia. Isprobajte funkciju u glavnom programu."
   ]
  },
  {
   "cell_type": "code",
   "execution_count": 104,
   "metadata": {
    "collapsed": false
   },
   "outputs": [
    {
     "name": "stdout",
     "output_type": "stream",
     "text": [
      "['Ovo', 'je', 'neki', 'niz', 'znakova']\n"
     ]
    }
   ],
   "source": [
    "def opojavnici(niz):\n",
    "    import re\n",
    "    return re.findall(r'\\w+',niz,re.UNICODE)\n",
    "\n",
    "if __name__=='__main__':\n",
    "    print opojavnici('Ovo je neki niz znakova.')"
   ]
  },
  {
   "cell_type": "markdown",
   "metadata": {},
   "source": [
    "**Zadatak 83.** U glavnom programu uključite modul `funkcije`. Pomoću funkcije `frekvencijska_distribucija()` izračunajte frekvencijsku distribuciju znakova pretvorenih u mala slova iz datoteka `hr.txt` i `en.txt`. Ispišite sortirane distribucije te uočite razlike u frekvenciji znakova svakog jezika."
   ]
  },
  {
   "cell_type": "code",
   "execution_count": 107,
   "metadata": {
    "collapsed": false
   },
   "outputs": [
    {
     "name": "stdout",
     "output_type": "stream",
     "text": [
      "[(u' ', 18546), (u'a', 12283), (u'i', 10805), (u'o', 9599), (u'e', 9377), (u'n', 6866), (u'r', 5966), (u's', 5649), (u'j', 5571), (u'u', 5267), (u't', 5075), (u'k', 4550), (u'v', 3616), (u'l', 3585), (u'd', 3570), (u'p', 3403), (u'm', 3217), (u'z', 2122), (u'g', 1841), (u'b', 1636)]\n",
      "[(u' ', 19771), (u'e', 12796), (u't', 9658), (u'a', 9046), (u'i', 8613), (u'o', 8223), (u'n', 7734), (u's', 7353), (u'r', 6880), (u'h', 4171), (u'd', 3997), (u'l', 3930), (u'c', 3660), (u'u', 3029), (u'm', 2827), (u'p', 2518), (u'f', 2088), (u'g', 2080), (u'b', 1596), (u'y', 1513)]\n"
     ]
    }
   ],
   "source": [
    "import funkcije\n",
    "\n",
    "hr=open('hr.txt').read().decode('utf8').lower()\n",
    "en=open('en.txt').read().decode('utf8').lower()\n",
    "\n",
    "hr_frek=funkcije.frekvencijska_distribucija(hr)\n",
    "en_frek=funkcije.frekvencijska_distribucija(en)\n",
    "\n",
    "print funkcije.sortiraj_distribuciju(hr_frek)[:20]\n",
    "print funkcije.sortiraj_distribuciju(en_frek)[:20]"
   ]
  },
  {
   "cell_type": "markdown",
   "metadata": {},
   "source": [
    "**Zadatak 84.** Izračunajte frekvencijsku distribuciju pojavnica pretvorenih u mala slova iz datoteka `hr.txt` i `en.txt`. Ispišite prvih 50 zapisa sortirane distribucije. O kakvim se riječima radi?"
   ]
  },
  {
   "cell_type": "code",
   "execution_count": 109,
   "metadata": {
    "collapsed": false
   },
   "outputs": [
    {
     "name": "stdout",
     "output_type": "stream",
     "text": [
      "[(u'je', 776), (u'u', 747), (u'i', 544), (u'se', 279), (u'na', 275), (u'za', 262), (u'su', 252), (u'kako', 202), (u's', 167), (u'da', 164), (u'a', 142), (u'od', 127), (u'\\u0107e', 123), (u'koji', 106), (u'bi', 99), (u'iz', 93), (u'ne', 78), (u'\\u0161to', 74), (u'eu', 66), (u'o', 65), (u'do', 62), (u'kao', 61), (u'godine', 60), (u'izjavio', 56), (u'biti', 54), (u'to', 54), (u'rekao', 52), (u'koje', 51), (u'nato', 50), (u'nakon', 48), (u'ali', 46), (u'setimes', 44), (u'predsjednik', 44), (u'te', 43), (u'zbog', 41), (u'un', 40), (u'poslova', 40), (u'kosova', 36), (u'nije', 35), (u'oko', 34), (u'tako\\u0111er', 33), (u'zemlje', 32), (u'protiv', 31), (u'prema', 31), (u'kazao', 30), (u'times', 30), (u'koja', 29), (u'ili', 29), (u'li', 29), (u'european', 28)]\n",
      "[(u'the', 1417), (u'of', 584), (u'to', 560), (u'and', 537), (u'in', 532), (u'a', 392), (u's', 239), (u'for', 220), (u'that', 218), (u'on', 183), (u'is', 172), (u'with', 148), (u'by', 133), (u'said', 124), (u'was', 115), (u'it', 112), (u'be', 111), (u'as', 109), (u'are', 103), (u'an', 95), (u'kosovo', 94), (u'from', 94), (u'will', 91), (u'have', 89), (u'at', 81), (u'he', 79), (u'has', 78), (u'eu', 66), (u'president', 63), (u'this', 62), (u'we', 61), (u'minister', 60), (u'not', 58), (u'its', 57), (u'macedonia', 56), (u'were', 56), (u'his', 56), (u'would', 55), (u'country', 50), (u'nato', 50), (u'which', 50), (u'government', 50), (u'but', 50), (u'year', 49), (u'party', 49), (u'european', 47), (u'serbia', 47), (u'setimes', 45), (u'two', 44), (u'also', 44)]\n"
     ]
    }
   ],
   "source": [
    "hr_pojavnice=[]\n",
    "hr_pojavnice=funkcije.opojavnici(hr)\n",
    "\n",
    "en_pojavnice=[]\n",
    "en_pojavnice=funkcije.opojavnici(en)\n",
    "\n",
    "hr_sortirano=funkcije.sortiraj_distribuciju((funkcije.frekvencijska_distribucija((funkcije.opojavnici(hr)))))\n",
    "en_sortirano=funkcije.sortiraj_distribuciju((funkcije.frekvencijska_distribucija((funkcije.opojavnici(en)))))\n",
    "\n",
    "\n",
    "print hr_sortirano[:50]\n",
    "print en_sortirano[:50]"
   ]
  },
  {
   "cell_type": "markdown",
   "metadata": {},
   "source": [
    "**Zadatak 85.** Izračunajte na temelju svake sortirane distribucije pojavnica iz prošlog zadatka koliki postotak pojavnica u tekstu tvori 20% najčešćih razčičnica. Izračunajte koliko riječi čini 20% različnica te broj pretvorite u cijeli broj. To će biti broj puta koliko će se vršiti iteracija. Iteriranjem kroz sortiranu frekvencijsku distribuciju pojavnica (za već utvrđeni broj puta), zbrojite vrijednosti. Za rezultat, dobiveni broj podijelite sa sveukupnim brojem pojavnica."
   ]
  },
  {
   "cell_type": "code",
   "execution_count": 110,
   "metadata": {
    "collapsed": false
   },
   "outputs": [
    {
     "name": "stdout",
     "output_type": "stream",
     "text": [
      "0.673624096629\n",
      "0.751525105584\n"
     ]
    }
   ],
   "source": [
    "hr_br20=int(len(hr_sortirano)*0.2)\n",
    "en_br20=int(len(en_sortirano)*0.2)\n",
    "\n",
    "hr_br20_pojava=0\n",
    "en_br20_pojava=0\n",
    "\n",
    "for par in hr_sortirano[:hr_br20]:\n",
    "\thr_br20_pojava+=par[1]\n",
    "hr_rez=float(hr_br20_pojava)/len(hr_pojavnice)\n",
    "\n",
    "for par in en_sortirano[:en_br20]:\n",
    "\ten_br20_pojava+=par[1]\n",
    "en_rez=float(en_br20_pojava)/len(en_pojavnice)\n",
    "\n",
    "\n",
    "print hr_rez\n",
    "print en_rez"
   ]
  }
 ],
 "metadata": {
  "anaconda-cloud": {},
  "kernelspec": {
   "display_name": "Python [default]",
   "language": "python",
   "name": "python2"
  },
  "language_info": {
   "codemirror_mode": {
    "name": "ipython",
    "version": 2
   },
   "file_extension": ".py",
   "mimetype": "text/x-python",
   "name": "python",
   "nbconvert_exporter": "python",
   "pygments_lexer": "ipython2",
   "version": "2.7.12"
  }
 },
 "nbformat": 4,
 "nbformat_minor": 0
}
