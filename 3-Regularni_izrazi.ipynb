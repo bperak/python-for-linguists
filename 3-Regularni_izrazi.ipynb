{
 "cells": [
  {
   "cell_type": "markdown",
   "metadata": {},
   "source": [
    "# 3. Regularni izrazi"
   ]
  },
  {
   "cell_type": "markdown",
   "metadata": {},
   "source": [
    "Regularni izrazi ([Regular expression](https://en.wikipedia.org/wiki/Regular_expression)) su sastavni dio svakog naprednog alata za obradu teksta te svakog visokorazinskog programskog jezika. Oni su zapravo niz znakova koji predstavljaju obrazac koji se najčešće koristi za pronalaženje svih nizova znakova koji odgovaraju tom obrascu ili pak zamjenu tih nizova znakova. Primjer regularnog izraza koji opisuje većinu elektroničkih adresa je ovaj: `r'[\\w.-]+@(?:\\w+[.])+\\w+'`. Taj obrazac opisuje niz znakova koji se sastoji od niza alfanumeričkih znakova koji mogu sadržavati i crticu, znaka @ te niza alfanumeričkih znakova i crtice koji završavaju točkom, ta se sekvenca može pojavljivati više puta, te konačno alfanumerički niz znakova. Iz ovog je primjera vidljivo da smo kroz nekoliko znakova definirali obrazac koji se riječima ne može tako kratko opisati.\n",
    "\n",
    "Regularni izrazi imaju izražajnost regularnih jezika koji se pak mogu definirati regularnim gramatikama, najjednostavnijim gramatikama u Chomskyjevoj hijerarhiji formalnih jezika i gramatika ([Chomsky hierarchy](http://en.wikipedia.org/wiki/Chomsky_hierarchy)).\n",
    "\n",
    "U *Pythonu* se podrška za regularne izraze nalazi u modulu `re` te ćemo ovdje koristiti redovito funkciju `findall(pattern, string[, flags])` koja za neki uzorak, niz znakova te moguće zastavice vraća listu nizova znakova koji odgovaraju našem uzorku, odnosno regularnom izrazu.\n",
    "\n",
    "Krenimo od početka s upoznavanjem znakova koji nose posebno značenje.\n",
    "\n",
    "To su za početak znak točke `.` koja predstavlja bilo koji znak osim znaka prelaska u novi red, uglate zagrade `[]` koje omogućuju definiranje skupa znakova te znakova `^` i `$` koji predstavljaju oznake početka i kraja niza znakova.\n",
    "\n",
    "U sljedećem primjeru tražimo svako pojavljivanje dva znaka, od kojeg je prvi znak `a`, a drugi bilo koji znak osim prelaska u novi red u zadanom nizu znakova `anafora`:"
   ]
  },
  {
   "cell_type": "code",
   "execution_count": 30,
   "metadata": {
    "collapsed": false
   },
   "outputs": [
    {
     "name": "stdout",
     "output_type": "stream",
     "text": [
      "['an', 'af']\n"
     ]
    }
   ],
   "source": [
    "import re\n",
    "print re.findall(r'a.','anafora')"
   ]
  },
  {
   "cell_type": "markdown",
   "metadata": {},
   "source": [
    "Module je potrebno jednom učitati naredbom `import`, nakon kojeg slijedi naziv modula (`re`). Nakon toga moguće je u programu pozivati funkcije i metode iz učitanog modula.\n",
    "\n",
    "Na sljedeći način možemo u nizu `anafora` pronaći svako pojavljivanje dva znaka, od kojeg prvi znak mora biti jedan od samoglasnika (`a` ili `e` ili `i` ili `o` ili `u`), a drugi znak bilo koji znak osim prelaska u novi red:"
   ]
  },
  {
   "cell_type": "code",
   "execution_count": 31,
   "metadata": {
    "collapsed": false
   },
   "outputs": [
    {
     "name": "stdout",
     "output_type": "stream",
     "text": [
      "['an', 'af', 'or']\n"
     ]
    }
   ],
   "source": [
    "print re.findall(r'[aeiou].','anafora')"
   ]
  },
  {
   "cell_type": "markdown",
   "metadata": {},
   "source": [
    "U sljedećem primjeru tražimo bilo koja dva znaka na početku niza znakova:"
   ]
  },
  {
   "cell_type": "code",
   "execution_count": 32,
   "metadata": {
    "collapsed": false
   },
   "outputs": [
    {
     "data": {
      "text/plain": [
       "['an']"
      ]
     },
     "execution_count": 32,
     "metadata": {},
     "output_type": "execute_result"
    }
   ],
   "source": [
    "re.findall(r'^..','anafora')"
   ]
  },
  {
   "cell_type": "markdown",
   "metadata": {},
   "source": [
    "Na sljedeći način tražimo bilo koja tri znaka koji se nalaze na kraju niza znakova:"
   ]
  },
  {
   "cell_type": "code",
   "execution_count": 33,
   "metadata": {
    "collapsed": false
   },
   "outputs": [
    {
     "data": {
      "text/plain": [
       "['ora']"
      ]
     },
     "execution_count": 33,
     "metadata": {},
     "output_type": "execute_result"
    }
   ],
   "source": [
    "re.findall(r'...$','anafora')"
   ]
  },
  {
   "cell_type": "markdown",
   "metadata": {},
   "source": [
    "Druga važna skupina posebnih znakova je ona koja predstavlja kvantifikatore. Kvantifikatori su simboli koji označavaju koliko puta se neki znak, skup ili grupa znakova može, odnosno mora pojaviti. Razlikujemo četiri kvantifikatora:\n",
    "1. `+` kvantifikator odgovara jednoj ili više pojava\n",
    "2. `*` kvantifikator odgovara nula, jednoj ili više pojava\n",
    "3. `?` kvantifikator odgovara nula ili jednoj pojavi\n",
    "4. `{m,n}` kvantifikator odgovara od m do n pojava"
   ]
  },
  {
   "cell_type": "markdown",
   "metadata": {},
   "source": [
    "U sljedećem primjeru tražimo jedan ili više (`+`) samoglasnika (`[aeiou]`), odnosno najdulju sekvencu samoglasnika u nizu znakova (`neaktivan`):"
   ]
  },
  {
   "cell_type": "code",
   "execution_count": 34,
   "metadata": {
    "collapsed": false
   },
   "outputs": [
    {
     "name": "stdout",
     "output_type": "stream",
     "text": [
      "['ea', 'i', 'a']\n"
     ]
    }
   ],
   "source": [
    "print re.findall(r'[aeiou]+','neaktivan')"
   ]
  },
  {
   "cell_type": "markdown",
   "metadata": {},
   "source": [
    "Na sljedeći način tražimo bilo koji znak (`.`) iza kojeg slijedi nula, jedan ili više (`*`) samoglasnika (`[aeiou]`):"
   ]
  },
  {
   "cell_type": "code",
   "execution_count": 35,
   "metadata": {
    "collapsed": false
   },
   "outputs": [
    {
     "name": "stdout",
     "output_type": "stream",
     "text": [
      "['nea', 'k', 'ti', 'va', 'n']\n"
     ]
    }
   ],
   "source": [
    "print re.findall(r'.[aeiou]*','neaktivan')"
   ]
  },
  {
   "cell_type": "markdown",
   "metadata": {},
   "source": [
    "U sljedećem primjeru tražimo pojavu znaka `e` kojemu može, a ne mora slijediti znak `a`."
   ]
  },
  {
   "cell_type": "code",
   "execution_count": 36,
   "metadata": {
    "collapsed": false
   },
   "outputs": [
    {
     "name": "stdout",
     "output_type": "stream",
     "text": [
      "['ea']\n"
     ]
    }
   ],
   "source": [
    "print re.findall(r'ea?','neaktivan')"
   ]
  },
  {
   "cell_type": "markdown",
   "metadata": {},
   "source": [
    "Na sljedeći način tražimo sekvencu samoglasnika duljine `2` do `5`."
   ]
  },
  {
   "cell_type": "code",
   "execution_count": 37,
   "metadata": {
    "collapsed": false
   },
   "outputs": [
    {
     "data": {
      "text/plain": [
       "['ea', 'aaaa']"
      ]
     },
     "execution_count": 37,
     "metadata": {},
     "output_type": "execute_result"
    }
   ],
   "source": [
    "re.findall(r'[aeiou]{2,5}','neaktivaaaan')"
   ]
  },
  {
   "cell_type": "markdown",
   "metadata": {},
   "source": [
    "U *Pythonovoj* implementaciji regularnih izraza postoji i niz predefiniranih skupova znakova:\n",
    "* `\\d` predstavlja znamenku, odnosno `[0-9]` dok `\\D` predstavlja komplement prethodnog skupa, odnosno `[^0-9]` (znak `^` na početku popisa znakova predstavlja negaciju, odnosno komplement)\n",
    "* `\\s` predstavlja skup svih praznina dok je `\\S` komplement tog skupa\n",
    "* `\\w` predstavlja skup alfanumeričkih znakova dok je `\\W` komplement tog skupa"
   ]
  },
  {
   "cell_type": "markdown",
   "metadata": {},
   "source": [
    "Kao treći argument funkciji `findall()` moguće je proslijediti i jednu ili više zastavica. Razlikujemo tri osnovne:\n",
    "* `re.DOTALL` čini da točka predstavlja svaki znak, pa i prelazak u novi red\n",
    "* `re.MULTILINE` čini da znakovi `^` i `$` predstavljaju početak, tj. kraj svakog retka\n",
    "* `re.UNICODE` čini da skup alfanumeričkih znakova sadrži sve Unicode alfanumeričke znakove."
   ]
  },
  {
   "cell_type": "markdown",
   "metadata": {},
   "source": [
    "U sljedećem primjeru tražimo dva znaka, od kojih je prvi slovo `s`, a drugi bilo koji znak (`.`). Dodavanjem trećeg argumenta `re.DOTALL`, točka `.` može predstavljati bilo koji znak, pa i prelazak u novi red:"
   ]
  },
  {
   "cell_type": "code",
   "execution_count": 38,
   "metadata": {
    "collapsed": false
   },
   "outputs": [
    {
     "data": {
      "text/plain": [
       "['s\\n', 'su']"
      ]
     },
     "execution_count": 38,
     "metadata": {},
     "output_type": "execute_result"
    }
   ],
   "source": [
    "re.findall(r's.','danas\\nsutra',re.DOTALL)"
   ]
  },
  {
   "cell_type": "markdown",
   "metadata": {},
   "source": [
    "Ako ne dodamo `re.DOTALL`, rezultat će biti sljedeći:"
   ]
  },
  {
   "cell_type": "code",
   "execution_count": 39,
   "metadata": {
    "collapsed": false
   },
   "outputs": [
    {
     "data": {
      "text/plain": [
       "['su']"
      ]
     },
     "execution_count": 39,
     "metadata": {},
     "output_type": "execute_result"
    }
   ],
   "source": [
    "re.findall(r's.','danas\\nsutra')"
   ]
  },
  {
   "cell_type": "markdown",
   "metadata": {},
   "source": [
    "U sljedećem primjeru tražimo prvi znak na početku reda. Dodavanje trećeg argumenta `re.MULTILINE` omogućuje pronalaženje prvog znaka na početku svakog reda, a ne samo prvog:"
   ]
  },
  {
   "cell_type": "code",
   "execution_count": 40,
   "metadata": {
    "collapsed": false
   },
   "outputs": [
    {
     "data": {
      "text/plain": [
       "['d', 's']"
      ]
     },
     "execution_count": 40,
     "metadata": {},
     "output_type": "execute_result"
    }
   ],
   "source": [
    "re.findall(r'^.','danas\\nsutra',re.MULTILINE)"
   ]
  },
  {
   "cell_type": "markdown",
   "metadata": {},
   "source": [
    "Ako izostavimo treći argument, rezultat će biti sljedeći:"
   ]
  },
  {
   "cell_type": "code",
   "execution_count": 41,
   "metadata": {
    "collapsed": false
   },
   "outputs": [
    {
     "data": {
      "text/plain": [
       "['d']"
      ]
     },
     "execution_count": 41,
     "metadata": {},
     "output_type": "execute_result"
    }
   ],
   "source": [
    "re.findall(r'^.','danas\\nsutra')"
   ]
  },
  {
   "cell_type": "markdown",
   "metadata": {},
   "source": [
    "U sljedećem primjeru tražimo sve Unicode alfanumeričke znakove: "
   ]
  },
  {
   "cell_type": "code",
   "execution_count": 42,
   "metadata": {
    "collapsed": false
   },
   "outputs": [
    {
     "data": {
      "text/plain": [
       "[u'Kuhamo', u'\\u010daj']"
      ]
     },
     "execution_count": 42,
     "metadata": {},
     "output_type": "execute_result"
    }
   ],
   "source": [
    "re.findall(r'\\w+',u'Kuhamo čaj.',re.UNICODE)"
   ]
  },
  {
   "cell_type": "markdown",
   "metadata": {},
   "source": [
    "Ako izostavimo treći argument, slova s dijakritičkim znakovima biti će izostavljeni, a rezultat će biti sljedeći:"
   ]
  },
  {
   "cell_type": "code",
   "execution_count": 43,
   "metadata": {
    "collapsed": false
   },
   "outputs": [
    {
     "data": {
      "text/plain": [
       "[u'Kuhamo', u'aj']"
      ]
     },
     "execution_count": 43,
     "metadata": {},
     "output_type": "execute_result"
    }
   ],
   "source": [
    "re.findall(r'\\w+',u'Kuhamo čaj.')"
   ]
  },
  {
   "cell_type": "markdown",
   "metadata": {},
   "source": [
    "Nama je posebno važna posljednja zastavica `re.UNICODE` jer nam omogućava da regularnim izrazom `+\\w+`identificiramo najdulji niz alfanumeričkih znakova što će nam ugrubo predstavljati postupak rastavljanja niza znakova na riječi koje često nazivamo i pojavnicama. Iz tog razloga taj postupak nazivamo **opojavničenje** (*tokenization*) ([Tokenization (lexical analysis)](https://en.wikipedia.org/wiki/Tokenization_(lexical_analysis)))."
   ]
  },
  {
   "cell_type": "markdown",
   "metadata": {},
   "source": [
    "U sljedećem primjeru možemo opojavničiti sadržaj datoteke `tekst.txt`. Prvo je potrebno datoteku pročitati i ispravno dekodirati te taj sadržaj pohraniti u varijablu `tekst` nad kojom ćemo pokrenuti upit. Zatim je potrebno pomoću regularnih izraza pronaći sve alfanumeričke znakove (`\\w+`) te omogućiti da budu pronađeni svi Unicode alfanumerički znakovi (`re.UNICODE`)."
   ]
  },
  {
   "cell_type": "code",
   "execution_count": 45,
   "metadata": {
    "collapsed": false
   },
   "outputs": [
    {
     "name": "stdout",
     "output_type": "stream",
     "text": [
      "[u'Prvi', u'red', u'Drugi', u'red', u'Tre\\u0107i', u'red']\n"
     ]
    }
   ],
   "source": [
    "tekst=open('tekst.txt').read().decode('utf8')\n",
    "print re.findall(r'\\w+',tekst,re.UNICODE)"
   ]
  }
 ],
 "metadata": {
  "anaconda-cloud": {},
  "kernelspec": {
   "display_name": "Python [default]",
   "language": "python",
   "name": "python2"
  },
  "language_info": {
   "codemirror_mode": {
    "name": "ipython",
    "version": 2
   },
   "file_extension": ".py",
   "mimetype": "text/x-python",
   "name": "python",
   "nbconvert_exporter": "python",
   "pygments_lexer": "ipython2",
   "version": "2.7.12"
  }
 },
 "nbformat": 4,
 "nbformat_minor": 0
}
