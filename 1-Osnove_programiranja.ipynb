{
 "cells": [
  {
   "cell_type": "markdown",
   "metadata": {},
   "source": [
    "# 1. Osnove programiranja"
   ]
  },
  {
   "cell_type": "markdown",
   "metadata": {
    "collapsed": true
   },
   "source": [
    "## 1.1. Python\n",
    "\n",
    "*Python* (https://www.python.org) je **visokorazinski** ([High-level programming language](https://en.wikipedia.org/wiki/High-level_programming_language)), **interpretirani** ([Interpreter (computing)](https://en.wikipedia.org/wiki/Interpreter_(computing)) i **dinamički tipizirani** ([Dynamic programming language](https://en.wikipedia.org/wiki/Dynamic_programming_language)) jezik.\n",
    "Kod **visokorazinskih jezika** ne treba brinuti o načinu izvođenja koda na računalu zbog visokog stupnja apstrakcije.\n",
    "**Interpretirani jezik** znači da se kod tumači pri pokretanju.\n",
    "Kod **dinamički tipiziranog jezika** nije potrebno unaprijed definirati tipove podataka."
   ]
  },
  {
   "cell_type": "markdown",
   "metadata": {},
   "source": [
    "## 1.2. Osnovni pojmovi\n",
    "\n",
    "*Python* poznaje različite **tipove podataka** ([Data type](https://en.wikipedia.org/wiki/Data_type)) kao što su cjelobrojni, realni, logički, nizovi znakova...\n",
    "\n",
    "**Varijabla** ([Variable (computer science)](https://en.wikipedia.org/wiki/Variable_(computer_science))) je lokacija na memoriji u koju se može pohraniti neka vrijednost.\n",
    "\n",
    "U objektno-orijentiranim jezicima ([Object-oriented programming](https://en.wikipedia.org/wiki/Object-oriented_programming)) varijable su zapravo **objekti** ([Object (computer science)](https://en.wikipedia.org/wiki/Object_(computer_science)). Objekt posjeduje **svojstva** (podaci) ([Attribute (computing)](https://en.wikipedia.org/wiki/Attribute_(computing)) i **metode** (operacije nad pohranjenim podacima) ([Method (computer programming)](https://en.wikipedia.org/wiki/Method_(computer_programming)). Svi objekti istog tipa pripadaju istoj **klasi** ([Class (computer programming)](https://en.wikipedia.org/wiki/Class_(computer_programming))."
   ]
  },
  {
   "cell_type": "markdown",
   "metadata": {},
   "source": [
    "## 1.3. Primjer modela fizičkog objekta\n",
    "\n",
    "Fizički **objekt** bicikl pripada **klasi** svih bicikala. **Instanca klase** je konkretan bicikl. Klasa je nacrt svih objekata, instanci te klase (zajednička svojstva svih pripadnika klase). **Svojstva** bicikla su tip, boja, veličina, veličina kotača, tip kočnica i sl. **Metode** koje pripadaju objektu bicikl su kreni, ubrzaj, stani, koči, prebaci u višu brzinu, prebaci u nižu brzinu i sl.\n",
    "\n",
    "**Objekt**: bicikl\n",
    "**Klase**: svojstva bicikla i operacije koje se mogu vršiti biciklom\n",
    "**Instanca klase**: konkretan bicikl\n",
    "**Svojstve**: tip, boja, veličina, veličina kotača, tip kočnica\n",
    "**Metode**: kreni, ubrzaj, stani, koči, prebaci u višu brzinu, prebaci u nižu brzinu"
   ]
  },
  {
   "cell_type": "markdown",
   "metadata": {
    "collapsed": true
   },
   "source": [
    "## 1.4. Primjer objekta\n",
    "\n",
    "Niz znakova je tip podataka **string**. U *Pythonu* se koristi naredba `print` za ispisivanje."
   ]
  },
  {
   "cell_type": "code",
   "execution_count": 316,
   "metadata": {
    "collapsed": false
   },
   "outputs": [
    {
     "name": "stdout",
     "output_type": "stream",
     "text": [
      "Hello world\n"
     ]
    }
   ],
   "source": [
    "print \"Hello world\""
   ]
  },
  {
   "cell_type": "code",
   "execution_count": 317,
   "metadata": {
    "collapsed": true
   },
   "outputs": [],
   "source": [
    "s=\"Hello world\""
   ]
  },
  {
   "cell_type": "code",
   "execution_count": 318,
   "metadata": {
    "collapsed": false
   },
   "outputs": [
    {
     "name": "stdout",
     "output_type": "stream",
     "text": [
      "Hello world\n"
     ]
    }
   ],
   "source": [
    "print s"
   ]
  },
  {
   "cell_type": "code",
   "execution_count": 319,
   "metadata": {
    "collapsed": false
   },
   "outputs": [
    {
     "name": "stdout",
     "output_type": "stream",
     "text": [
      "HELLO WORLD\n"
     ]
    }
   ],
   "source": [
    "print s.upper()"
   ]
  },
  {
   "cell_type": "code",
   "execution_count": 320,
   "metadata": {
    "collapsed": false
   },
   "outputs": [
    {
     "name": "stdout",
     "output_type": "stream",
     "text": [
      "HellO wOrld\n"
     ]
    }
   ],
   "source": [
    "print s.replace(\"o\",\"O\")"
   ]
  },
  {
   "cell_type": "markdown",
   "metadata": {},
   "source": [
    "s je **varijabla**, odnosno **referenca** na **objekt** tipa string.\n",
    "\n",
    "`upper()` i `replace()` su **metode**.\n",
    "\n",
    "**Svojstvo** objekta je njegov sadržaj ispisan naredbom print.\n",
    "\n",
    "`replace` je **ime metode**. To je metoda koja prima dva **argumenta**."
   ]
  },
  {
   "cell_type": "markdown",
   "metadata": {},
   "source": [
    "## 1.5. Jednostavni tipovi podataka\n",
    "\n",
    "*Python* poznaje sljedeće jednostavne tipove podataka:\n",
    "* cjelobrojni tip podataka (int)\n",
    "* realni tip podataka (float)\n",
    "* niz znakova (string)\n",
    "* logička vrijednost (bool)."
   ]
  },
  {
   "cell_type": "markdown",
   "metadata": {},
   "source": [
    "### 1.5.1. Cjelobrojni tip podataka\n",
    "\n",
    "Brojevi pripadaju nepromjenjivim tipovima podataka. U Pythonu se prije razlomačkog dijela broja koristi točka, a ne zarez.\n",
    "\n",
    "Cjelobrojni tipovi podataka ([Integer (computer science)](https://en.wikipedia.org/wiki/Integer_(computer_science)) su pozitivni ili negativni cijeli brojevi bez decimalne točke. Za pohranjivanje cjelobrojnog tipa podataka potrebno je 32 bita."
   ]
  },
  {
   "cell_type": "code",
   "execution_count": 321,
   "metadata": {
    "collapsed": false
   },
   "outputs": [
    {
     "data": {
      "text/plain": [
       "2"
      ]
     },
     "execution_count": 321,
     "metadata": {},
     "output_type": "execute_result"
    }
   ],
   "source": [
    "2"
   ]
  },
  {
   "cell_type": "code",
   "execution_count": 322,
   "metadata": {
    "collapsed": false
   },
   "outputs": [
    {
     "data": {
      "text/plain": [
       "-7897"
      ]
     },
     "execution_count": 322,
     "metadata": {},
     "output_type": "execute_result"
    }
   ],
   "source": [
    "-7897"
   ]
  },
  {
   "cell_type": "markdown",
   "metadata": {},
   "source": [
    "Cijeli brojevi mogu se prikazati od -9 223 372 036 854 775 808 do 9 223 372 036 854 775 807. U slučaju da postoji potreba za brojevima izvan navedenog raspona, mogu se pohraniti u cijele brojeve u dugom zapisu s oznakom `L`. U tom slučaju je ograničenje broja jedino količina radne memorije računala."
   ]
  },
  {
   "cell_type": "markdown",
   "metadata": {},
   "source": [
    "### 1.5.2. Realni tip podataka\n",
    "\n",
    "Realne vrijednosti su pozitivni ili negativni realni brojevi s pomičnom (kliznom) točkom (en. *floating-point*) ([Floating point](https://en.wikipedia.org/wiki/Floating_point)) koji odvaja cjelobrojnu vrijednost broja i razlomački dio. Brojevi s pomičnom točkom mogu se prikazati na dva načina: klasični način s točkom ili znanstveni način prikazivanja brojeva sa slovom E. Za pohranjivanje realnog tipa podataka potrebno je 64 bita."
   ]
  },
  {
   "cell_type": "code",
   "execution_count": 323,
   "metadata": {
    "collapsed": false
   },
   "outputs": [
    {
     "data": {
      "text/plain": [
       "3.4"
      ]
     },
     "execution_count": 323,
     "metadata": {},
     "output_type": "execute_result"
    }
   ],
   "source": [
    "3.4"
   ]
  },
  {
   "cell_type": "code",
   "execution_count": 324,
   "metadata": {
    "collapsed": false
   },
   "outputs": [
    {
     "data": {
      "text/plain": [
       "-7213.6241"
      ]
     },
     "execution_count": 324,
     "metadata": {},
     "output_type": "execute_result"
    }
   ],
   "source": [
    "-7213.6241"
   ]
  },
  {
   "cell_type": "code",
   "execution_count": 325,
   "metadata": {
    "collapsed": false
   },
   "outputs": [
    {
     "data": {
      "text/plain": [
       "2.66e-23"
      ]
     },
     "execution_count": 325,
     "metadata": {},
     "output_type": "execute_result"
    }
   ],
   "source": [
    "2.66e-23"
   ]
  },
  {
   "cell_type": "markdown",
   "metadata": {},
   "source": [
    "Realni brojevi mogu se prikazati od 2,2250738585072014e-308 do 1,7976931348623157e+308. Kad je rezultat operacije nad brojevima prevelik za prikaz u Pythonu, prikaže se vrijednost `inf`. Slično tome, kad je negativan broj manji od najmanjeg broja koji se može prikazati u Pythonu, prikaže se vrijednost `0.0`."
   ]
  },
  {
   "cell_type": "markdown",
   "metadata": {},
   "source": [
    "### 1.5.3. Niz znakova\n",
    "\n",
    "Niz znakova (en. *string*) ([String (computer science)](https://en.wikipedia.org/wiki/String_(computer_science))) pripadaju nepromjenjivim tipovima podataka koje možemo definirati kao jedan ili više znakova omeđenih jednostrukim (`'`) ili dvostrukim navodnicima (`\"`).Ako je niz znakova započet s jednostrukim navodnicima, tada mora i završavati jednostrukim navodnicima. Isto vrijedi i za dvostruke navodnike. Moguće je kombinirati jednostruke i dvostruke navodnike. Ako je niz znakova započet s jednostrukim navodnicima, može sadržavati jedan ili više dvostruki navodnik. Također vrijedi da niz znakova započet dvostrukim navodnicima može sadržavati jedan ili više jednostruki navodnik."
   ]
  },
  {
   "cell_type": "code",
   "execution_count": 326,
   "metadata": {
    "collapsed": false
   },
   "outputs": [
    {
     "data": {
      "text/plain": [
       "'Ovo je niz znakova.'"
      ]
     },
     "execution_count": 326,
     "metadata": {},
     "output_type": "execute_result"
    }
   ],
   "source": [
    "'Ovo je niz znakova.'"
   ]
  },
  {
   "cell_type": "code",
   "execution_count": 327,
   "metadata": {
    "collapsed": false
   },
   "outputs": [
    {
     "data": {
      "text/plain": [
       "'Ovo je isto niz znakova.'"
      ]
     },
     "execution_count": 327,
     "metadata": {},
     "output_type": "execute_result"
    }
   ],
   "source": [
    "\"Ovo je isto niz znakova.\""
   ]
  },
  {
   "cell_type": "code",
   "execution_count": 328,
   "metadata": {
    "collapsed": false
   },
   "outputs": [
    {
     "data": {
      "text/plain": [
       "\"Ovo je 'niz znakova' u kojem se nalazi 'kombinacija' navodnika.\""
      ]
     },
     "execution_count": 328,
     "metadata": {},
     "output_type": "execute_result"
    }
   ],
   "source": [
    "\"Ovo je 'niz znakova' u kojem se nalazi 'kombinacija' navodnika.\""
   ]
  },
  {
   "cell_type": "markdown",
   "metadata": {},
   "source": [
    "Moguće je navesti prazan niz znakova navođenjem dva jednostruka ili dvostruka navodnika za redom. Vrijednost toga niza znakova je prazan niz duljine 1:"
   ]
  },
  {
   "cell_type": "code",
   "execution_count": 329,
   "metadata": {
    "collapsed": false
   },
   "outputs": [
    {
     "data": {
      "text/plain": [
       "''"
      ]
     },
     "execution_count": 329,
     "metadata": {},
     "output_type": "execute_result"
    }
   ],
   "source": [
    "''"
   ]
  },
  {
   "cell_type": "code",
   "execution_count": 330,
   "metadata": {
    "collapsed": false
   },
   "outputs": [
    {
     "data": {
      "text/plain": [
       "''"
      ]
     },
     "execution_count": 330,
     "metadata": {},
     "output_type": "execute_result"
    }
   ],
   "source": [
    "\"\""
   ]
  },
  {
   "cell_type": "markdown",
   "metadata": {},
   "source": [
    "Python razlikuje znamenke pohranjene kao nizove znakova:"
   ]
  },
  {
   "cell_type": "code",
   "execution_count": 331,
   "metadata": {
    "collapsed": false
   },
   "outputs": [
    {
     "data": {
      "text/plain": [
       "'3.14'"
      ]
     },
     "execution_count": 331,
     "metadata": {},
     "output_type": "execute_result"
    }
   ],
   "source": [
    "'3.14'"
   ]
  },
  {
   "cell_type": "markdown",
   "metadata": {},
   "source": [
    "kao, u ovom slučaju realnu vrijednost:"
   ]
  },
  {
   "cell_type": "code",
   "execution_count": 332,
   "metadata": {
    "collapsed": false
   },
   "outputs": [
    {
     "data": {
      "text/plain": [
       "3.14"
      ]
     },
     "execution_count": 332,
     "metadata": {},
     "output_type": "execute_result"
    }
   ],
   "source": [
    "3.14"
   ]
  },
  {
   "cell_type": "markdown",
   "metadata": {},
   "source": [
    "#### 1.5.3.1. Indeksiranje znakova\n",
    "Unutar niza znakova je moguće dohvatiti (indeksirati ili adresirati) podniz putem uglatih zagrada i indeksa. Indeksiranje počinje nultim indeksom (en. *zero-based numbering*) ([Zero-based numbering](https://en.wikipedia.org/wiki/Zero-based_numbering)) te završava n-1 indeksom dužine niza. Indeks mora biti cjelobrojna vrijednost. Indeksirati se može jedan, u ovom primjeru prvi znak:"
   ]
  },
  {
   "cell_type": "code",
   "execution_count": 333,
   "metadata": {
    "collapsed": false
   },
   "outputs": [
    {
     "data": {
      "text/plain": [
       "'O'"
      ]
     },
     "execution_count": 333,
     "metadata": {},
     "output_type": "execute_result"
    }
   ],
   "source": [
    "'Ovo je niz.'[0]"
   ]
  },
  {
   "cell_type": "markdown",
   "metadata": {},
   "source": [
    "Ako se niz pohrani u varijablu, može se indeksirati preko naziva varijable:"
   ]
  },
  {
   "cell_type": "code",
   "execution_count": 334,
   "metadata": {
    "collapsed": false
   },
   "outputs": [
    {
     "data": {
      "text/plain": [
       "'O'"
      ]
     },
     "execution_count": 334,
     "metadata": {},
     "output_type": "execute_result"
    }
   ],
   "source": [
    "niz='Ovo je niz.'\n",
    "niz[0]"
   ]
  },
  {
   "cell_type": "markdown",
   "metadata": {},
   "source": [
    "Indeksirati se može i više znakova navodeći raspon indeksa tako da se navede početni indeks od kojeg se kreće, dvotočje te završni indeks do kojeg završava podniz:"
   ]
  },
  {
   "cell_type": "code",
   "execution_count": 335,
   "metadata": {
    "collapsed": false
   },
   "outputs": [
    {
     "data": {
      "text/plain": [
       "'je'"
      ]
     },
     "execution_count": 335,
     "metadata": {},
     "output_type": "execute_result"
    }
   ],
   "source": [
    "niz[4:6]"
   ]
  },
  {
   "cell_type": "markdown",
   "metadata": {},
   "source": [
    "Ako se navodeći raspon indeksa izostavi završni indeks u *Pythonu*, program će naredbu obraditi kao da je umjesto izostavljenog indeksa naveden posljednji indeks niza:"
   ]
  },
  {
   "cell_type": "code",
   "execution_count": 336,
   "metadata": {
    "collapsed": false
   },
   "outputs": [
    {
     "data": {
      "text/plain": [
       "'je niz.'"
      ]
     },
     "execution_count": 336,
     "metadata": {},
     "output_type": "execute_result"
    }
   ],
   "source": [
    "niz[4:]"
   ]
  },
  {
   "cell_type": "markdown",
   "metadata": {},
   "source": [
    "Također, ako se navodeći raspon indeksa izostavi početni indeks, program će naredbu obraditi kao da je umjesto izostavljenog indeksa naveden prvi indeks niza:"
   ]
  },
  {
   "cell_type": "code",
   "execution_count": 337,
   "metadata": {
    "collapsed": false
   },
   "outputs": [
    {
     "data": {
      "text/plain": [
       "'Ovo je'"
      ]
     },
     "execution_count": 337,
     "metadata": {},
     "output_type": "execute_result"
    }
   ],
   "source": [
    "niz[:6]"
   ]
  },
  {
   "cell_type": "markdown",
   "metadata": {},
   "source": [
    "Moguće je indeksirati i posljednji znak negativnom cjelobrojnom vrijednosti indeksa:"
   ]
  },
  {
   "cell_type": "code",
   "execution_count": 338,
   "metadata": {
    "collapsed": false
   },
   "outputs": [
    {
     "data": {
      "text/plain": [
       "'.'"
      ]
     },
     "execution_count": 338,
     "metadata": {},
     "output_type": "execute_result"
    }
   ],
   "source": [
    "niz[-1]"
   ]
  },
  {
   "cell_type": "markdown",
   "metadata": {},
   "source": [
    "Kod indeksiranja je moguće kombinirati pozitivne i negativne vrijednosti indeksa, dok god se početni indeks nalazi na indeksnom mjestu prije završnog indeksa. U suprotnom program vraća prazan niz."
   ]
  },
  {
   "cell_type": "code",
   "execution_count": 339,
   "metadata": {
    "collapsed": false
   },
   "outputs": [
    {
     "data": {
      "text/plain": [
       "'niz'"
      ]
     },
     "execution_count": 339,
     "metadata": {},
     "output_type": "execute_result"
    }
   ],
   "source": [
    "niz[7:-1]"
   ]
  },
  {
   "cell_type": "code",
   "execution_count": 340,
   "metadata": {
    "collapsed": false
   },
   "outputs": [
    {
     "data": {
      "text/plain": [
       "''"
      ]
     },
     "execution_count": 340,
     "metadata": {},
     "output_type": "execute_result"
    }
   ],
   "source": [
    "niz[7:-5]"
   ]
  },
  {
   "cell_type": "markdown",
   "metadata": {},
   "source": [
    "#### 1.5.3.2. Posebni znakovi\n",
    "Ako postoji potreba za unosom novog retka, potrebno je rabiti znak `\\n`. Razlika između unosa i ispisa bit će vidljiva prilikom korištenja print naredbe:"
   ]
  },
  {
   "cell_type": "code",
   "execution_count": 341,
   "metadata": {
    "collapsed": false
   },
   "outputs": [
    {
     "name": "stdout",
     "output_type": "stream",
     "text": [
      "Prvi red niza.\n",
      "Drugi red niza.\n"
     ]
    }
   ],
   "source": [
    "print 'Prvi red niza.\\nDrugi red niza.'"
   ]
  },
  {
   "cell_type": "markdown",
   "metadata": {},
   "source": [
    "Osim posebnog znaka za prelazak u novi red, u Pythonu postoji još nekoliko korisnih nizova znakova posebnog značenja, koji se prikazuju pomoću obrnute kose crte (\\\\):\n",
    "\n",
    "Niz | Opis | Unicode kod\n",
    "--- | --- | ---\n",
    "\\\\ | obrnuta kosa crta (\\\\) | `\\u005C`\n",
    "\\' | jednostruki navodnik ('), koji se može koristiti unutar niza znakova započetog jednostrukim navodnicima | `\\u0027`\n",
    "\\\" | dvostruki navodnik (\"), koji se može koristiti unutar niza znakova započetog dvostrukim navodnicima | `\\u0022`\n",
    "\\n | ASCII Linefeed (LF) (novi red) | `\\u000A`\n",
    "\\r | ASCII Carriage Return (CR) (povrat glave pisača na početak reda) | `\\u000D`\n",
    "\\t | ASCII Horizontal Tab (TAB) (vodoravni tabulator) | `\\u0009`\n",
    "\\v | ASCII Vertical Tab (VT) (okomiti tabulator) | `\\u000B`"
   ]
  },
  {
   "cell_type": "markdown",
   "metadata": {},
   "source": [
    "### 1.5.4. Logička vrijednost\n",
    "\n",
    "Logičke vrijednosti ili Booleove vrijednosti ([Boolean data type](https://en.wikipedia.org/wiki/Boolean_data_type)) poprimaju samo dvije moguće vrijednosti, koje se prikazuju pomoću konstanti `True` i `False`. Logičke vrijednosti obično su rezultat uspoređivanja:"
   ]
  },
  {
   "cell_type": "code",
   "execution_count": 342,
   "metadata": {
    "collapsed": false
   },
   "outputs": [
    {
     "data": {
      "text/plain": [
       "True"
      ]
     },
     "execution_count": 342,
     "metadata": {},
     "output_type": "execute_result"
    }
   ],
   "source": [
    "3<7"
   ]
  },
  {
   "cell_type": "code",
   "execution_count": 343,
   "metadata": {
    "collapsed": false
   },
   "outputs": [
    {
     "data": {
      "text/plain": [
       "False"
      ]
     },
     "execution_count": 343,
     "metadata": {},
     "output_type": "execute_result"
    }
   ],
   "source": [
    "4.5>9"
   ]
  },
  {
   "cell_type": "markdown",
   "metadata": {},
   "source": [
    "## 1.6. Varijable\n",
    "\n",
    "Varijabla je mjesto pohrane kojem je dodijeljen naziv u kojem program može pohraniti dodijeljenu vrijednost te je pročitati i prikazati. Svaki programski jezik ima različita pravila kako se varijable mogu nazivati, unositi i koristiti. Varijabla poprima određenu vrijednost naredbom **dodjeljivanja**. Naredba dodjeljivanja vrši se operatorom `=`:\n",
    "\n",
    "`<naziv varijable> = <vrijednost>`\n",
    "\n",
    "### 1.6.1. Imenovanje varijabli\n",
    "Prilikom imenovanja varijabli treba imati na umu sljedeće:\n",
    "* Naziv varijable može sadržavati slova engleske abecede, znamenke i podcrte.\n",
    "* *Python* razlikuje velika i mala slova. Nije isto imenovati varijablu \"broj\", \"Broj\", \"BROJ\", \"BrOj\" i sl.\n",
    "* Naziv varijable mora početi sa slovom ili podcrtom. Ne može početi sa znamenkom.\n",
    "* Postoje tzv. rezervirane riječi koje čine sintaksu programskog jezika i koje se ne mogu koristiti kao nazivi varijabli. To su:\n",
    "```\n",
    "['and', 'as', 'assert', 'break', 'class', 'continue', 'def', 'del', 'elif', 'else', 'except', 'exec', 'finally', 'for', 'from', 'global', 'if', 'import', 'in', 'is', 'lambda', 'not', 'or', 'pass', 'print', 'raise', 'return', 'try', 'while', 'with', 'yield']\n",
    "```\n",
    ".\n",
    "* `None` se također ne može koristiti za naziv varijable, iako nije rezervirana riječ, već konstanta.\n",
    "\n",
    "### 1.6.2. Dodjeljivanje vrijednosti varijabli\n",
    "Prilikom deklariranja varijable ne navodi se vrsta podataka. Vrijednost koja je navedena prilikom deklariranja varijable određuje kojem tipu podataka pripada varijabla. Vrijednost varijable je moguće mijenjati tijekom izvođenja programa. Također je deklariranjem varijable moguće mijenjati tako i tip podatka varijable.\n",
    "Kako bi se varijabla mogla koristiti tijekom izvođenja programa, mora biti deklarirana. Varijabla se može deklarirati dodjeljivanjem neke vrijednosti. Na sljedeći način pohranjuje se cjelobrojna vrijednost `9` u varijablu nazvanu `broj1`:"
   ]
  },
  {
   "cell_type": "code",
   "execution_count": 344,
   "metadata": {
    "collapsed": false
   },
   "outputs": [
    {
     "name": "stdout",
     "output_type": "stream",
     "text": [
      "9\n"
     ]
    }
   ],
   "source": [
    "broj1=9\n",
    "print broj1"
   ]
  },
  {
   "cell_type": "markdown",
   "metadata": {},
   "source": [
    "Realna vrijednost `-16.85` pohranjuje se u varijablu nazvanu `broj2` na sljedeći način:"
   ]
  },
  {
   "cell_type": "code",
   "execution_count": 345,
   "metadata": {
    "collapsed": false
   },
   "outputs": [
    {
     "name": "stdout",
     "output_type": "stream",
     "text": [
      "-16.85\n"
     ]
    }
   ],
   "source": [
    "broj2=-16.85\n",
    "print broj2"
   ]
  },
  {
   "cell_type": "markdown",
   "metadata": {},
   "source": [
    "Na sljedeći način se niz znakova `Ovo je niz` pohranjuje u varijablu nazvanu `niz1`:"
   ]
  },
  {
   "cell_type": "code",
   "execution_count": 346,
   "metadata": {
    "collapsed": false
   },
   "outputs": [
    {
     "name": "stdout",
     "output_type": "stream",
     "text": [
      "Ovo je niz\n"
     ]
    }
   ],
   "source": [
    "niz1='Ovo je niz'\n",
    "print niz1"
   ]
  },
  {
   "cell_type": "markdown",
   "metadata": {},
   "source": [
    "Varijabla se može deklarirati i navođenjem praznine, čime je definiran tip podatka varijable, a trenutni sadržaj vrijednosti je prazan. Niz znakova se deklarira navođenjem dva jednostruka ili dvostruka navodnika za redom. Tako inicijaliziramo varijablu čija vrijednost je prazna, a tip podataka je niz znakova:"
   ]
  },
  {
   "cell_type": "code",
   "execution_count": 347,
   "metadata": {
    "collapsed": false
   },
   "outputs": [
    {
     "name": "stdout",
     "output_type": "stream",
     "text": [
      "\n"
     ]
    }
   ],
   "source": [
    "prazan_niz1=''\n",
    "print prazan_niz1"
   ]
  },
  {
   "cell_type": "markdown",
   "metadata": {},
   "source": [
    "ili"
   ]
  },
  {
   "cell_type": "code",
   "execution_count": 348,
   "metadata": {
    "collapsed": false
   },
   "outputs": [
    {
     "name": "stdout",
     "output_type": "stream",
     "text": [
      "\n"
     ]
    }
   ],
   "source": [
    "prazan_niz2=\"\"\n",
    "print prazan_niz2"
   ]
  },
  {
   "cell_type": "markdown",
   "metadata": {},
   "source": [
    "Dva tipa podataka koja su kasnije obrađena, su lista i rječnik, koji se također mogu deklarirati odnosno inicijalizirati bez sadržavanja vrijednosti."
   ]
  },
  {
   "cell_type": "code",
   "execution_count": 349,
   "metadata": {
    "collapsed": false
   },
   "outputs": [
    {
     "name": "stdout",
     "output_type": "stream",
     "text": [
      "[]\n"
     ]
    }
   ],
   "source": [
    "lista=[]\n",
    "print lista"
   ]
  },
  {
   "cell_type": "code",
   "execution_count": 350,
   "metadata": {
    "collapsed": false
   },
   "outputs": [
    {
     "name": "stdout",
     "output_type": "stream",
     "text": [
      "{}\n"
     ]
    }
   ],
   "source": [
    "rjecnik={}\n",
    "print rjecnik"
   ]
  },
  {
   "cell_type": "markdown",
   "metadata": {},
   "source": [
    "Ako ne znamo koju vrijednost i tip podataka će varijabla sadržavati, deklarirat ćemo je konstantom `None`:"
   ]
  },
  {
   "cell_type": "code",
   "execution_count": 351,
   "metadata": {
    "collapsed": false
   },
   "outputs": [
    {
     "name": "stdout",
     "output_type": "stream",
     "text": [
      "None\n"
     ]
    }
   ],
   "source": [
    "var=None\n",
    "print var"
   ]
  },
  {
   "cell_type": "markdown",
   "metadata": {},
   "source": [
    "## 1.7. Operatori\n",
    "\n",
    "*Python* podržava sljedeće tipove operatora:\n",
    "* aritmetički operatori\n",
    "* operatori uspoređivanja\n",
    "* operatori pridruživanja\n",
    "* operatori članstva\n",
    "\n",
    "### 1.7.1. Aritmetički operatori\n",
    "\n",
    "Aritmetički operatori su:\n",
    "* operator zbrajanja (`+`)\n",
    "* operator oduzimanja (`-`)\n",
    "* operator množenja (`*`)\n",
    "* operator dijeljenja (`/`)\n",
    "* operator ostatka cjelobrojnog dijeljenja (`%`)\n",
    "* eksponent (`**`)\n",
    "\n",
    "#### 1.7.1.1. Operator zbrajanja\n",
    "\n",
    "Operator zbrajanja (`+`) zbraja vrijednosti s desne i lijeve strane operatora."
   ]
  },
  {
   "cell_type": "code",
   "execution_count": 355,
   "metadata": {
    "collapsed": false
   },
   "outputs": [
    {
     "name": "stdout",
     "output_type": "stream",
     "text": [
      "30\n"
     ]
    }
   ],
   "source": [
    "a=20\n",
    "b=10\n",
    "print a+b"
   ]
  },
  {
   "cell_type": "markdown",
   "metadata": {},
   "source": [
    "#### 1.7.1.2. Operator oduzimanja\n",
    "\n",
    "Operator oduzimanja (`-`) oduzima desni operand od lijevog."
   ]
  },
  {
   "cell_type": "code",
   "execution_count": 356,
   "metadata": {
    "collapsed": false
   },
   "outputs": [
    {
     "name": "stdout",
     "output_type": "stream",
     "text": [
      "10\n"
     ]
    }
   ],
   "source": [
    "a=20\n",
    "b=10\n",
    "print a-b"
   ]
  },
  {
   "cell_type": "markdown",
   "metadata": {},
   "source": [
    "#### 1.7.1.3. Operator množenja\n",
    "\n",
    "Operator množenja (`*`) množi vrijednosti s desne i lijeve strane operatora."
   ]
  },
  {
   "cell_type": "code",
   "execution_count": 357,
   "metadata": {
    "collapsed": false
   },
   "outputs": [
    {
     "name": "stdout",
     "output_type": "stream",
     "text": [
      "200\n"
     ]
    }
   ],
   "source": [
    "a=20\n",
    "b=10\n",
    "print a*b"
   ]
  },
  {
   "cell_type": "markdown",
   "metadata": {},
   "source": [
    "#### 1.7.1.4. Operator dijeljenja\n",
    "\n",
    "Operator dijeljenja (`/`) vrši cjelobrojno dijeljenje tako da dijeli lijevi operand od desnog operanda."
   ]
  },
  {
   "cell_type": "code",
   "execution_count": 358,
   "metadata": {
    "collapsed": false
   },
   "outputs": [
    {
     "name": "stdout",
     "output_type": "stream",
     "text": [
      "2\n"
     ]
    }
   ],
   "source": [
    "a=20\n",
    "b=10\n",
    "print a/b"
   ]
  },
  {
   "cell_type": "code",
   "execution_count": 359,
   "metadata": {
    "collapsed": false
   },
   "outputs": [
    {
     "name": "stdout",
     "output_type": "stream",
     "text": [
      "3\n"
     ]
    }
   ],
   "source": [
    "c=7\n",
    "d=2\n",
    "print c/d"
   ]
  },
  {
   "cell_type": "markdown",
   "metadata": {},
   "source": [
    "Realno dijeljenje se vrši na dva načina. Jedan način je da jedan operand ima cjelobrojnu vrijednost."
   ]
  },
  {
   "cell_type": "code",
   "execution_count": 360,
   "metadata": {
    "collapsed": false
   },
   "outputs": [
    {
     "name": "stdout",
     "output_type": "stream",
     "text": [
      "3.5\n"
     ]
    }
   ],
   "source": [
    "e=7\n",
    "f=2.0\n",
    "print e/f"
   ]
  },
  {
   "cell_type": "markdown",
   "metadata": {},
   "source": [
    "Drugi način je korištenje funkcije `float()` koja pretvara cjeli broj u realni."
   ]
  },
  {
   "cell_type": "code",
   "execution_count": 361,
   "metadata": {
    "collapsed": false
   },
   "outputs": [
    {
     "name": "stdout",
     "output_type": "stream",
     "text": [
      "3.5\n"
     ]
    }
   ],
   "source": [
    "c=7\n",
    "d=2\n",
    "print float(c)/d"
   ]
  },
  {
   "cell_type": "code",
   "execution_count": 362,
   "metadata": {
    "collapsed": false
   },
   "outputs": [
    {
     "name": "stdout",
     "output_type": "stream",
     "text": [
      "3.5\n"
     ]
    }
   ],
   "source": [
    "print c/float(d)"
   ]
  },
  {
   "cell_type": "markdown",
   "metadata": {},
   "source": [
    "#### 1.7.1.5. Operator ostatka cjelobrojnog dijeljenja\n",
    "\n",
    "Operator ostatka cjelobrojnog dijeljenja (`%`) dijeli lijevi operand s desnim te vraća ostatak dijeljenja."
   ]
  },
  {
   "cell_type": "code",
   "execution_count": 363,
   "metadata": {
    "collapsed": false
   },
   "outputs": [
    {
     "name": "stdout",
     "output_type": "stream",
     "text": [
      "1\n"
     ]
    }
   ],
   "source": [
    "c=7\n",
    "d=2\n",
    "print c%d"
   ]
  },
  {
   "cell_type": "markdown",
   "metadata": {},
   "source": [
    "#### 1.7.1.6. Eksponent\n",
    "\n",
    "Eksponent (`**`) vrši eksponencijalnu funkciju, gdje je lijevi operand baza, a desni eksponent."
   ]
  },
  {
   "cell_type": "code",
   "execution_count": 364,
   "metadata": {
    "collapsed": false
   },
   "outputs": [
    {
     "name": "stdout",
     "output_type": "stream",
     "text": [
      "100\n"
     ]
    }
   ],
   "source": [
    "b=10\n",
    "d=2\n",
    "print b**2"
   ]
  },
  {
   "cell_type": "markdown",
   "metadata": {},
   "source": [
    "### 1.7.2. Operatori uspoređivanja\n",
    "\n",
    "Operatori uspoređivanja uspoređuju vrijednosti na obje strane te odlučuju o njihovoj relaciji. Operatori uspoređivanja su:\n",
    "* operator `==`\n",
    "* operator `!=`\n",
    "* operator `>`\n",
    "* operator `<`\n",
    "* operator `<>`\n",
    "* operator `>=`\n",
    "* operator `<=`\n",
    "\n",
    "#### 1.7.2.1. Operator `==`\n",
    "\n",
    "Operator `==` uspoređuje jesu li vrijednosti operanda jednake te vraća logički tip podataka, odnosno `True` kada su vrijednosti jednake, a `False` kada su različite."
   ]
  },
  {
   "cell_type": "code",
   "execution_count": 365,
   "metadata": {
    "collapsed": false
   },
   "outputs": [
    {
     "name": "stdout",
     "output_type": "stream",
     "text": [
      "False\n"
     ]
    }
   ],
   "source": [
    "a=20\n",
    "b=10\n",
    "print a==b"
   ]
  },
  {
   "cell_type": "code",
   "execution_count": 366,
   "metadata": {
    "collapsed": false
   },
   "outputs": [
    {
     "name": "stdout",
     "output_type": "stream",
     "text": [
      "True\n"
     ]
    }
   ],
   "source": [
    "c=7\n",
    "print c==7"
   ]
  },
  {
   "cell_type": "markdown",
   "metadata": {},
   "source": [
    "#### 1.7.2.2. Operator `!=`\n",
    "\n",
    "Operator `!=` provjerava jesu li vrijednosti operanda različite te vraća logički tip podataka, odnosno `True` kada su vrijednosti različite, a `False` kada su jednake.\n"
   ]
  },
  {
   "cell_type": "code",
   "execution_count": 367,
   "metadata": {
    "collapsed": false
   },
   "outputs": [
    {
     "name": "stdout",
     "output_type": "stream",
     "text": [
      "True\n"
     ]
    }
   ],
   "source": [
    "a=20\n",
    "b=10\n",
    "print a!=b"
   ]
  },
  {
   "cell_type": "code",
   "execution_count": 368,
   "metadata": {
    "collapsed": false
   },
   "outputs": [
    {
     "name": "stdout",
     "output_type": "stream",
     "text": [
      "False\n"
     ]
    }
   ],
   "source": [
    "c=7\n",
    "print c!=7"
   ]
  },
  {
   "cell_type": "markdown",
   "metadata": {},
   "source": [
    "#### 1.7.2.3. Operator `>`\n",
    "\n",
    "Operator `>` provjerava je li vrijednost lijevog operanda veća od vrijednosti desnog operanda te vraća logički tip podataka, odnosno `True` kada je vrijednost lijevog operanda veća od vrijednosti desnog operanda, a `False` kada vrijednost lijevog operanda nije veća od vrijednosti desnog operanda."
   ]
  },
  {
   "cell_type": "code",
   "execution_count": 369,
   "metadata": {
    "collapsed": false
   },
   "outputs": [
    {
     "name": "stdout",
     "output_type": "stream",
     "text": [
      "True\n"
     ]
    }
   ],
   "source": [
    "a=20\n",
    "b=10\n",
    "print a>b"
   ]
  },
  {
   "cell_type": "code",
   "execution_count": 370,
   "metadata": {
    "collapsed": false
   },
   "outputs": [
    {
     "name": "stdout",
     "output_type": "stream",
     "text": [
      "False\n"
     ]
    }
   ],
   "source": [
    "print b>a"
   ]
  },
  {
   "cell_type": "markdown",
   "metadata": {},
   "source": [
    "#### 1.7.2.4 Operator `<`\n",
    "\n",
    "Operator `<` provjerava je li vrijednost lijevog operanda manja od vrijednosti desnog operanda te vraća logički tip podataka, odnosno `True` kada je vrijednost lijevog operanda manja od vrijednosti desnog operanda, a `False` kada vrijednost lijevog operanda nije manja od vrijednosti desnog operanda."
   ]
  },
  {
   "cell_type": "code",
   "execution_count": 371,
   "metadata": {
    "collapsed": false
   },
   "outputs": [
    {
     "name": "stdout",
     "output_type": "stream",
     "text": [
      "False\n"
     ]
    }
   ],
   "source": [
    "a=20\n",
    "b=10\n",
    "print a<b"
   ]
  },
  {
   "cell_type": "code",
   "execution_count": 372,
   "metadata": {
    "collapsed": false
   },
   "outputs": [
    {
     "name": "stdout",
     "output_type": "stream",
     "text": [
      "True\n"
     ]
    }
   ],
   "source": [
    "print b<a"
   ]
  },
  {
   "cell_type": "markdown",
   "metadata": {},
   "source": [
    "#### 1.7.2.5. Operator `<>`\n",
    "\n",
    "Operator `<>` provjerava jesu li vrijednosti operanda različite te vraća logički tip podataka, odnosno `True` kada su vrijednosti različite, a `False` kada su jednake."
   ]
  },
  {
   "cell_type": "code",
   "execution_count": 373,
   "metadata": {
    "collapsed": false
   },
   "outputs": [
    {
     "name": "stdout",
     "output_type": "stream",
     "text": [
      "True\n"
     ]
    }
   ],
   "source": [
    "a=20\n",
    "b=10\n",
    "print a<>b"
   ]
  },
  {
   "cell_type": "code",
   "execution_count": 374,
   "metadata": {
    "collapsed": false
   },
   "outputs": [
    {
     "name": "stdout",
     "output_type": "stream",
     "text": [
      "False\n"
     ]
    }
   ],
   "source": [
    "c=7\n",
    "print c<>7"
   ]
  },
  {
   "cell_type": "markdown",
   "metadata": {},
   "source": [
    "#### 1.7.2.6. Operator `>=`\n",
    "\n",
    "Operator `>=` provjerava je li vrijednost lijevog operanda veća ili jednaka vrijednosti desnog operanda te vraća logički tip podataka, odnosno `True` kada je uvjet istinit, a `False` kada nije."
   ]
  },
  {
   "cell_type": "code",
   "execution_count": 375,
   "metadata": {
    "collapsed": false
   },
   "outputs": [
    {
     "name": "stdout",
     "output_type": "stream",
     "text": [
      "True\n"
     ]
    }
   ],
   "source": [
    "a=20\n",
    "b=10\n",
    "print a>=b"
   ]
  },
  {
   "cell_type": "code",
   "execution_count": 376,
   "metadata": {
    "collapsed": false
   },
   "outputs": [
    {
     "name": "stdout",
     "output_type": "stream",
     "text": [
      "False\n"
     ]
    }
   ],
   "source": [
    "print b>=a"
   ]
  },
  {
   "cell_type": "code",
   "execution_count": 377,
   "metadata": {
    "collapsed": false
   },
   "outputs": [
    {
     "name": "stdout",
     "output_type": "stream",
     "text": [
      "True\n"
     ]
    }
   ],
   "source": [
    "c=7\n",
    "print c>=7"
   ]
  },
  {
   "cell_type": "markdown",
   "metadata": {},
   "source": [
    "#### 1.7.2.7. Operator `<=`\n",
    "\n",
    "Operator `<=`provjerava je li vrijednost lijevog operanda manja ili jednaka vrijednosti desnog operanda te vraća logički tip podataka, odnosno `True` kada je uvjet istinit, a `False` kada nije."
   ]
  },
  {
   "cell_type": "code",
   "execution_count": 378,
   "metadata": {
    "collapsed": false
   },
   "outputs": [
    {
     "name": "stdout",
     "output_type": "stream",
     "text": [
      "False\n"
     ]
    }
   ],
   "source": [
    "a=20\n",
    "b=10\n",
    "print a<=b"
   ]
  },
  {
   "cell_type": "code",
   "execution_count": 379,
   "metadata": {
    "collapsed": false
   },
   "outputs": [
    {
     "name": "stdout",
     "output_type": "stream",
     "text": [
      "True\n"
     ]
    }
   ],
   "source": [
    "print b<=a"
   ]
  },
  {
   "cell_type": "code",
   "execution_count": 380,
   "metadata": {
    "collapsed": false
   },
   "outputs": [
    {
     "name": "stdout",
     "output_type": "stream",
     "text": [
      "True\n"
     ]
    }
   ],
   "source": [
    "c=7\n",
    "print c<=7"
   ]
  },
  {
   "cell_type": "markdown",
   "metadata": {},
   "source": [
    "### 1.7.3. Operatori pridruživanja\n",
    "\n",
    "Operatori pridruživanja dodjeljuju vrijednosti operandima ili vrše operacije nad operandima:\n",
    "* `=`\n",
    "* `+=`\n",
    "* `-=`\n",
    "* `*=`\n",
    "* `/=`\n",
    "* `%=`\n",
    "* `**=`\n",
    "\n",
    "#### 1.7.3.1. Operator `=`\n",
    "\n",
    "Operator `=` dodjeljuje lijevom operandu vrijednost desnog operanda."
   ]
  },
  {
   "cell_type": "code",
   "execution_count": 381,
   "metadata": {
    "collapsed": false
   },
   "outputs": [
    {
     "name": "stdout",
     "output_type": "stream",
     "text": [
      "7\n"
     ]
    }
   ],
   "source": [
    "c=7\n",
    "print c"
   ]
  },
  {
   "cell_type": "markdown",
   "metadata": {},
   "source": [
    "#### 1.7.3.2. Operator `+=`\n",
    "\n",
    "Operator `+=` zbraja lijevom operandu vrijednost desnog operanda te rezultat dodjeljuje lijevom operandu."
   ]
  },
  {
   "cell_type": "code",
   "execution_count": 382,
   "metadata": {
    "collapsed": false
   },
   "outputs": [
    {
     "name": "stdout",
     "output_type": "stream",
     "text": [
      "30\n",
      "10\n"
     ]
    }
   ],
   "source": [
    "a=20\n",
    "b=10\n",
    "a+=b\n",
    "print a\n",
    "print b"
   ]
  },
  {
   "cell_type": "markdown",
   "metadata": {},
   "source": [
    "#### 1.7.3.3. Operator `-=`\n",
    "\n",
    "Operator `-=` oduzima lijevom operandu vrijednost desnog operanda te rezultat dodjeljuje lijevom operandu."
   ]
  },
  {
   "cell_type": "code",
   "execution_count": 383,
   "metadata": {
    "collapsed": false
   },
   "outputs": [
    {
     "name": "stdout",
     "output_type": "stream",
     "text": [
      "13\n",
      "7\n"
     ]
    }
   ],
   "source": [
    "a=20\n",
    "c=7\n",
    "a-=c\n",
    "print a\n",
    "print c"
   ]
  },
  {
   "cell_type": "markdown",
   "metadata": {},
   "source": [
    "#### 1.7.3.4. Operator `*=`\n",
    "\n",
    "Operator `*=` množi desni operand s lijevim operandom te rezultat dodjeljuje lijevom operandu."
   ]
  },
  {
   "cell_type": "code",
   "execution_count": 384,
   "metadata": {
    "collapsed": false
   },
   "outputs": [
    {
     "name": "stdout",
     "output_type": "stream",
     "text": [
      "200\n",
      "10\n"
     ]
    }
   ],
   "source": [
    "a=20\n",
    "b=10\n",
    "a*=b\n",
    "print a\n",
    "print b"
   ]
  },
  {
   "cell_type": "markdown",
   "metadata": {},
   "source": [
    "#### 1.7.3.5. Operator `/=`\n",
    "\n",
    "Operator `/=` dijeli vrijednost desnog operanda s vrijednosti lijevog operanda te rezultat dodjeljuje lijevom operandu."
   ]
  },
  {
   "cell_type": "code",
   "execution_count": 385,
   "metadata": {
    "collapsed": false
   },
   "outputs": [
    {
     "name": "stdout",
     "output_type": "stream",
     "text": [
      "2\n",
      "10\n"
     ]
    }
   ],
   "source": [
    "a=20\n",
    "b=10\n",
    "a/=b\n",
    "print a\n",
    "print b"
   ]
  },
  {
   "cell_type": "markdown",
   "metadata": {},
   "source": [
    "#### 1.7.3.6. Operator `%=`\n",
    "\n",
    "Operator `%=` vraća ostatak dijeljenja vrijednosti desnog operanda s vrijednosti lijevog operanda te rezultat dodjeljuje lijevom operandu."
   ]
  },
  {
   "cell_type": "code",
   "execution_count": 386,
   "metadata": {
    "collapsed": false
   },
   "outputs": [
    {
     "name": "stdout",
     "output_type": "stream",
     "text": [
      "1\n",
      "2\n"
     ]
    }
   ],
   "source": [
    "c=7\n",
    "d=2\n",
    "c%=d\n",
    "print c\n",
    "print d"
   ]
  },
  {
   "cell_type": "markdown",
   "metadata": {},
   "source": [
    "#### 1.7.3.7. Operator `**=`\n",
    "\n",
    "Operator `**=` vrši eksponencijalnu funkciju, gdje je lijevi operand baza, a desni eksponent."
   ]
  },
  {
   "cell_type": "code",
   "execution_count": 387,
   "metadata": {
    "collapsed": false
   },
   "outputs": [
    {
     "name": "stdout",
     "output_type": "stream",
     "text": [
      "49\n",
      "2\n"
     ]
    }
   ],
   "source": [
    "c=7\n",
    "d=2\n",
    "c**=d\n",
    "print c\n",
    "print d"
   ]
  },
  {
   "cell_type": "markdown",
   "metadata": {},
   "source": [
    "### 1.7.4. Operatori članstva\n",
    "\n",
    "Operatori članstva ispituju nalazi se izraz u određenoj sekvenci, kao što su nizovi znakova ili liste. Operatori članstva su:\n",
    "* `in`\n",
    "* `not in`\n",
    "\n",
    "#### 1.7.4.1. Operator `in`\n",
    "\n",
    "Operator `in` ispituje nalazi se vrijednost varijable u određenoj sekvenci te vraća logički tip podataka, odnosno `True` ako se vrijednost varijable nalazi u određenoj sekvenci, a `False` ako se ne nalazi."
   ]
  },
  {
   "cell_type": "code",
   "execution_count": 388,
   "metadata": {
    "collapsed": false
   },
   "outputs": [
    {
     "data": {
      "text/plain": [
       "True"
      ]
     },
     "execution_count": 388,
     "metadata": {},
     "output_type": "execute_result"
    }
   ],
   "source": [
    "'a' in 'Niz znakova.'"
   ]
  },
  {
   "cell_type": "code",
   "execution_count": 389,
   "metadata": {
    "collapsed": false
   },
   "outputs": [
    {
     "data": {
      "text/plain": [
       "False"
      ]
     },
     "execution_count": 389,
     "metadata": {},
     "output_type": "execute_result"
    }
   ],
   "source": [
    "'y' in \"Niz znakova.\""
   ]
  },
  {
   "cell_type": "markdown",
   "metadata": {},
   "source": [
    "#### 1.7.4.2. Operator `not in`\n",
    "\n",
    "Operator `not in` ispituje nalazi se vrijednost varijable u određenoj sekvenci te vraća logički tip podataka, odnosno `True` ako se vrijednost varijable ne nalazi u određenoj sekvenci, a `False` ako se nalazi."
   ]
  },
  {
   "cell_type": "code",
   "execution_count": 390,
   "metadata": {
    "collapsed": false
   },
   "outputs": [
    {
     "data": {
      "text/plain": [
       "False"
      ]
     },
     "execution_count": 390,
     "metadata": {},
     "output_type": "execute_result"
    }
   ],
   "source": [
    "'a' not in 'Niz znakova.'"
   ]
  },
  {
   "cell_type": "code",
   "execution_count": 391,
   "metadata": {
    "collapsed": false
   },
   "outputs": [
    {
     "data": {
      "text/plain": [
       "True"
      ]
     },
     "execution_count": 391,
     "metadata": {},
     "output_type": "execute_result"
    }
   ],
   "source": [
    "'y' not in 'Niz znakova.'"
   ]
  },
  {
   "cell_type": "markdown",
   "metadata": {},
   "source": [
    "### 1.7.5. Složeni izrazi\n",
    "\n",
    "U *Pythonu* je moguće postavljati složene izraze, odnosno izraze u kojima postoji više od jendnog operatora."
   ]
  },
  {
   "cell_type": "code",
   "execution_count": 392,
   "metadata": {
    "collapsed": false
   },
   "outputs": [
    {
     "data": {
      "text/plain": [
       "False"
      ]
     },
     "execution_count": 392,
     "metadata": {},
     "output_type": "execute_result"
    }
   ],
   "source": [
    "2*5+2>=2**3*2"
   ]
  },
  {
   "cell_type": "markdown",
   "metadata": {},
   "source": [
    "U tom slučaju je potrebno poznavati kojim redoslijedom će se prvo izvoditi koji operator, odnosno prioritete operatora. Slijedi lista prioriteta obrađenih operatora od najvišeg do najnižeg:\n",
    "\n",
    "Operator | Opis\n",
    "--- | ---\n",
    "`**` | Eksponent\n",
    "`*` `/` `%` | Operatori množenja, dijeljenja, ostatka cjelobrojnog dijeljenja\n",
    "`+` `-` | Operatori zbrajanja i oduzimanja\n",
    "`<=` `<` `>` `>=` | Operatori uspoređivanja\n",
    "`<>` `==` `!=` | Operatori jednakosti\n",
    "`=` `%=` `/=` `/=` `-=` `+=` `*=` `**=` | Operatori pridruživanja\n",
    "`in` `not in` | Operatori članstva\n",
    "`not` `or` `and` | Logički operatori\n",
    "\n",
    "## 1.8. Funkcije\n",
    "\n",
    "Funkcije su potprogrami koji primaju nula ili više argumenata i vraćaju jednu vrijednost. Funkcije za pretvaranje tipa podataka (*casting*) su:\n",
    "* `int` (*integer*)\n",
    "* `float` (*floating point numbers*)\n",
    "* `str` (*string*)\n",
    "\n",
    "### 1.8.1. Funkcija `int`\n",
    "\n",
    "Funkcija `int` pretvara realni tip podatka u cjelobrojnu vrijednost ili niz znakova u kojem je pohranjena znamenka u cjelobrojnu vrijednost."
   ]
  },
  {
   "cell_type": "code",
   "execution_count": 393,
   "metadata": {
    "collapsed": false
   },
   "outputs": [
    {
     "data": {
      "text/plain": [
       "3"
      ]
     },
     "execution_count": 393,
     "metadata": {},
     "output_type": "execute_result"
    }
   ],
   "source": [
    "int(3.7)"
   ]
  },
  {
   "cell_type": "code",
   "execution_count": 394,
   "metadata": {
    "collapsed": false
   },
   "outputs": [
    {
     "data": {
      "text/plain": [
       "3"
      ]
     },
     "execution_count": 394,
     "metadata": {},
     "output_type": "execute_result"
    }
   ],
   "source": [
    "int('3')"
   ]
  },
  {
   "cell_type": "markdown",
   "metadata": {},
   "source": [
    "### 1.8.2. Funkcija `float`\n",
    "\n",
    "Funkcija `float` pretvara cjelobrojnu vrijednost u realni tip podatka."
   ]
  },
  {
   "cell_type": "code",
   "execution_count": 395,
   "metadata": {
    "collapsed": false
   },
   "outputs": [
    {
     "data": {
      "text/plain": [
       "3.5"
      ]
     },
     "execution_count": 395,
     "metadata": {},
     "output_type": "execute_result"
    }
   ],
   "source": [
    "7/float(2)"
   ]
  },
  {
   "cell_type": "markdown",
   "metadata": {},
   "source": [
    "### 1.8.3. Funkcija `str`\n",
    "\n",
    "Funkcija `str` pretvara brojčanu vrijednost u niz znakova."
   ]
  },
  {
   "cell_type": "code",
   "execution_count": 396,
   "metadata": {
    "collapsed": false
   },
   "outputs": [
    {
     "data": {
      "text/plain": [
       "'7.6'"
      ]
     },
     "execution_count": 396,
     "metadata": {},
     "output_type": "execute_result"
    }
   ],
   "source": [
    "str(7.6)"
   ]
  },
  {
   "cell_type": "markdown",
   "metadata": {},
   "source": [
    "# 1.9. Rad s nizovima znakova\n",
    "\n",
    "U programiranju **konkatenacija** niza znakova je operacija spajanja znakova iz niza znakova navedenim redoslijedom ([Concatenation](https://en.wikipedia.org/wiki/Concatenation)). U *Pythonu* se konkatenacija vrši operatorom `=`."
   ]
  },
  {
   "cell_type": "code",
   "execution_count": 397,
   "metadata": {
    "collapsed": false
   },
   "outputs": [
    {
     "name": "stdout",
     "output_type": "stream",
     "text": [
      "darovi\n"
     ]
    }
   ],
   "source": [
    "print 'dar'+'ovi'"
   ]
  },
  {
   "cell_type": "code",
   "execution_count": 398,
   "metadata": {
    "collapsed": false
   },
   "outputs": [
    {
     "name": "stdout",
     "output_type": "stream",
     "text": [
      "AnaJan\n"
     ]
    }
   ],
   "source": [
    "niz1='Ana i Ivo'\n",
    "niz2='Iva i Jan'\n",
    "print niz1[:3]+niz2[-3:]"
   ]
  },
  {
   "cell_type": "markdown",
   "metadata": {},
   "source": [
    "Konkatenacija vrši samo spajanje nizova znakova. U slučaju da želimo iz prethodnog primjera dodati razmak, veznik i razmak, potrebno je to izričito navesti."
   ]
  },
  {
   "cell_type": "code",
   "execution_count": 399,
   "metadata": {
    "collapsed": false
   },
   "outputs": [
    {
     "name": "stdout",
     "output_type": "stream",
     "text": [
      "Ana i Jan\n"
     ]
    }
   ],
   "source": [
    "niz1='Ana i Ivo'\n",
    "niz2='Iva i Jan'\n",
    "print niz1[:6]+niz2[-3:]"
   ]
  },
  {
   "cell_type": "markdown",
   "metadata": {},
   "source": [
    "ili"
   ]
  },
  {
   "cell_type": "code",
   "execution_count": 400,
   "metadata": {
    "collapsed": false
   },
   "outputs": [
    {
     "name": "stdout",
     "output_type": "stream",
     "text": [
      "Ana i Jan\n"
     ]
    }
   ],
   "source": [
    "niz1='Ana i Ivo'\n",
    "niz2='Iva i Jan'\n",
    "print niz1[:3]+' i '+niz2[-3:]"
   ]
  },
  {
   "cell_type": "markdown",
   "metadata": {},
   "source": [
    "Kada se želi izvršiti ispis nizova znakova i brojčanih vrijednosti, prethodno je potrebno prebaciti brojčane vrijednosti u niz znakova funkcijom `str`."
   ]
  },
  {
   "cell_type": "code",
   "execution_count": 401,
   "metadata": {
    "collapsed": false
   },
   "outputs": [
    {
     "name": "stdout",
     "output_type": "stream",
     "text": [
      "Sljedeća godina je: 2017.\n"
     ]
    }
   ],
   "source": [
    "godina=2017\n",
    "print 'Sljedeća godina je: '+str(godina)+'.'"
   ]
  },
  {
   "cell_type": "markdown",
   "metadata": {},
   "source": [
    "## 1.10. Vježbe\n",
    "\n",
    "Ovu vježbu rješavajte u interaktivnom prozoru.\n",
    "1. Izračunajte vrijednost izraza “tri puta pet podijeljeno s dva” te rezultat - realni tip podataka - pohranite u varijablu (objekt realnog tipa).\n",
    "2. Ispišite poruku na ekran “Rezultat prethodnog izraza jest 7.5, a cijeli dio tog izraza je 7”. Brojčane vrijednosti ispisujte iz objekta iz prvog zadatka. Za ispis druge vrijednosti trebate promijeniti tip podataka.\n",
    "3. Provjerite je li izraz “dva plus sedam pa podijeljeno s osam” veće od “jedan minus osam pa puta minus sedam”.\n",
    "4. U jednu varijablu pohranite svoju godinu rođenja, u drugu varijablu trenutnu godinu te ispišite poruku “Prošle ste godine navršili godina: x”. Na mjestu znaka x trebate izračunati svoj broj godina. Na kraju promijenite vrijednost varijable rođenja te ponovite ispis.\n",
    "5. Pohranite u dvije varijable tipa string svoje ime i prezime. U novu varijablu pohranite svoje inicijale, tj. prvo slovo imena i prezimena. Učinite to na temelju vrijednosti pohranjenih u varijablama imena i prezimena.\n",
    "6. Ako je funkcija len() funkcija za računanje duljine sekvence, izračunajte zbroj duljine imena i prezimena te vrijednost ispišite u obliku poruke.\n",
    "7. Provjerite je li duljina imena veća od duljine prezimena.\n",
    "8. Provjerite je li duljina imena paran broj (broj je paran ako je ostatak cjelobrojnog dijeljenja s dva jednak nula, neparan ako je suprotno).\n",
    "9. Započnite rješavanje zadaće.\n",
    "\n",
    "Domaća zadaća: ponoviti sadržaj ove vježbe, rješenje vježbe postaviti na Omegu (sadržaj interaktivnog prozora pohraniti u tekstnu datoteku), te pročitati dokument te isprobati sve primjere u \"Programiranje u Pythonu za netehničare\" zaključno s poglavljem 1.5."
   ]
  }
 ],
 "metadata": {
  "anaconda-cloud": {},
  "kernelspec": {
   "display_name": "Python [default]",
   "language": "python",
   "name": "python2"
  },
  "language_info": {
   "codemirror_mode": {
    "name": "ipython",
    "version": 2
   },
   "file_extension": ".py",
   "mimetype": "text/x-python",
   "name": "python",
   "nbconvert_exporter": "python",
   "pygments_lexer": "ipython2",
   "version": "2.7.12"
  }
 },
 "nbformat": 4,
 "nbformat_minor": 0
}
