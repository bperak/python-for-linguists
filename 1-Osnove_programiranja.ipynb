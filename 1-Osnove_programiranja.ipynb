{
 "cells": [
  {
   "cell_type": "markdown",
   "metadata": {},
   "source": [
    "# 1. Osnove programiranja"
   ]
  },
  {
   "cell_type": "markdown",
   "metadata": {
    "collapsed": true
   },
   "source": [
    "## 1.1. Python\n",
    "\n",
    "*Python* (https://www.python.org) je **visokorazinski** ([High-level programming language](https://en.wikipedia.org/wiki/High-level_programming_language)), **interpretirani** ([Interpreter (computing)](https://en.wikipedia.org/wiki/Interpreter_(computing)) i **dinamički tipizirani** ([Dynamic programming language](https://en.wikipedia.org/wiki/Dynamic_programming_language)) programski jezik ([Programming language](https://en.wikipedia.org/wiki/Programming_language), [programski jezici](http://enciklopedija.hr/Natuknica.aspx?ID=50558)) opće namjene.\n",
    "\n",
    "Kod rada s **visokorazinskim jezicima** ne treba brinuti o načinu izvođenja koda na računalu zbog visokog stupnja apstrakcije od detalja rada računala. Na primjer, kod pisanja računalnog koda koji sadržava računske operacije s brojevima, ne treba brinuti jesu li brojevi 16-bitne ili 32-bitne cjelobrojne vrijednosti pohranjene na računalu. Osim što nije potrebno poznavati podatkovne strukture, kod visokorazinskih jezika moguće je vršiti složenije operacije nad složenijim podatkovnim strukturama. Takvi jezici mogu u naredbama koristiti elemente prirodnog jezika, što ih čini jednostavnijima za upotrebu od niskorazinskih jezika. Za usporedbu, instrukcije kod strojnih jezika i niskorazinskih jezika sličnih strojnim jezicima sastoje se od nula i jedinica te je potrebno poznavanje arhitekture računala.\n",
    "\n",
    "*Python* je **interpretirani jezik**, što znači da se tijekom pokretanja programa prevodi naredba po naredba na računalu razumljiv jezik, a to vrše interpreteri. Za usporedbu, postoje drugi jezici koji prevode cijeli program na strojni kod prije njihova izvršavanja, a to vrše kompajleri ili kompilatori.\n",
    "\n",
    "Kod **dinamički tipiziranog jezika** nije potrebno unaprijed definirati tipove podataka, već se prilikom dodjeljivanja vrijednosti varijabli određuje kojem tipu podataka pripada.\n",
    "\n",
    "*Python* je dobio naziv prema britanskoj televizijskoj seriji \"Leteći cirkus Montyja Pythona\" ([Why is it called Python?](https://docs.python.org/3/faq/general.html#why-is-it-called-python)) iz 60-ih i 70-ih godina."
   ]
  },
  {
   "cell_type": "markdown",
   "metadata": {},
   "source": [
    "## 1.2. Osnovni pojmovi\n",
    "\n",
    "*Python* poznaje različite **tipove podataka** ([Data type](https://en.wikipedia.org/wiki/Data_type)) kao što su cjelobrojni, realni, logički, nizovi znakova i ostali. Tipovi podataka definiraju koje se operacije mogu vršiti nad određenim tipom podataka te kako se vrijednosti određenih tipova podataka pohranjuju na računalu. Na primjer, u slučaju cjelobrojnih tipova podataka, definirano je kako se navedeni tip podatka pohranjuje u računalu, koliko je računalne memorije potrebno za pohranu, koja je najmanja vrijednost koju tip podatka može poprimiti, koja je najveća vrijednost koju može poprimiti, koje aritmetičke operacije se mogu vršiti nad navedenim tipom podataka i sl. *Python* omogućava programerima da definiraju vlastite tipove podataka, uglavnom kombinirajući različite elemente drugih tipova podataka te definirajući dozvoljene operacije koje se smiju vršiti nad novim tipom podatka.\n",
    "\n",
    "**Varijabla** ([Variable (computer science)](https://en.wikipedia.org/wiki/Variable_(computer_science))) je lokacija na memoriji računala u koju se može pohraniti neka vrijednost. Upravo zbog odvajanja naziva i sadržaja, preko naziva varijable, program dodijeljenu vrijednost može pročitati, prikazati i upotrijebiti u dozvoljenim operacijama. Na primjer, vrijednost `1234567890` pohranjujemo u varijablu s nazivom `broj`. Sljedeći puta kada želimo upotrijebiti navedenu vrijednost, možemo to učiniti preko naziva varijable `broj`.\n",
    "\n",
    "**Objektno-orijentirano programiranje** ([Object-oriented programming](https://en.wikipedia.org/wiki/Object-oriented_programming)) temelji se na konceptu **objekata** ([Object (computer science)](https://en.wikipedia.org/wiki/Object_(computer_science)), koji su ustvari varijable. Objekt posjeduje **svojstva** ([Attribute (computing)](https://en.wikipedia.org/wiki/Attribute_(computing)) i **metode** ([Method (computer programming)](https://en.wikipedia.org/wiki/Method_(computer_programming)). Svojstva su ustvari podaci s nazivom, vrijednostima i ograničenjima koji određeni tip podatka nameće, a metode su dozvoljene operacije koje se mogu vršiti nad tim podacima. Svi objekti istog tipa pripadaju istoj **klasi** ([Class (computer programming)](https://en.wikipedia.org/wiki/Class_(computer_programming)), koja sadrži informacije o tipovima podataka i dozvoljenim operacijama za određenu klasu. Svaki objekt je **instanca** određene klase, a instance su ustvari podaci koji pripadaju pojedinim objektima. Računalni programi pišu se kao skup objekata koji su u međusobnoj interakciji. Računalni program može sadržavati više instanci iste klase, pa se na taj način mogu upotrebljavati iste procedure na različitim skupovima podataka."
   ]
  },
  {
   "cell_type": "markdown",
   "metadata": {},
   "source": [
    "## 1.3. Primjer modela fizičkog objekta\n",
    "\n",
    "Fizički **objekt** bicikl pripada **klasi** svih bicikala. **Instanca klase** je konkretan bicikl. Kada imamo Nikolin, Tanjin, Majin i Petrin bicikl, imamo četiri instance jednog objekta bicikla. Klasa je nacrt svih objekata i instanci navedene klase, odnosno zajednička svojstva svih pripadnika klase, u našem slučaju svih bicikala na svijetu. **Svojstva** bicikla su tip, boja, veličina, veličina kotača, tip kočnica i sl. **Metode** koje pripadaju objektu bicikl su kreni, ubrzaj, stani, koči, prebaci u višu brzinu, prebaci u nižu brzinu i sl.\n",
    "\n",
    "**Objekt**: bicikl\n",
    "\n",
    "**Klase**: svojstva bicikla i operacije koje se mogu vršiti biciklom\n",
    "\n",
    "**Instanca klase**: Nikolin bicikl\n",
    "\n",
    "**Svojstva**: tip, boja, veličina, veličina kotača, tip kočnica\n",
    "\n",
    "**Metode**: kreni, ubrzaj, stani, koči, prebaci u višu brzinu, prebaci u nižu brzinu"
   ]
  },
  {
   "cell_type": "markdown",
   "metadata": {
    "collapsed": true
   },
   "source": [
    "## 1.4. Primjer objekta\n",
    "\n",
    "Niz znakova je tip podataka **string**. U *Pythonu* se koristi naredba `print` za ispisivanje."
   ]
  },
  {
   "cell_type": "code",
   "execution_count": 10,
   "metadata": {
    "collapsed": false
   },
   "outputs": [
    {
     "name": "stdout",
     "output_type": "stream",
     "text": [
      "Hello world\n"
     ]
    }
   ],
   "source": [
    "print \"Hello world\""
   ]
  },
  {
   "cell_type": "code",
   "execution_count": 11,
   "metadata": {
    "collapsed": true
   },
   "outputs": [],
   "source": [
    "s=\"Hello world\""
   ]
  },
  {
   "cell_type": "code",
   "execution_count": 12,
   "metadata": {
    "collapsed": false
   },
   "outputs": [
    {
     "name": "stdout",
     "output_type": "stream",
     "text": [
      "Hello world\n"
     ]
    }
   ],
   "source": [
    "print s"
   ]
  },
  {
   "cell_type": "code",
   "execution_count": 13,
   "metadata": {
    "collapsed": false
   },
   "outputs": [
    {
     "name": "stdout",
     "output_type": "stream",
     "text": [
      "HELLO WORLD\n"
     ]
    }
   ],
   "source": [
    "print s.upper()"
   ]
  },
  {
   "cell_type": "code",
   "execution_count": 14,
   "metadata": {
    "collapsed": false
   },
   "outputs": [
    {
     "name": "stdout",
     "output_type": "stream",
     "text": [
      "HellO wOrld\n"
     ]
    }
   ],
   "source": [
    "print s.replace(\"o\",\"O\")"
   ]
  },
  {
   "cell_type": "markdown",
   "metadata": {},
   "source": [
    "**Ime varijable** je `s`, a **vrijednost varijable** je `Hello world`. Navedeno ime varijable s navedenom vrijednosti te varijable je **instanca klase**.\n",
    "\n",
    "`s` je **referenca** na **objekt** tipa string tj. niz znakova.\n",
    "\n",
    "`upper()` i `replace()` su **metode** koje se mogu koristiti nad objektima tipa string, pa tako onda i nad varijablom `s`.\n",
    "\n",
    "**Svojstvo** objekta je njegov sadržaj, odnosno vrijednost varijable.\n",
    "\n",
    "`replace()` je **ime metode** koja prima dva **argumenta** (prvi je podniz koji planiramo zamijeniti, a drugi podniz kojim ćemo zamijeniti prvi argument).\n",
    "\n",
    "**Klasa** stringa definira da niz znakova mora imati alfanumeričke znakove s bjelinama, crticama i ostalim znakovima, ali ne može sadržavati npr. sliku. Također definira sve metode koje se mogu upotrijebiti nad tom klasom, dok su navedene metode samo dvije od svih mogućih metoda."
   ]
  },
  {
   "cell_type": "markdown",
   "metadata": {},
   "source": [
    "## 1.5. Jednostavni tipovi podataka\n",
    "\n",
    "*Python* poznaje sljedeće jednostavne tipove podataka:\n",
    "* cjelobrojni tip podataka (*integer*, *int*)\n",
    "* realni tip podataka (*floating-point number*, *float*)\n",
    "* niz znakova (*string*, *str*)\n",
    "* logička vrijednost (*boolelan*)."
   ]
  },
  {
   "cell_type": "markdown",
   "metadata": {},
   "source": [
    "### 1.5.1. Cjelobrojni tip podataka\n",
    "\n",
    "Brojevi pripadaju nepromjenjivim tipovima podataka. U Pythonu se prije razlomačkog dijela broja koristi točka, a ne zarez.\n",
    "\n",
    "Cjelobrojni tipovi podataka ([Integer (computer science)](https://en.wikipedia.org/wiki/Integer_(computer_science)) su pozitivni ili negativni cijeli brojevi bez decimalne točke. Za pohranjivanje cjelobrojnog tipa podataka potrebno je 32 bita."
   ]
  },
  {
   "cell_type": "code",
   "execution_count": 15,
   "metadata": {
    "collapsed": false
   },
   "outputs": [
    {
     "data": {
      "text/plain": [
       "2"
      ]
     },
     "execution_count": 15,
     "metadata": {},
     "output_type": "execute_result"
    }
   ],
   "source": [
    "2"
   ]
  },
  {
   "cell_type": "code",
   "execution_count": 16,
   "metadata": {
    "collapsed": false
   },
   "outputs": [
    {
     "data": {
      "text/plain": [
       "-7897"
      ]
     },
     "execution_count": 16,
     "metadata": {},
     "output_type": "execute_result"
    }
   ],
   "source": [
    "-7897"
   ]
  },
  {
   "cell_type": "markdown",
   "metadata": {},
   "source": [
    "Cijeli brojevi mogu se prikazati od -9 223 372 036 854 775 808 do 9 223 372 036 854 775 807. U slučaju da postoji potreba za brojevima izvan navedenog raspona, mogu se pohraniti u cijele brojeve u dugom zapisu s oznakom `L`. U tom slučaju je ograničenje broja jedino količina radne memorije računala."
   ]
  },
  {
   "cell_type": "markdown",
   "metadata": {},
   "source": [
    "### 1.5.2. Realni tip podataka\n",
    "\n",
    "Realne vrijednosti su pozitivni ili negativni realni brojevi s pomičnom (kliznom) točkom (*floating-point number*) ([Floating point](https://en.wikipedia.org/wiki/Floating_point)) koji odvaja cjelobrojnu vrijednost broja i razlomački dio. Brojevi s pomičnom točkom mogu se prikazati na dva načina: klasični način s točkom ili znanstveni način prikazivanja brojeva sa slovom E. Za pohranjivanje realnog tipa podataka potrebno je 64 bita."
   ]
  },
  {
   "cell_type": "code",
   "execution_count": 17,
   "metadata": {
    "collapsed": false
   },
   "outputs": [
    {
     "data": {
      "text/plain": [
       "3.4"
      ]
     },
     "execution_count": 17,
     "metadata": {},
     "output_type": "execute_result"
    }
   ],
   "source": [
    "3.4"
   ]
  },
  {
   "cell_type": "code",
   "execution_count": 18,
   "metadata": {
    "collapsed": false
   },
   "outputs": [
    {
     "data": {
      "text/plain": [
       "-7213.6241"
      ]
     },
     "execution_count": 18,
     "metadata": {},
     "output_type": "execute_result"
    }
   ],
   "source": [
    "-7213.6241"
   ]
  },
  {
   "cell_type": "code",
   "execution_count": 19,
   "metadata": {
    "collapsed": false
   },
   "outputs": [
    {
     "data": {
      "text/plain": [
       "2.66e-23"
      ]
     },
     "execution_count": 19,
     "metadata": {},
     "output_type": "execute_result"
    }
   ],
   "source": [
    "2.66e-23"
   ]
  },
  {
   "cell_type": "markdown",
   "metadata": {},
   "source": [
    "Realni brojevi mogu se prikazati od 2,2250738585072014e-308 do 1,7976931348623157e+308. Kad je rezultat operacije nad brojevima prevelik za prikaz u Pythonu, prikaže se vrijednost `inf`. Slično tome, kad je negativan broj manji od najmanjeg broja koji se može prikazati u Pythonu, prikaže se vrijednost `0.0`."
   ]
  },
  {
   "cell_type": "markdown",
   "metadata": {},
   "source": [
    "### 1.5.3. Niz znakova\n",
    "\n",
    "Niz znakova (*string*) ([String (computer science)](https://en.wikipedia.org/wiki/String_(computer_science))) pripadaju nepromjenjivim tipovima podataka koje možemo definirati kao jedan ili više znakova omeđenih jednostrukim (`'`) ili dvostrukim navodnicima (`\"`).Ako je niz znakova započet s jednostrukim navodnicima, tada mora i završavati jednostrukim navodnicima. Isto vrijedi i za dvostruke navodnike. Moguće je kombinirati jednostruke i dvostruke navodnike. Ako je niz znakova započet s jednostrukim navodnicima, može sadržavati jedan ili više dvostruki navodnik. Također vrijedi da niz znakova započet dvostrukim navodnicima može sadržavati jedan ili više jednostruki navodnik."
   ]
  },
  {
   "cell_type": "code",
   "execution_count": 20,
   "metadata": {
    "collapsed": false
   },
   "outputs": [
    {
     "data": {
      "text/plain": [
       "'Ovo je niz znakova.'"
      ]
     },
     "execution_count": 20,
     "metadata": {},
     "output_type": "execute_result"
    }
   ],
   "source": [
    "'Ovo je niz znakova.'"
   ]
  },
  {
   "cell_type": "code",
   "execution_count": 21,
   "metadata": {
    "collapsed": false
   },
   "outputs": [
    {
     "data": {
      "text/plain": [
       "'Ovo je isto niz znakova.'"
      ]
     },
     "execution_count": 21,
     "metadata": {},
     "output_type": "execute_result"
    }
   ],
   "source": [
    "\"Ovo je isto niz znakova.\""
   ]
  },
  {
   "cell_type": "code",
   "execution_count": 22,
   "metadata": {
    "collapsed": false
   },
   "outputs": [
    {
     "data": {
      "text/plain": [
       "\"Ovo je 'niz znakova' u kojem se nalazi 'kombinacija' navodnika.\""
      ]
     },
     "execution_count": 22,
     "metadata": {},
     "output_type": "execute_result"
    }
   ],
   "source": [
    "\"Ovo je 'niz znakova' u kojem se nalazi 'kombinacija' navodnika.\""
   ]
  },
  {
   "cell_type": "markdown",
   "metadata": {},
   "source": [
    "Moguće je navesti prazan niz znakova navođenjem dva jednostruka ili dvostruka navodnika za redom. Vrijednost toga niza znakova je prazan niz duljine 1:"
   ]
  },
  {
   "cell_type": "code",
   "execution_count": 23,
   "metadata": {
    "collapsed": false
   },
   "outputs": [
    {
     "data": {
      "text/plain": [
       "''"
      ]
     },
     "execution_count": 23,
     "metadata": {},
     "output_type": "execute_result"
    }
   ],
   "source": [
    "''"
   ]
  },
  {
   "cell_type": "code",
   "execution_count": 24,
   "metadata": {
    "collapsed": false
   },
   "outputs": [
    {
     "data": {
      "text/plain": [
       "''"
      ]
     },
     "execution_count": 24,
     "metadata": {},
     "output_type": "execute_result"
    }
   ],
   "source": [
    "\"\""
   ]
  },
  {
   "cell_type": "markdown",
   "metadata": {},
   "source": [
    "Python razlikuje znamenke pohranjene kao nizove znakova:"
   ]
  },
  {
   "cell_type": "code",
   "execution_count": 25,
   "metadata": {
    "collapsed": false
   },
   "outputs": [
    {
     "data": {
      "text/plain": [
       "'3.14'"
      ]
     },
     "execution_count": 25,
     "metadata": {},
     "output_type": "execute_result"
    }
   ],
   "source": [
    "'3.14'"
   ]
  },
  {
   "cell_type": "markdown",
   "metadata": {},
   "source": [
    "kao, u ovom slučaju realnu vrijednost:"
   ]
  },
  {
   "cell_type": "code",
   "execution_count": 26,
   "metadata": {
    "collapsed": false
   },
   "outputs": [
    {
     "data": {
      "text/plain": [
       "3.14"
      ]
     },
     "execution_count": 26,
     "metadata": {},
     "output_type": "execute_result"
    }
   ],
   "source": [
    "3.14"
   ]
  },
  {
   "cell_type": "markdown",
   "metadata": {},
   "source": [
    "#### 1.5.3.1. Indeksiranje znakova\n",
    "Unutar niza znakova je moguće dohvatiti (indeksirati ili adresirati) podniz putem uglatih zagrada i indeksa. Indeksiranje počinje nultim indeksom (*zero-based numbering*) ([Zero-based numbering](https://en.wikipedia.org/wiki/Zero-based_numbering)) te završava n-1 indeksom dužine niza. Indeks mora biti cjelobrojna vrijednost. Indeksirati se može jedan, u ovom primjeru prvi znak:"
   ]
  },
  {
   "cell_type": "code",
   "execution_count": 27,
   "metadata": {
    "collapsed": false
   },
   "outputs": [
    {
     "data": {
      "text/plain": [
       "'O'"
      ]
     },
     "execution_count": 27,
     "metadata": {},
     "output_type": "execute_result"
    }
   ],
   "source": [
    "'Ovo je niz.'[0]"
   ]
  },
  {
   "cell_type": "markdown",
   "metadata": {},
   "source": [
    "Ako se niz pohrani u varijablu, može se indeksirati preko naziva varijable:"
   ]
  },
  {
   "cell_type": "code",
   "execution_count": 28,
   "metadata": {
    "collapsed": false
   },
   "outputs": [
    {
     "data": {
      "text/plain": [
       "'O'"
      ]
     },
     "execution_count": 28,
     "metadata": {},
     "output_type": "execute_result"
    }
   ],
   "source": [
    "niz='Ovo je niz.'\n",
    "niz[0]"
   ]
  },
  {
   "cell_type": "markdown",
   "metadata": {},
   "source": [
    "Indeksirati se može i više znakova navodeći raspon indeksa tako da se navede početni indeks od kojeg se kreće, dvotočje te završni indeks do kojeg završava podniz:"
   ]
  },
  {
   "cell_type": "code",
   "execution_count": 29,
   "metadata": {
    "collapsed": false
   },
   "outputs": [
    {
     "data": {
      "text/plain": [
       "'je'"
      ]
     },
     "execution_count": 29,
     "metadata": {},
     "output_type": "execute_result"
    }
   ],
   "source": [
    "niz[4:6]"
   ]
  },
  {
   "cell_type": "markdown",
   "metadata": {},
   "source": [
    "Ako se navodeći raspon indeksa izostavi završni indeks u *Pythonu*, program će naredbu obraditi kao da je umjesto izostavljenog indeksa naveden posljednji indeks niza:"
   ]
  },
  {
   "cell_type": "code",
   "execution_count": 30,
   "metadata": {
    "collapsed": false
   },
   "outputs": [
    {
     "data": {
      "text/plain": [
       "'je niz.'"
      ]
     },
     "execution_count": 30,
     "metadata": {},
     "output_type": "execute_result"
    }
   ],
   "source": [
    "niz[4:]"
   ]
  },
  {
   "cell_type": "markdown",
   "metadata": {},
   "source": [
    "Također, ako se navodeći raspon indeksa izostavi početni indeks, program će naredbu obraditi kao da je umjesto izostavljenog indeksa naveden prvi indeks niza:"
   ]
  },
  {
   "cell_type": "code",
   "execution_count": 31,
   "metadata": {
    "collapsed": false
   },
   "outputs": [
    {
     "data": {
      "text/plain": [
       "'Ovo je'"
      ]
     },
     "execution_count": 31,
     "metadata": {},
     "output_type": "execute_result"
    }
   ],
   "source": [
    "niz[:6]"
   ]
  },
  {
   "cell_type": "markdown",
   "metadata": {},
   "source": [
    "Moguće je indeksirati i posljednji znak negativnom cjelobrojnom vrijednosti indeksa:"
   ]
  },
  {
   "cell_type": "code",
   "execution_count": 32,
   "metadata": {
    "collapsed": false
   },
   "outputs": [
    {
     "data": {
      "text/plain": [
       "'.'"
      ]
     },
     "execution_count": 32,
     "metadata": {},
     "output_type": "execute_result"
    }
   ],
   "source": [
    "niz[-1]"
   ]
  },
  {
   "cell_type": "markdown",
   "metadata": {},
   "source": [
    "Kod indeksiranja je moguće kombinirati pozitivne i negativne vrijednosti indeksa, dok god se početni indeks nalazi na indeksnom mjestu prije završnog indeksa. U suprotnom program vraća prazan niz."
   ]
  },
  {
   "cell_type": "code",
   "execution_count": 33,
   "metadata": {
    "collapsed": false
   },
   "outputs": [
    {
     "data": {
      "text/plain": [
       "'niz'"
      ]
     },
     "execution_count": 33,
     "metadata": {},
     "output_type": "execute_result"
    }
   ],
   "source": [
    "niz[7:-1]"
   ]
  },
  {
   "cell_type": "code",
   "execution_count": 34,
   "metadata": {
    "collapsed": false
   },
   "outputs": [
    {
     "data": {
      "text/plain": [
       "''"
      ]
     },
     "execution_count": 34,
     "metadata": {},
     "output_type": "execute_result"
    }
   ],
   "source": [
    "niz[7:-5]"
   ]
  },
  {
   "cell_type": "markdown",
   "metadata": {},
   "source": [
    "#### 1.5.3.2. Posebni znakovi\n",
    "Ako postoji potreba za unosom novog retka, potrebno je rabiti znak `\\n`. Razlika između unosa i ispisa bit će vidljiva prilikom korištenja print naredbe:"
   ]
  },
  {
   "cell_type": "code",
   "execution_count": 35,
   "metadata": {
    "collapsed": false
   },
   "outputs": [
    {
     "name": "stdout",
     "output_type": "stream",
     "text": [
      "Prvi red niza.\n",
      "Drugi red niza.\n"
     ]
    }
   ],
   "source": [
    "print 'Prvi red niza.\\nDrugi red niza.'"
   ]
  },
  {
   "cell_type": "markdown",
   "metadata": {},
   "source": [
    "Osim posebnog znaka za prelazak u novi red, u Pythonu postoji još nekoliko korisnih nizova znakova posebnog značenja, koji se prikazuju pomoću obrnute kose crte (\\\\):\n",
    "\n",
    "Niz | Opis | Unicode kod\n",
    "--- | --- | ---\n",
    "\\\\ | obrnuta kosa crta (\\\\) | `\\u005C`\n",
    "\\' | jednostruki navodnik ('), koji se može koristiti unutar niza znakova započetog jednostrukim navodnicima | `\\u0027`\n",
    "\\\" | dvostruki navodnik (\"), koji se može koristiti unutar niza znakova započetog dvostrukim navodnicima | `\\u0022`\n",
    "\\n | ASCII Linefeed (LF) (novi red) | `\\u000A`\n",
    "\\r | ASCII Carriage Return (CR) (povrat glave pisača na početak reda) | `\\u000D`\n",
    "\\t | ASCII Horizontal Tab (TAB) (vodoravni tabulator) | `\\u0009`\n",
    "\\v | ASCII Vertical Tab (VT) (okomiti tabulator) | `\\u000B`"
   ]
  },
  {
   "cell_type": "markdown",
   "metadata": {},
   "source": [
    "### 1.5.4. Logička vrijednost\n",
    "\n",
    "Logičke vrijednosti ili Booleove vrijednosti ([Boolean data type](https://en.wikipedia.org/wiki/Boolean_data_type)) poprimaju samo dvije moguće vrijednosti, koje se prikazuju pomoću konstanti `True` i `False`. Logičke vrijednosti obično su rezultat uspoređivanja:"
   ]
  },
  {
   "cell_type": "code",
   "execution_count": 36,
   "metadata": {
    "collapsed": false
   },
   "outputs": [
    {
     "data": {
      "text/plain": [
       "True"
      ]
     },
     "execution_count": 36,
     "metadata": {},
     "output_type": "execute_result"
    }
   ],
   "source": [
    "3<7"
   ]
  },
  {
   "cell_type": "code",
   "execution_count": 37,
   "metadata": {
    "collapsed": false
   },
   "outputs": [
    {
     "data": {
      "text/plain": [
       "False"
      ]
     },
     "execution_count": 37,
     "metadata": {},
     "output_type": "execute_result"
    }
   ],
   "source": [
    "4.5>9"
   ]
  },
  {
   "cell_type": "markdown",
   "metadata": {},
   "source": [
    "## 1.6. Varijable\n",
    "\n",
    "Varijabla je mjesto pohrane kojem je dodijeljen naziv u kojem program može pohraniti dodijeljenu vrijednost te je pročitati i prikazati. Svaki programski jezik ima različita pravila kako se varijable mogu nazivati, unositi i koristiti. Varijabla poprima određenu vrijednost naredbom **dodjeljivanja**. Naredba dodjeljivanja vrši se operatorom `=`:\n",
    "\n",
    "`<naziv varijable> = <vrijednost>`"
   ]
  },
  {
   "cell_type": "markdown",
   "metadata": {},
   "source": [
    "### 1.6.1. Imenovanje varijabli\n",
    "Prilikom imenovanja varijabli treba imati na umu sljedeće:\n",
    "* Naziv varijable može sadržavati slova engleske abecede, znamenke i podcrte.\n",
    "* *Python* razlikuje velika i mala slova. Nije isto imenovati varijablu \"broj\", \"Broj\", \"BROJ\", \"BrOj\" i sl.\n",
    "* Naziv varijable mora početi sa slovom ili podcrtom. Ne može početi sa znamenkom.\n",
    "* Postoje tzv. rezervirane riječi koje čine sintaksu programskog jezika i koje se ne mogu koristiti kao nazivi varijabli. To su:\n",
    "```\n",
    "['and', 'as', 'assert', 'break', 'class', 'continue', 'def', 'del', 'elif', 'else', 'except', 'exec', 'finally', 'for', 'from', 'global', 'if', 'import', 'in', 'is', 'lambda', 'not', 'or', 'pass', 'print', 'raise', 'return', 'try', 'while', 'with', 'yield']\n",
    "```\n",
    ".\n",
    "* `None` se također ne može koristiti za naziv varijable, iako nije rezervirana riječ, već konstanta."
   ]
  },
  {
   "cell_type": "markdown",
   "metadata": {},
   "source": [
    "### 1.6.2. Dodjeljivanje vrijednosti varijabli\n",
    "Prilikom deklariranja varijable ne navodi se vrsta podataka. Vrijednost koja je navedena prilikom deklariranja varijable određuje kojem tipu podataka pripada varijabla. Vrijednost varijable je moguće mijenjati tijekom izvođenja programa. Također je deklariranjem varijable moguće mijenjati tako i tip podatka varijable.\n",
    "Kako bi se varijabla mogla koristiti tijekom izvođenja programa, mora biti deklarirana. Varijabla se može deklarirati dodjeljivanjem neke vrijednosti. Na sljedeći način pohranjuje se cjelobrojna vrijednost `9` u varijablu nazvanu `broj1`:"
   ]
  },
  {
   "cell_type": "code",
   "execution_count": 38,
   "metadata": {
    "collapsed": false
   },
   "outputs": [
    {
     "name": "stdout",
     "output_type": "stream",
     "text": [
      "9\n"
     ]
    }
   ],
   "source": [
    "broj1=9\n",
    "print broj1"
   ]
  },
  {
   "cell_type": "markdown",
   "metadata": {},
   "source": [
    "Realna vrijednost `-16.85` pohranjuje se u varijablu nazvanu `broj2` na sljedeći način:"
   ]
  },
  {
   "cell_type": "code",
   "execution_count": 39,
   "metadata": {
    "collapsed": false
   },
   "outputs": [
    {
     "name": "stdout",
     "output_type": "stream",
     "text": [
      "-16.85\n"
     ]
    }
   ],
   "source": [
    "broj2=-16.85\n",
    "print broj2"
   ]
  },
  {
   "cell_type": "markdown",
   "metadata": {},
   "source": [
    "Na sljedeći način se niz znakova `Ovo je niz` pohranjuje u varijablu nazvanu `niz1`:"
   ]
  },
  {
   "cell_type": "code",
   "execution_count": 40,
   "metadata": {
    "collapsed": false
   },
   "outputs": [
    {
     "name": "stdout",
     "output_type": "stream",
     "text": [
      "Ovo je niz\n"
     ]
    }
   ],
   "source": [
    "niz1='Ovo je niz'\n",
    "print niz1"
   ]
  },
  {
   "cell_type": "markdown",
   "metadata": {},
   "source": [
    "Varijabla se može deklarirati i navođenjem praznine, čime je definiran tip podatka varijable, a trenutni sadržaj vrijednosti je prazan. Niz znakova se deklarira navođenjem dva jednostruka ili dvostruka navodnika za redom. Tako inicijaliziramo varijablu čija vrijednost je prazna, a tip podataka je niz znakova:"
   ]
  },
  {
   "cell_type": "code",
   "execution_count": 41,
   "metadata": {
    "collapsed": false
   },
   "outputs": [
    {
     "name": "stdout",
     "output_type": "stream",
     "text": [
      "\n"
     ]
    }
   ],
   "source": [
    "prazan_niz1=''\n",
    "print prazan_niz1"
   ]
  },
  {
   "cell_type": "markdown",
   "metadata": {},
   "source": [
    "ili"
   ]
  },
  {
   "cell_type": "code",
   "execution_count": 42,
   "metadata": {
    "collapsed": false
   },
   "outputs": [
    {
     "name": "stdout",
     "output_type": "stream",
     "text": [
      "\n"
     ]
    }
   ],
   "source": [
    "prazan_niz2=\"\"\n",
    "print prazan_niz2"
   ]
  },
  {
   "cell_type": "markdown",
   "metadata": {},
   "source": [
    "Dva tipa podataka koja su kasnije obrađena, su lista i rječnik, koji se također mogu deklarirati odnosno inicijalizirati bez sadržavanja vrijednosti."
   ]
  },
  {
   "cell_type": "code",
   "execution_count": 43,
   "metadata": {
    "collapsed": false
   },
   "outputs": [
    {
     "name": "stdout",
     "output_type": "stream",
     "text": [
      "[]\n"
     ]
    }
   ],
   "source": [
    "lista=[]\n",
    "print lista"
   ]
  },
  {
   "cell_type": "code",
   "execution_count": 44,
   "metadata": {
    "collapsed": false
   },
   "outputs": [
    {
     "name": "stdout",
     "output_type": "stream",
     "text": [
      "{}\n"
     ]
    }
   ],
   "source": [
    "rjecnik={}\n",
    "print rjecnik"
   ]
  },
  {
   "cell_type": "markdown",
   "metadata": {},
   "source": [
    "Ako ne znamo koju vrijednost i tip podataka će varijabla sadržavati, deklarirat ćemo je konstantom `None`:"
   ]
  },
  {
   "cell_type": "code",
   "execution_count": 45,
   "metadata": {
    "collapsed": false
   },
   "outputs": [
    {
     "name": "stdout",
     "output_type": "stream",
     "text": [
      "None\n"
     ]
    }
   ],
   "source": [
    "var=None\n",
    "print var"
   ]
  },
  {
   "cell_type": "markdown",
   "metadata": {},
   "source": [
    "## 1.7. Operatori\n",
    "\n",
    "*Python* podržava sljedeće tipove operatora:\n",
    "* aritmetički operatori\n",
    "* operatori uspoređivanja\n",
    "* operatori pridruživanja\n",
    "* operatori članstva"
   ]
  },
  {
   "cell_type": "markdown",
   "metadata": {},
   "source": [
    "### 1.7.1. Aritmetički operatori\n",
    "\n",
    "Aritmetički operatori su:\n",
    "* operator zbrajanja (`+`)\n",
    "* operator oduzimanja (`-`)\n",
    "* operator množenja (`*`)\n",
    "* operator dijeljenja (`/`)\n",
    "* operator ostatka cjelobrojnog dijeljenja (`%`)\n",
    "* eksponent (`**`)"
   ]
  },
  {
   "cell_type": "markdown",
   "metadata": {},
   "source": [
    "#### 1.7.1.1. Operator zbrajanja\n",
    "\n",
    "Operator zbrajanja (`+`) zbraja vrijednosti s desne i lijeve strane operatora."
   ]
  },
  {
   "cell_type": "code",
   "execution_count": 46,
   "metadata": {
    "collapsed": false
   },
   "outputs": [
    {
     "name": "stdout",
     "output_type": "stream",
     "text": [
      "30\n"
     ]
    }
   ],
   "source": [
    "a=20\n",
    "b=10\n",
    "print a+b"
   ]
  },
  {
   "cell_type": "markdown",
   "metadata": {},
   "source": [
    "#### 1.7.1.2. Operator oduzimanja\n",
    "\n",
    "Operator oduzimanja (`-`) oduzima desni operand od lijevog."
   ]
  },
  {
   "cell_type": "code",
   "execution_count": 47,
   "metadata": {
    "collapsed": false
   },
   "outputs": [
    {
     "name": "stdout",
     "output_type": "stream",
     "text": [
      "13\n"
     ]
    }
   ],
   "source": [
    "a=20\n",
    "b=10\n",
    "print a-b+3"
   ]
  },
  {
   "cell_type": "markdown",
   "metadata": {},
   "source": [
    "#### 1.7.1.3. Operator množenja\n",
    "\n",
    "Operator množenja (`*`) množi vrijednosti s desne i lijeve strane operatora."
   ]
  },
  {
   "cell_type": "code",
   "execution_count": 48,
   "metadata": {
    "collapsed": false
   },
   "outputs": [
    {
     "name": "stdout",
     "output_type": "stream",
     "text": [
      "200\n"
     ]
    }
   ],
   "source": [
    "a=20\n",
    "b=10\n",
    "print a*b"
   ]
  },
  {
   "cell_type": "markdown",
   "metadata": {},
   "source": [
    "#### 1.7.1.4. Operator dijeljenja\n",
    "\n",
    "Operator dijeljenja (`/`) vrši cjelobrojno dijeljenje tako da dijeli lijevi operand od desnog operanda."
   ]
  },
  {
   "cell_type": "code",
   "execution_count": 49,
   "metadata": {
    "collapsed": false
   },
   "outputs": [
    {
     "name": "stdout",
     "output_type": "stream",
     "text": [
      "2\n"
     ]
    }
   ],
   "source": [
    "a=20\n",
    "b=10\n",
    "print a/b"
   ]
  },
  {
   "cell_type": "code",
   "execution_count": 50,
   "metadata": {
    "collapsed": false
   },
   "outputs": [
    {
     "name": "stdout",
     "output_type": "stream",
     "text": [
      "3\n"
     ]
    }
   ],
   "source": [
    "c=7\n",
    "d=2\n",
    "print c/d"
   ]
  },
  {
   "cell_type": "markdown",
   "metadata": {},
   "source": [
    "Realno dijeljenje se vrši na dva načina. Jedan način je da jedan operand ima cjelobrojnu vrijednost."
   ]
  },
  {
   "cell_type": "code",
   "execution_count": 51,
   "metadata": {
    "collapsed": false
   },
   "outputs": [
    {
     "name": "stdout",
     "output_type": "stream",
     "text": [
      "3.5\n"
     ]
    }
   ],
   "source": [
    "e=7\n",
    "f=2.0\n",
    "print e/f"
   ]
  },
  {
   "cell_type": "markdown",
   "metadata": {},
   "source": [
    "Drugi način je korištenje funkcije `float()` koja pretvara cijeli broj u realni."
   ]
  },
  {
   "cell_type": "code",
   "execution_count": 52,
   "metadata": {
    "collapsed": false
   },
   "outputs": [
    {
     "name": "stdout",
     "output_type": "stream",
     "text": [
      "3.5\n"
     ]
    }
   ],
   "source": [
    "c=7\n",
    "d=2\n",
    "print float(c)/d"
   ]
  },
  {
   "cell_type": "code",
   "execution_count": 53,
   "metadata": {
    "collapsed": false
   },
   "outputs": [
    {
     "name": "stdout",
     "output_type": "stream",
     "text": [
      "3.5\n"
     ]
    }
   ],
   "source": [
    "print c/float(d)"
   ]
  },
  {
   "cell_type": "markdown",
   "metadata": {},
   "source": [
    "#### 1.7.1.5. Operator ostatka cjelobrojnog dijeljenja\n",
    "\n",
    "Operator ostatka cjelobrojnog dijeljenja (`%`) dijeli lijevi operand s desnim te vraća ostatak dijeljenja."
   ]
  },
  {
   "cell_type": "code",
   "execution_count": 54,
   "metadata": {
    "collapsed": false
   },
   "outputs": [
    {
     "name": "stdout",
     "output_type": "stream",
     "text": [
      "1\n"
     ]
    }
   ],
   "source": [
    "c=7\n",
    "d=2\n",
    "print c%d"
   ]
  },
  {
   "cell_type": "markdown",
   "metadata": {},
   "source": [
    "#### 1.7.1.6. Eksponent\n",
    "\n",
    "Eksponent (`**`) vrši eksponencijalnu funkciju, gdje je lijevi operand baza, a desni eksponent."
   ]
  },
  {
   "cell_type": "code",
   "execution_count": 55,
   "metadata": {
    "collapsed": false
   },
   "outputs": [
    {
     "name": "stdout",
     "output_type": "stream",
     "text": [
      "100\n"
     ]
    }
   ],
   "source": [
    "b=10\n",
    "d=2\n",
    "print b**2"
   ]
  },
  {
   "cell_type": "markdown",
   "metadata": {},
   "source": [
    "### 1.7.2. Operatori uspoređivanja\n",
    "\n",
    "Operatori uspoređivanja uspoređuju vrijednosti na obje strane te odlučuju o njihovoj relaciji. Operatori uspoređivanja su:\n",
    "* operator `==`\n",
    "* operator `!=`\n",
    "* operator `>`\n",
    "* operator `<`\n",
    "* operator `>=`\n",
    "* operator `<=`"
   ]
  },
  {
   "cell_type": "markdown",
   "metadata": {},
   "source": [
    "#### 1.7.2.1. Operator `==`\n",
    "\n",
    "Operator `==` uspoređuje jesu li vrijednosti operanda jednake te vraća logički tip podataka, odnosno `True` kada su vrijednosti jednake, a `False` kada su različite."
   ]
  },
  {
   "cell_type": "code",
   "execution_count": 56,
   "metadata": {
    "collapsed": false
   },
   "outputs": [
    {
     "name": "stdout",
     "output_type": "stream",
     "text": [
      "False\n"
     ]
    }
   ],
   "source": [
    "a=20\n",
    "b=10\n",
    "print a==b"
   ]
  },
  {
   "cell_type": "code",
   "execution_count": 57,
   "metadata": {
    "collapsed": false
   },
   "outputs": [
    {
     "name": "stdout",
     "output_type": "stream",
     "text": [
      "True\n"
     ]
    }
   ],
   "source": [
    "c=7\n",
    "print c==7"
   ]
  },
  {
   "cell_type": "markdown",
   "metadata": {},
   "source": [
    "#### 1.7.2.2. Operator `!=`\n",
    "\n",
    "Operator `!=` provjerava jesu li vrijednosti operanda različite te vraća logički tip podataka, odnosno `True` kada su vrijednosti različite, a `False` kada su jednake.\n"
   ]
  },
  {
   "cell_type": "code",
   "execution_count": 58,
   "metadata": {
    "collapsed": false
   },
   "outputs": [
    {
     "name": "stdout",
     "output_type": "stream",
     "text": [
      "True\n"
     ]
    }
   ],
   "source": [
    "a=20\n",
    "b=10\n",
    "print a!=b"
   ]
  },
  {
   "cell_type": "code",
   "execution_count": 59,
   "metadata": {
    "collapsed": false
   },
   "outputs": [
    {
     "name": "stdout",
     "output_type": "stream",
     "text": [
      "False\n"
     ]
    }
   ],
   "source": [
    "c=7\n",
    "print c!=7"
   ]
  },
  {
   "cell_type": "markdown",
   "metadata": {},
   "source": [
    "#### 1.7.2.3. Operator `>`\n",
    "\n",
    "Operator `>` provjerava je li vrijednost lijevog operanda veća od vrijednosti desnog operanda te vraća logički tip podataka, odnosno `True` kada je vrijednost lijevog operanda veća od vrijednosti desnog operanda, a `False` kada vrijednost lijevog operanda nije veća od vrijednosti desnog operanda."
   ]
  },
  {
   "cell_type": "code",
   "execution_count": 60,
   "metadata": {
    "collapsed": false
   },
   "outputs": [
    {
     "name": "stdout",
     "output_type": "stream",
     "text": [
      "True\n"
     ]
    }
   ],
   "source": [
    "a=20\n",
    "b=10\n",
    "print a>b"
   ]
  },
  {
   "cell_type": "code",
   "execution_count": 61,
   "metadata": {
    "collapsed": false
   },
   "outputs": [
    {
     "name": "stdout",
     "output_type": "stream",
     "text": [
      "False\n"
     ]
    }
   ],
   "source": [
    "print b>a"
   ]
  },
  {
   "cell_type": "markdown",
   "metadata": {},
   "source": [
    "#### 1.7.2.4 Operator `<`\n",
    "\n",
    "Operator `<` provjerava je li vrijednost lijevog operanda manja od vrijednosti desnog operanda te vraća logički tip podataka, odnosno `True` kada je vrijednost lijevog operanda manja od vrijednosti desnog operanda, a `False` kada vrijednost lijevog operanda nije manja od vrijednosti desnog operanda."
   ]
  },
  {
   "cell_type": "code",
   "execution_count": 62,
   "metadata": {
    "collapsed": false
   },
   "outputs": [
    {
     "name": "stdout",
     "output_type": "stream",
     "text": [
      "False\n"
     ]
    }
   ],
   "source": [
    "a=20\n",
    "b=10\n",
    "print a<b"
   ]
  },
  {
   "cell_type": "code",
   "execution_count": 63,
   "metadata": {
    "collapsed": false
   },
   "outputs": [
    {
     "name": "stdout",
     "output_type": "stream",
     "text": [
      "True\n"
     ]
    }
   ],
   "source": [
    "print b<a"
   ]
  },
  {
   "cell_type": "markdown",
   "metadata": {},
   "source": [
    "#### 1.7.2.5. Operator `>=`\n",
    "\n",
    "Operator `>=` provjerava je li vrijednost lijevog operanda veća ili jednaka vrijednosti desnog operanda te vraća logički tip podataka, odnosno `True` kada je uvjet istinit, a `False` kada nije."
   ]
  },
  {
   "cell_type": "code",
   "execution_count": 64,
   "metadata": {
    "collapsed": false
   },
   "outputs": [
    {
     "name": "stdout",
     "output_type": "stream",
     "text": [
      "True\n"
     ]
    }
   ],
   "source": [
    "a=20\n",
    "b=10\n",
    "print a>=b"
   ]
  },
  {
   "cell_type": "code",
   "execution_count": 65,
   "metadata": {
    "collapsed": false
   },
   "outputs": [
    {
     "name": "stdout",
     "output_type": "stream",
     "text": [
      "False\n"
     ]
    }
   ],
   "source": [
    "print b>=a"
   ]
  },
  {
   "cell_type": "code",
   "execution_count": 66,
   "metadata": {
    "collapsed": false
   },
   "outputs": [
    {
     "name": "stdout",
     "output_type": "stream",
     "text": [
      "True\n"
     ]
    }
   ],
   "source": [
    "c=7\n",
    "print c>=7"
   ]
  },
  {
   "cell_type": "markdown",
   "metadata": {},
   "source": [
    "#### 1.7.2.6. Operator `<=`\n",
    "\n",
    "Operator `<=`provjerava je li vrijednost lijevog operanda manja ili jednaka vrijednosti desnog operanda te vraća logički tip podataka, odnosno `True` kada je uvjet istinit, a `False` kada nije."
   ]
  },
  {
   "cell_type": "code",
   "execution_count": 67,
   "metadata": {
    "collapsed": false
   },
   "outputs": [
    {
     "name": "stdout",
     "output_type": "stream",
     "text": [
      "False\n"
     ]
    }
   ],
   "source": [
    "a=20\n",
    "b=10\n",
    "print a<=b"
   ]
  },
  {
   "cell_type": "code",
   "execution_count": 68,
   "metadata": {
    "collapsed": false
   },
   "outputs": [
    {
     "name": "stdout",
     "output_type": "stream",
     "text": [
      "True\n"
     ]
    }
   ],
   "source": [
    "print b<=a"
   ]
  },
  {
   "cell_type": "code",
   "execution_count": 69,
   "metadata": {
    "collapsed": false
   },
   "outputs": [
    {
     "name": "stdout",
     "output_type": "stream",
     "text": [
      "True\n"
     ]
    }
   ],
   "source": [
    "c=7\n",
    "print c<=7"
   ]
  },
  {
   "cell_type": "markdown",
   "metadata": {},
   "source": [
    "### 1.7.3. Operatori pridruživanja\n",
    "\n",
    "Operatori pridruživanja dodjeljuju vrijednosti operandima ili vrše operacije nad operandima:\n",
    "* `=`\n",
    "* `+=`\n",
    "* `-=`\n",
    "* `*=`\n",
    "* `/=`\n",
    "* `%=`\n",
    "* `**=`"
   ]
  },
  {
   "cell_type": "markdown",
   "metadata": {},
   "source": [
    "#### 1.7.3.1. Operator `=`\n",
    "\n",
    "Operator `=` dodjeljuje lijevom operandu vrijednost desnog operanda."
   ]
  },
  {
   "cell_type": "code",
   "execution_count": 70,
   "metadata": {
    "collapsed": false
   },
   "outputs": [
    {
     "name": "stdout",
     "output_type": "stream",
     "text": [
      "7\n"
     ]
    }
   ],
   "source": [
    "c=7\n",
    "print c"
   ]
  },
  {
   "cell_type": "markdown",
   "metadata": {},
   "source": [
    "#### 1.7.3.2. Operator `+=`\n",
    "\n",
    "Operator `+=` zbraja lijevom operandu vrijednost desnog operanda te rezultat dodjeljuje lijevom operandu."
   ]
  },
  {
   "cell_type": "code",
   "execution_count": 71,
   "metadata": {
    "collapsed": false
   },
   "outputs": [
    {
     "name": "stdout",
     "output_type": "stream",
     "text": [
      "30\n",
      "10\n"
     ]
    }
   ],
   "source": [
    "a=20\n",
    "b=10\n",
    "a+=b\n",
    "print a\n",
    "print b"
   ]
  },
  {
   "cell_type": "markdown",
   "metadata": {},
   "source": [
    "#### 1.7.3.3. Operator `-=`\n",
    "\n",
    "Operator `-=` oduzima lijevom operandu vrijednost desnog operanda te rezultat dodjeljuje lijevom operandu."
   ]
  },
  {
   "cell_type": "code",
   "execution_count": 72,
   "metadata": {
    "collapsed": false
   },
   "outputs": [
    {
     "name": "stdout",
     "output_type": "stream",
     "text": [
      "13\n",
      "7\n"
     ]
    }
   ],
   "source": [
    "a=20\n",
    "c=7\n",
    "a-=c\n",
    "print a\n",
    "print c"
   ]
  },
  {
   "cell_type": "markdown",
   "metadata": {},
   "source": [
    "#### 1.7.3.4. Operator `*=`\n",
    "\n",
    "Operator `*=` množi desni operand s lijevim operandom te rezultat dodjeljuje lijevom operandu."
   ]
  },
  {
   "cell_type": "code",
   "execution_count": 73,
   "metadata": {
    "collapsed": false
   },
   "outputs": [
    {
     "name": "stdout",
     "output_type": "stream",
     "text": [
      "200\n",
      "10\n"
     ]
    }
   ],
   "source": [
    "a=20\n",
    "b=10\n",
    "a*=b\n",
    "print a\n",
    "print b"
   ]
  },
  {
   "cell_type": "markdown",
   "metadata": {},
   "source": [
    "#### 1.7.3.5. Operator `/=`\n",
    "\n",
    "Operator `/=` dijeli vrijednost desnog operanda s vrijednosti lijevog operanda te rezultat dodjeljuje lijevom operandu."
   ]
  },
  {
   "cell_type": "code",
   "execution_count": 74,
   "metadata": {
    "collapsed": false
   },
   "outputs": [
    {
     "name": "stdout",
     "output_type": "stream",
     "text": [
      "2\n",
      "10\n"
     ]
    }
   ],
   "source": [
    "a=20\n",
    "b=10\n",
    "a/=b\n",
    "print a\n",
    "print b"
   ]
  },
  {
   "cell_type": "markdown",
   "metadata": {},
   "source": [
    "#### 1.7.3.6. Operator `%=`\n",
    "\n",
    "Operator `%=` vraća ostatak dijeljenja vrijednosti desnog operanda s vrijednosti lijevog operanda te rezultat dodjeljuje lijevom operandu."
   ]
  },
  {
   "cell_type": "code",
   "execution_count": 75,
   "metadata": {
    "collapsed": false
   },
   "outputs": [
    {
     "name": "stdout",
     "output_type": "stream",
     "text": [
      "1\n",
      "2\n"
     ]
    }
   ],
   "source": [
    "c=7\n",
    "d=2\n",
    "c%=d\n",
    "print c\n",
    "print d"
   ]
  },
  {
   "cell_type": "markdown",
   "metadata": {},
   "source": [
    "#### 1.7.3.7. Operator `**=`\n",
    "\n",
    "Operator `**=` vrši eksponencijalnu funkciju, gdje je lijevi operand baza, a desni eksponent."
   ]
  },
  {
   "cell_type": "code",
   "execution_count": 76,
   "metadata": {
    "collapsed": false
   },
   "outputs": [
    {
     "name": "stdout",
     "output_type": "stream",
     "text": [
      "49\n",
      "2\n"
     ]
    }
   ],
   "source": [
    "c=7\n",
    "d=2\n",
    "c**=d\n",
    "print c\n",
    "print d"
   ]
  },
  {
   "cell_type": "markdown",
   "metadata": {},
   "source": [
    "### 1.7.4. Operatori članstva\n",
    "\n",
    "Operatori članstva ispituju nalazi se izraz u određenoj sekvenci, kao što su nizovi znakova ili liste. Operatori članstva su:\n",
    "* `in`\n",
    "* `not in`"
   ]
  },
  {
   "cell_type": "markdown",
   "metadata": {},
   "source": [
    "#### 1.7.4.1. Operator `in`\n",
    "\n",
    "Operator `in` ispituje nalazi se vrijednost varijable u određenoj sekvenci te vraća logički tip podataka, odnosno `True` ako se vrijednost varijable nalazi u određenoj sekvenci, a `False` ako se ne nalazi."
   ]
  },
  {
   "cell_type": "code",
   "execution_count": 77,
   "metadata": {
    "collapsed": false
   },
   "outputs": [
    {
     "data": {
      "text/plain": [
       "True"
      ]
     },
     "execution_count": 77,
     "metadata": {},
     "output_type": "execute_result"
    }
   ],
   "source": [
    "'a' in 'Niz znakova.'"
   ]
  },
  {
   "cell_type": "code",
   "execution_count": 78,
   "metadata": {
    "collapsed": false
   },
   "outputs": [
    {
     "data": {
      "text/plain": [
       "False"
      ]
     },
     "execution_count": 78,
     "metadata": {},
     "output_type": "execute_result"
    }
   ],
   "source": [
    "'y' in \"Niz znakova.\""
   ]
  },
  {
   "cell_type": "markdown",
   "metadata": {},
   "source": [
    "#### 1.7.4.2. Operator `not in`\n",
    "\n",
    "Operator `not in` ispituje nalazi se vrijednost varijable u određenoj sekvenci te vraća logički tip podataka, odnosno `True` ako se vrijednost varijable ne nalazi u određenoj sekvenci, a `False` ako se nalazi."
   ]
  },
  {
   "cell_type": "code",
   "execution_count": 79,
   "metadata": {
    "collapsed": false
   },
   "outputs": [
    {
     "data": {
      "text/plain": [
       "False"
      ]
     },
     "execution_count": 79,
     "metadata": {},
     "output_type": "execute_result"
    }
   ],
   "source": [
    "'a' not in 'Niz znakova.'"
   ]
  },
  {
   "cell_type": "code",
   "execution_count": 80,
   "metadata": {
    "collapsed": false
   },
   "outputs": [
    {
     "data": {
      "text/plain": [
       "True"
      ]
     },
     "execution_count": 80,
     "metadata": {},
     "output_type": "execute_result"
    }
   ],
   "source": [
    "'y' not in 'Niz znakova.'"
   ]
  },
  {
   "cell_type": "markdown",
   "metadata": {},
   "source": [
    "### 1.7.5. Složeni izrazi\n",
    "\n",
    "U *Pythonu* je moguće postavljati složene izraze, odnosno izraze u kojima postoji više od jednog operatora."
   ]
  },
  {
   "cell_type": "code",
   "execution_count": 81,
   "metadata": {
    "collapsed": false
   },
   "outputs": [
    {
     "data": {
      "text/plain": [
       "False"
      ]
     },
     "execution_count": 81,
     "metadata": {},
     "output_type": "execute_result"
    }
   ],
   "source": [
    "2*5+2>=2**3*2"
   ]
  },
  {
   "cell_type": "markdown",
   "metadata": {},
   "source": [
    "U tom slučaju je potrebno poznavati kojim redoslijedom će se prvo izvoditi koji operator, odnosno prioritete operatora. Slijedi lista prioriteta obrađenih operatora od najvišeg do najnižeg:\n",
    "\n",
    "Operator | Opis\n",
    "--- | ---\n",
    "`**` | Eksponent\n",
    "`*` `/` `%` | Operatori množenja, dijeljenja, ostatka cjelobrojnog dijeljenja\n",
    "`+` `-` | Operatori zbrajanja i oduzimanja\n",
    "`<=` `<` `>` `>=` | Operatori uspoređivanja\n",
    "`<>` `==` `!=` | Operatori jednakosti\n",
    "`=` `%=` `/=` `/=` `-=` `+=` `*=` `**=` | Operatori pridruživanja\n",
    "`in`, `not in` | Operatori članstva\n",
    "`not`, `or`, `and` | Logički operatori"
   ]
  },
  {
   "cell_type": "markdown",
   "metadata": {},
   "source": [
    "## 1.8. Osnovne funkcije\n",
    "\n",
    "Funkcije su potprogrami koji primaju nula ili više argumenata i vraćaju jednu vrijednost. Funkcije za pretvaranje tipa podataka (*casting*) su:\n",
    "* `int` (*integer*)\n",
    "* `float` (*floating point numbers*)\n",
    "* `str` (*string*)\n",
    "\n",
    "Dodatna funkcija koja je opisana u ovom poglavlju je funkcija `type()`."
   ]
  },
  {
   "cell_type": "markdown",
   "metadata": {},
   "source": [
    "### 1.8.1. Funkcija `int()`\n",
    "\n",
    "Funkcija `int()` pretvara realni tip podatka u cjelobrojnu vrijednost ili niz znakova u kojem je pohranjena znamenka u cjelobrojnu vrijednost."
   ]
  },
  {
   "cell_type": "code",
   "execution_count": 82,
   "metadata": {
    "collapsed": false
   },
   "outputs": [
    {
     "data": {
      "text/plain": [
       "3"
      ]
     },
     "execution_count": 82,
     "metadata": {},
     "output_type": "execute_result"
    }
   ],
   "source": [
    "int(3.7)"
   ]
  },
  {
   "cell_type": "code",
   "execution_count": 83,
   "metadata": {
    "collapsed": false
   },
   "outputs": [
    {
     "data": {
      "text/plain": [
       "3"
      ]
     },
     "execution_count": 83,
     "metadata": {},
     "output_type": "execute_result"
    }
   ],
   "source": [
    "int('3')"
   ]
  },
  {
   "cell_type": "markdown",
   "metadata": {},
   "source": [
    "### 1.8.2. Funkcija `float()`\n",
    "\n",
    "Funkcija `float()` pretvara cjelobrojnu vrijednost u realni tip podatka."
   ]
  },
  {
   "cell_type": "code",
   "execution_count": 84,
   "metadata": {
    "collapsed": false
   },
   "outputs": [
    {
     "name": "stdout",
     "output_type": "stream",
     "text": [
      "2.0\n"
     ]
    }
   ],
   "source": [
    "print float(2)"
   ]
  },
  {
   "cell_type": "code",
   "execution_count": 85,
   "metadata": {
    "collapsed": false
   },
   "outputs": [
    {
     "name": "stdout",
     "output_type": "stream",
     "text": [
      "3\n"
     ]
    }
   ],
   "source": [
    "print 7/2"
   ]
  },
  {
   "cell_type": "code",
   "execution_count": 86,
   "metadata": {
    "collapsed": false
   },
   "outputs": [
    {
     "name": "stdout",
     "output_type": "stream",
     "text": [
      "3.5\n"
     ]
    }
   ],
   "source": [
    "print float(7)/2"
   ]
  },
  {
   "cell_type": "code",
   "execution_count": 87,
   "metadata": {
    "collapsed": false
   },
   "outputs": [
    {
     "name": "stdout",
     "output_type": "stream",
     "text": [
      "3.5\n"
     ]
    }
   ],
   "source": [
    "print 7/float(2)"
   ]
  },
  {
   "cell_type": "code",
   "execution_count": 88,
   "metadata": {
    "collapsed": false
   },
   "outputs": [
    {
     "name": "stdout",
     "output_type": "stream",
     "text": [
      "3.0\n"
     ]
    }
   ],
   "source": [
    "print float(7/2)"
   ]
  },
  {
   "cell_type": "markdown",
   "metadata": {},
   "source": [
    "Prvo je potrebno djeljenik ili djelitelj prebaciti iz cjelobrojne vrijednosti u realni tip podatka, a zatim izvršiti dijeljenje, ako želimo dobiti razlomački dio. Iz posljednjeg primjera vidljivo je da se količnik pretvara u realni tip podatka nakon cjelobrojnog dijeljenja, a on će u tom slučaju uvijek iznositi `0`."
   ]
  },
  {
   "cell_type": "markdown",
   "metadata": {},
   "source": [
    "### 1.8.3. Funkcija `str()`\n",
    "\n",
    "Funkcija `str()` pretvara brojčanu vrijednost u niz znakova."
   ]
  },
  {
   "cell_type": "code",
   "execution_count": 89,
   "metadata": {
    "collapsed": false
   },
   "outputs": [
    {
     "data": {
      "text/plain": [
       "'7.6'"
      ]
     },
     "execution_count": 89,
     "metadata": {},
     "output_type": "execute_result"
    }
   ],
   "source": [
    "str(7.6)"
   ]
  },
  {
   "cell_type": "markdown",
   "metadata": {},
   "source": [
    "### 1.8.4. Funkcija `type()`\n",
    "\n",
    "Funkcija `type()`ne pretvara tipove podataka, već vraća koji je tip podatka određena vrijednost."
   ]
  },
  {
   "cell_type": "code",
   "execution_count": 90,
   "metadata": {
    "collapsed": false
   },
   "outputs": [
    {
     "data": {
      "text/plain": [
       "str"
      ]
     },
     "execution_count": 90,
     "metadata": {},
     "output_type": "execute_result"
    }
   ],
   "source": [
    "type('niz')"
   ]
  },
  {
   "cell_type": "code",
   "execution_count": 91,
   "metadata": {
    "collapsed": false
   },
   "outputs": [
    {
     "data": {
      "text/plain": [
       "int"
      ]
     },
     "execution_count": 91,
     "metadata": {},
     "output_type": "execute_result"
    }
   ],
   "source": [
    "type(2)"
   ]
  },
  {
   "cell_type": "code",
   "execution_count": 92,
   "metadata": {
    "collapsed": false
   },
   "outputs": [
    {
     "data": {
      "text/plain": [
       "float"
      ]
     },
     "execution_count": 92,
     "metadata": {},
     "output_type": "execute_result"
    }
   ],
   "source": [
    "type(5.8)"
   ]
  },
  {
   "cell_type": "code",
   "execution_count": 93,
   "metadata": {
    "collapsed": false
   },
   "outputs": [
    {
     "data": {
      "text/plain": [
       "bool"
      ]
     },
     "execution_count": 93,
     "metadata": {},
     "output_type": "execute_result"
    }
   ],
   "source": [
    "type(False)"
   ]
  },
  {
   "cell_type": "markdown",
   "metadata": {},
   "source": [
    "# 1.9. Rad s nizovima znakova"
   ]
  },
  {
   "cell_type": "markdown",
   "metadata": {},
   "source": [
    "## 1.9.1. Konkatenacija\n",
    "\n",
    "U programiranju **konkatenacija** niza znakova je operacija spajanja znakova iz niza znakova navedenim redoslijedom ([Concatenation](https://en.wikipedia.org/wiki/Concatenation)). U *Pythonu* se konkatenacija vrši operatorom `=`."
   ]
  },
  {
   "cell_type": "code",
   "execution_count": 94,
   "metadata": {
    "collapsed": false
   },
   "outputs": [
    {
     "name": "stdout",
     "output_type": "stream",
     "text": [
      "darovi\n"
     ]
    }
   ],
   "source": [
    "print 'dar'+'ovi'"
   ]
  },
  {
   "cell_type": "code",
   "execution_count": 95,
   "metadata": {
    "collapsed": false
   },
   "outputs": [
    {
     "name": "stdout",
     "output_type": "stream",
     "text": [
      "AnaJan\n"
     ]
    }
   ],
   "source": [
    "niz1='Ana i Ivo'\n",
    "niz2='Iva i Jan'\n",
    "print niz1[:3]+niz2[-3:]"
   ]
  },
  {
   "cell_type": "markdown",
   "metadata": {},
   "source": [
    "Konkatenacija vrši samo spajanje nizova znakova. U slučaju da želimo iz prethodnog primjera dodati razmak, veznik i razmak, potrebno je to izričito navesti."
   ]
  },
  {
   "cell_type": "code",
   "execution_count": 96,
   "metadata": {
    "collapsed": false
   },
   "outputs": [
    {
     "name": "stdout",
     "output_type": "stream",
     "text": [
      "Ana i Jan\n"
     ]
    }
   ],
   "source": [
    "niz1='Ana i Ivo'\n",
    "niz2='Iva i Jan'\n",
    "print niz1[:6]+niz2[-3:]"
   ]
  },
  {
   "cell_type": "markdown",
   "metadata": {},
   "source": [
    "ili"
   ]
  },
  {
   "cell_type": "code",
   "execution_count": 97,
   "metadata": {
    "collapsed": false
   },
   "outputs": [
    {
     "name": "stdout",
     "output_type": "stream",
     "text": [
      "Ana i Jan\n"
     ]
    }
   ],
   "source": [
    "niz1='Ana i Ivo'\n",
    "niz2='Iva i Jan'\n",
    "print niz1[:3]+' i '+niz2[-3:]"
   ]
  },
  {
   "cell_type": "markdown",
   "metadata": {},
   "source": [
    "Kada se želi izvršiti ispis nizova znakova i brojčanih vrijednosti, prethodno je potrebno prebaciti brojčane vrijednosti u niz znakova funkcijom `str`."
   ]
  },
  {
   "cell_type": "code",
   "execution_count": 98,
   "metadata": {
    "collapsed": false
   },
   "outputs": [
    {
     "name": "stdout",
     "output_type": "stream",
     "text": [
      "Ana je mlađa od Luke 5 godina.\n"
     ]
    }
   ],
   "source": [
    "ana=2000\n",
    "luka=1995\n",
    "\n",
    "print 'Ana je mlađa od Luke '+str(ana-luka)+' godina.'"
   ]
  },
  {
   "cell_type": "markdown",
   "metadata": {},
   "source": [
    "## 1.9.2. Odabrane metode nad nizovima znakova\n",
    "\n",
    "Već su ukratko ranije spomenute dvije metode nad nizovima znakova `upper()` i `replace()`. U ovom poglavlju opisane su još neke odabrane metode nad ovim tipom podatka:\n",
    "* `upper()`\n",
    "* `lower()`\n",
    "* `replace()`\n",
    "* `count()`\n",
    "* `find()`\n",
    "* `strip()`\n",
    "* `split()`\n",
    "* `join()`."
   ]
  },
  {
   "cell_type": "markdown",
   "metadata": {},
   "source": [
    "### 1.9.2.1. Metoda `upper()`\n",
    "\n",
    "Metoda `upper()` vraća niz znakova u kojem su sva slova pretvorena u velika slova, ali ne mijenja ulazni niz znakova."
   ]
  },
  {
   "cell_type": "code",
   "execution_count": 99,
   "metadata": {
    "collapsed": false
   },
   "outputs": [
    {
     "name": "stdout",
     "output_type": "stream",
     "text": [
      "ANA I IVO\n",
      "Ana i Ivo\n"
     ]
    }
   ],
   "source": [
    "s='Ana i Ivo'\n",
    "print s.upper()\n",
    "print s"
   ]
  },
  {
   "cell_type": "markdown",
   "metadata": {},
   "source": [
    "### 1.9.2.2. Metoda `lower()`\n",
    "\n",
    "Metoda `lower()` vraća niz znakova u kojem su sva slova pretvorena u mala slova, ali ne mijenja ulazni niz znakova."
   ]
  },
  {
   "cell_type": "code",
   "execution_count": 100,
   "metadata": {
    "collapsed": false
   },
   "outputs": [
    {
     "name": "stdout",
     "output_type": "stream",
     "text": [
      "ana i ivo\n",
      "Ana i Ivo\n"
     ]
    }
   ],
   "source": [
    "s=\"Ana i Ivo\"\n",
    "print s.lower()\n",
    "print s"
   ]
  },
  {
   "cell_type": "markdown",
   "metadata": {},
   "source": [
    "### 1.9.2.3. Metoda `replace()`\n",
    "\n",
    "Metoda `replace()` vraća niz znakova u kojem se stari podniz mijenja novim podnizom, ali se ne mijenja niz znakova nad kojim se vrši metoda. Sintaksa ove metode je `niz.replace(old, new[, count])`. Općenito se u *Pythonu* u oblim zagradama navode argumenti koji su obavezni, dok se u uglatim zagradama nalaze argumenti koji su opcionalni. Iz zapisa metode `replace()` vidljivo je da prima dva obavezna elementa i jedan opcionalni. Argument `old` obavezan je argument koji sadrži stari podniz koji planiramo zamijeniti novim. Argument `new` obavezan je argument koji sadrži novi podniz kojim ćemo zamijeniti stari. Argument `count` opcionalni je argument koji sadrži cjelobrojnu vrijednost koliko puta se treba izvršiti zamjena. Ako argument nije naveden, vrši se zamjena svih nađenih pojavljivanja podniza."
   ]
  },
  {
   "cell_type": "code",
   "execution_count": 101,
   "metadata": {
    "collapsed": false
   },
   "outputs": [
    {
     "name": "stdout",
     "output_type": "stream",
     "text": [
      "AnAnAs, bAnAnA, jAbukA, jAgodA, mAndArinA\n",
      "AnAnAs, bAnAna, jabuka, jagoda, mandarina\n",
      "ananas, banana, jabuka, jagoda, mandarina\n"
     ]
    }
   ],
   "source": [
    "niz='ananas, banana, jabuka, jagoda, mandarina'\n",
    "print niz.replace('a','A')\n",
    "print niz.replace('a','A',5)\n",
    "print niz"
   ]
  },
  {
   "cell_type": "markdown",
   "metadata": {},
   "source": [
    "### 1.9.2.4. Metoda `count()`\n",
    "\n",
    "Metoda `count()` vraća broj pojavljivanja nekog podniza. Sintaksa ove metode je `niz.count(sub[, start[, end]])`. Metoda prima jedan obavezni argument i dva opcionalna argumenta. Argument `sub` obavezni je argument koji sadrži podniz čiji broj pojavljivanja želimo izračunati. Argument `start` opcionalni je argument koji sadrži cjelobrojnu vrijednost početnog indeksa od kojeg kreće brojanje pojavljivanja podniza. Ako argument nije naveden, metoda kreće brojati od indeksa `0`. Argument `end` opcionalni je argument koji sadrži cjelobrojnu vrijednost završnog indeksa do kojeg se vrši brojanje podniza. Argument je ovisan o argumentu `start`. Ako nije naveden argument `start`, ne može biti naveden niti argument `end`. Ako je pak naveden argument `start`, argument `end` može, ali i ne mora biti naveden. Ako argument `end` nije naveden, metoda završava s posljednjim indeksom niza."
   ]
  },
  {
   "cell_type": "code",
   "execution_count": 102,
   "metadata": {
    "collapsed": false
   },
   "outputs": [
    {
     "name": "stdout",
     "output_type": "stream",
     "text": [
      "5\n",
      "3\n",
      "0\n"
     ]
    }
   ],
   "source": [
    "niz='ananas, banana, jabuka, jagoda, mandarina'\n",
    "print niz.count('an')\n",
    "print niz.count('an',5)\n",
    "print niz.count('an',5,10)"
   ]
  },
  {
   "cell_type": "markdown",
   "metadata": {},
   "source": [
    "### 1.9.2.5. Metoda `find()`\n",
    "\n",
    "Metoda `find()` vraća broj početni broj indeksa od kojeg kreće podniz koji tražimo. Sintaksa ove metode je `niz.find(sub[, start[, end]])`. Metoda prima jedan obavezni i dva opcionalna argumenta. Argument `sub` obavezni je argument koji sadrži podniz čiji početni indeks tražimo. Argument `start` opcionalni je argument koji sadrži vrijednost početnog indeksa od kojeg metoda kreće tražiti indeks podniza. Ako argument nije naveden, metoda kreće od indeksa `0`. Argument `end` opcionalni je argument koji sadrži vrijednost završnog indeksa do kojeg metoda traži indeks podniza. Argument je ovisan o argumentu `start`. Ako nije naveden argument `start`, ne može biti naveden niti argument `end`. Ako je pak naveden argument `start`, argument `end` može, ali i ne mora biti naveden. Ako argument `end` nije naveden, metoda završava s posljednjim indeksom niza. U slučaju ako podniz ne postoji, tada vraća vrijednost `-1`."
   ]
  },
  {
   "cell_type": "code",
   "execution_count": 103,
   "metadata": {
    "collapsed": false
   },
   "outputs": [
    {
     "name": "stdout",
     "output_type": "stream",
     "text": [
      "0\n",
      "2\n",
      "11\n",
      "-1\n"
     ]
    }
   ],
   "source": [
    "niz='ananas, banana, jabuka, jagoda, mandarina'\n",
    "print niz.find('an')\n",
    "print niz.find('an',2)\n",
    "print niz.find('an',10,40)\n",
    "print niz.find('ga')"
   ]
  },
  {
   "cell_type": "markdown",
   "metadata": {},
   "source": [
    "### 1.9.2.6. Metoda `strip()`\n",
    "\n",
    "Metoda `strip()` vraća string u kojem je podniz uklonjen s početka i kraja niza. Sintaksa ove metode je `niz.strip([chars])`. Metoda prima jedan opcionalni argument. Argument `chars` opcionalni je argument koji sadrži podniz koji želimo ukloniti s početka i kraja niza. Ako argument nije naveden, pretpostavljena vrijednost su znakovi za bjeline."
   ]
  },
  {
   "cell_type": "code",
   "execution_count": 104,
   "metadata": {
    "collapsed": false
   },
   "outputs": [
    {
     "name": "stdout",
     "output_type": "stream",
     "text": [
      " ananas, banana, jabuka, jagoda, mandarina \n",
      "ananas, banana, jabuka, jagoda, mandarina\n",
      "s, banana, jabuka, jagoda, mandari\n",
      " ananas, banana, jabuka, jagoda, mandarina \n"
     ]
    }
   ],
   "source": [
    "niz=' ananas, banana, jabuka, jagoda, mandarina '\n",
    "print niz\n",
    "print niz.strip()\n",
    "print niz.strip(' an')\n",
    "print niz.strip('g')"
   ]
  },
  {
   "cell_type": "markdown",
   "metadata": {},
   "source": [
    "### 1.9.2.7. Metoda `split()`\n",
    "\n",
    "Metoda `split()` vraća tip podatka listu svih riječi iz niza znakova upotrebljavajući neki separator. Sintaksa ove metode je `niz.split([sep[, maxsplit]])`. Metoda prima dva opcionalna argumenta. Argument `sep` opcionalni je argument koji sadrži podniz koji želimo upotrijebiti kao separator. Ako argument nije naveden, pretpostavljena vrijednost je razmak. Argument `maxsplit` opcionalni je argument koji sadrži cjelobrojnu vrijednost koliko puta želimo izvršiti razdvajanje. Argument je ovisan o argumentu `sep`. Ako nije naveden argument `sep`, ne može biti naveden niti argument `maxsplit`. Ako je pak naveden argument `sep`, argument `maxsplit` može, ali i ne mora biti naveden. Ako `maxsplit` nije naveden, metoda vrši maksimalan mogući broj razdvajanja."
   ]
  },
  {
   "cell_type": "code",
   "execution_count": 105,
   "metadata": {
    "collapsed": false
   },
   "outputs": [
    {
     "name": "stdout",
     "output_type": "stream",
     "text": [
      "['ananas,', 'banana,', 'jabuka,', 'jagoda,', 'mandarina']\n",
      "['ananas, banana, ', 'buka, ', 'goda, mandarina']\n",
      "['ananas, banana, ', 'buka, jagoda, mandarina']\n"
     ]
    }
   ],
   "source": [
    "niz='ananas, banana, jabuka, jagoda, mandarina'\n",
    "print niz.split()\n",
    "print niz.split('ja')\n",
    "print niz.split('ja',1)"
   ]
  },
  {
   "cell_type": "markdown",
   "metadata": {},
   "source": [
    "### 1.9.2.8. Metoda `join()`\n",
    "\n",
    "Metoda `join()` vraća niz u kojem su elementi liste spojeni separatorom. Sintaksa ove metode je `niz.joint(list)`. U ovoj metodi separator je ustvari niz nad kojim se vrši metoda (`niz`). Metoda prima jedan obavezan argument. Argument `list` obavezni je argument koji sadrži listu čije elemente želimo spojiti pomoću niza znakova nad kojim vršimo metodu."
   ]
  },
  {
   "cell_type": "code",
   "execution_count": 106,
   "metadata": {
    "collapsed": false
   },
   "outputs": [
    {
     "name": "stdout",
     "output_type": "stream",
     "text": [
      "['ananas', 'banana', 'jabuka', 'jagoda', 'mandarina']\n",
      "ananas-banana-jabuka-jagoda-mandarina\n"
     ]
    }
   ],
   "source": [
    "niz='ananas, banana, jabuka, jagoda, mandarina'\n",
    "lista=niz.split(', ')\n",
    "print lista\n",
    "print '-'.join(lista)"
   ]
  },
  {
   "cell_type": "markdown",
   "metadata": {},
   "source": [
    "# 1.10. Rad s listama\n",
    "\n",
    "Liste (*list*, *sequence*) ([List](https://en.wikipedia.org/wiki/List_(abstract_data_type))) su složeni tipovi podataka koji mogu sadržavati više atomarnih podataka. Liste imaju linearnu strukturu podataka, odnosno elementi u listi poredani su nekim redoslijedom. Svakom elementu u listi dodijeljena je cjelobrojna vrijednost, koja predstavlja poziciju ili indeks elementa. Prvi indeks je `0`. Sadržaj elementa tj. njegova vrijednost može se u listi pojaviti više od jednog puta. Elementi liste ne moraju biti isti tip podatka.\n",
    "\n",
    "Lista se zapisuje u uglatim zagradama, a elementi liste razdvojeni su zarezom."
   ]
  },
  {
   "cell_type": "code",
   "execution_count": 107,
   "metadata": {
    "collapsed": false
   },
   "outputs": [
    {
     "name": "stdout",
     "output_type": "stream",
     "text": [
      "['banana', 5, 98.95]\n"
     ]
    }
   ],
   "source": [
    "print ['banana',5,98.95]"
   ]
  },
  {
   "cell_type": "markdown",
   "metadata": {},
   "source": [
    "Vrijednost liste dodjeljujemo varijabli operatorom pridruživanja `=`."
   ]
  },
  {
   "cell_type": "code",
   "execution_count": 108,
   "metadata": {
    "collapsed": false
   },
   "outputs": [
    {
     "name": "stdout",
     "output_type": "stream",
     "text": [
      "['banana', 5, 98.95]\n",
      "[3, 1, 5, 4, 2]\n",
      "['a', 'b', 'c', 'd', 'd']\n"
     ]
    }
   ],
   "source": [
    "lista1=['banana',5,98.95]\n",
    "lista2=[3,1,5,4,2]\n",
    "lista3=['a','b','c','d','d']\n",
    "print lista1\n",
    "print lista2\n",
    "print lista3"
   ]
  },
  {
   "cell_type": "markdown",
   "metadata": {},
   "source": [
    "Listu možemo inicijalizirati bez sadržavanja vrijednosti:"
   ]
  },
  {
   "cell_type": "code",
   "execution_count": 109,
   "metadata": {
    "collapsed": false
   },
   "outputs": [
    {
     "name": "stdout",
     "output_type": "stream",
     "text": [
      "[]\n"
     ]
    }
   ],
   "source": [
    "prazna_lista=[]\n",
    "print prazna_lista"
   ]
  },
  {
   "cell_type": "markdown",
   "metadata": {},
   "source": [
    "Liste je moguće indeksirati, kao i nizove znakova:"
   ]
  },
  {
   "cell_type": "code",
   "execution_count": 110,
   "metadata": {
    "collapsed": false
   },
   "outputs": [
    {
     "name": "stdout",
     "output_type": "stream",
     "text": [
      "banana\n",
      "98.95\n",
      "['banana', 5]\n",
      "[5, 98.95]\n",
      "[]\n"
     ]
    }
   ],
   "source": [
    "lista=['banana',5,98.95]\n",
    "print lista[0]\n",
    "print lista[-1]\n",
    "print lista[:2]\n",
    "print lista[-2:]\n",
    "print lista[-2:1]"
   ]
  },
  {
   "cell_type": "markdown",
   "metadata": {},
   "source": [
    "Dodatno je kod lista moguće indeksirati unutar elemenata liste onih tipova podataka koji podržavaju indeksiranje (npr. nizovi znakova i liste) na sljedeći način: "
   ]
  },
  {
   "cell_type": "code",
   "execution_count": 111,
   "metadata": {
    "collapsed": false
   },
   "outputs": [
    {
     "name": "stdout",
     "output_type": "stream",
     "text": [
      "a\n",
      "d\n"
     ]
    }
   ],
   "source": [
    "lista4=['banana',5,98.95,[1,'dva',2]]\n",
    "print lista4[0][-1]\n",
    "print lista4[-1][1][0]"
   ]
  },
  {
   "cell_type": "markdown",
   "metadata": {},
   "source": [
    "Nad listama je moguće vršiti konkatenaciju na sljedeći način:"
   ]
  },
  {
   "cell_type": "code",
   "execution_count": 112,
   "metadata": {
    "collapsed": false
   },
   "outputs": [
    {
     "name": "stdout",
     "output_type": "stream",
     "text": [
      "['banana', 5, 98.95, 3, 1, 5, 4, 2]\n"
     ]
    }
   ],
   "source": [
    "lista1=['banana',5,98.95]\n",
    "lista2=[3,1,5,4,2]\n",
    "print lista1+lista2"
   ]
  },
  {
   "cell_type": "markdown",
   "metadata": {},
   "source": [
    "Funkcija `len()` računa duljinu liste, odnosno vraća cjelobrojnu vrijednost broja elemenata u listi."
   ]
  },
  {
   "cell_type": "code",
   "execution_count": 113,
   "metadata": {
    "collapsed": false
   },
   "outputs": [
    {
     "name": "stdout",
     "output_type": "stream",
     "text": [
      "3\n",
      "5\n",
      "5\n",
      "4\n",
      "3\n"
     ]
    }
   ],
   "source": [
    "lista1=['banana',5,98.95]\n",
    "lista2=[3,1,5,4,2]\n",
    "lista3=['a','b','c','d','d']\n",
    "lista4=['banana',5,98.95,[1,'dva',2]]\n",
    "print len(lista1)\n",
    "print len(lista2)\n",
    "print len(lista3)\n",
    "print len(lista4)\n",
    "print len(lista4[-1])"
   ]
  },
  {
   "cell_type": "markdown",
   "metadata": {},
   "source": [
    "Liste su promjenjivi tipovi podataka, tako da je moguće vrijednost postojećeg elementa liste promijeniti indeksiranjem tog elementa i dodjeljivanjem nove vrijednosti:"
   ]
  },
  {
   "cell_type": "code",
   "execution_count": 114,
   "metadata": {
    "collapsed": false
   },
   "outputs": [
    {
     "name": "stdout",
     "output_type": "stream",
     "text": [
      "['jabuka', 5, 98.95]\n"
     ]
    }
   ],
   "source": [
    "lista=['banana',5,98.95]\n",
    "lista[0]='jabuka'\n",
    "print lista"
   ]
  },
  {
   "cell_type": "markdown",
   "metadata": {},
   "source": [
    "## 1.10.1. Odabrane metode nad listama\n",
    "\n",
    "U ovom poglavlju opisane su metode koje se vrše nad listama:\n",
    "* `append()`\n",
    "* `insert()`\n",
    "* `remove()`"
   ]
  },
  {
   "cell_type": "markdown",
   "metadata": {},
   "source": [
    "### 1.10.1.1. Metoda `append()`\n",
    "\n",
    "Metoda `append()` dodaje element u postojeću listu. Sintaksa ove metode je `lista.append(obj)`.  Metoda prima jedan obavezan argument. Argument `obj` obavezni je argument koji sadrži vrijednost elementa koji želimo dodati u postojeću listu. Objekt se dodaje na kraj liste. Metoda ne vraća nikakvu vrijednost, već ažurira postojeću listu."
   ]
  },
  {
   "cell_type": "code",
   "execution_count": 115,
   "metadata": {
    "collapsed": false
   },
   "outputs": [
    {
     "name": "stdout",
     "output_type": "stream",
     "text": [
      "['banana', 5, 98.95, 'tekst']\n"
     ]
    }
   ],
   "source": [
    "lista=['banana',5,98.95]\n",
    "lista.append('tekst')\n",
    "print lista"
   ]
  },
  {
   "cell_type": "markdown",
   "metadata": {},
   "source": [
    "### 1.10.1.2. Metoda `insert()`\n",
    "\n",
    "Metodom `insert()` moguće je dodati element u postojeću listu na određeno mjesto u listi. Sintaksa ove metode je `lista.insert(index, obj)`. Metoda prima dva obavezna argumenta. Argument `index` obavezni je argument koji sadrži cjelobrojnu vrijednost indeksa na koji želimo dodati element u postojeću listu. Argument `obj` obavezni je argument koji sadrži vrijednost elementa koji želimo dodati u postojeću listu. Metoda ne vraća nikakvu vrijednost, već ažurira postojeću listu."
   ]
  },
  {
   "cell_type": "code",
   "execution_count": 116,
   "metadata": {
    "collapsed": false
   },
   "outputs": [
    {
     "name": "stdout",
     "output_type": "stream",
     "text": [
      "['banana', 5, 'tekst', 98.95]\n"
     ]
    }
   ],
   "source": [
    "lista=['banana',5,98.95]\n",
    "lista.insert(2,'tekst')\n",
    "print lista"
   ]
  },
  {
   "cell_type": "markdown",
   "metadata": {},
   "source": [
    "### 1.10.1.3. Metoda `remove()`\n",
    "\n",
    "Metoda `remove()` uklanja prvo pojavljivanje elementa iz postojeće liste. Sintaksa ove metode je `lista.remove(obj)`. Metoda prima jedan obavezni argument. Argument `obj` obavezni je argument koji sadrži vrijednost elementa koji želimo obrisati iz postojeće liste. Metoda ne vraća nikakvu vrijednost, već ažurira postojeću listu."
   ]
  },
  {
   "cell_type": "code",
   "execution_count": 117,
   "metadata": {
    "collapsed": false
   },
   "outputs": [
    {
     "name": "stdout",
     "output_type": "stream",
     "text": [
      "['banana', 98.95, 'tekst', 5]\n"
     ]
    }
   ],
   "source": [
    "lista5=['banana',5,98.95,'tekst',5]\n",
    "lista5.remove(5)\n",
    "print lista5"
   ]
  },
  {
   "cell_type": "markdown",
   "metadata": {},
   "source": [
    "Osim ovom metodom, elemente liste moguće je brisati putem naredbe `del` i indeksa elementa:"
   ]
  },
  {
   "cell_type": "code",
   "execution_count": 118,
   "metadata": {
    "collapsed": false
   },
   "outputs": [
    {
     "name": "stdout",
     "output_type": "stream",
     "text": [
      "['banana', 5, 98.95, 'tekst']\n"
     ]
    }
   ],
   "source": [
    "lista5=['banana',5,98.95,'tekst',5]\n",
    "del lista5[-1]\n",
    "print lista5"
   ]
  },
  {
   "cell_type": "markdown",
   "metadata": {},
   "source": [
    "# 1.11. Kontrola tijeka\n",
    "\n",
    "Kontrola tijeka (*control flow*, *flow control*) ([Control flow](https://en.wikipedia.org/wiki/Control_flow)) određuje kojim redoslijedom se vrše određene naredbe u računalnom programu. Naredbe kontrola tijeka postavljaju određene uvjete koji se trebaju ispuniti prije njihovog izvršavanja, odnosno, ako se uvjeti ne ispune, naredbe se neće izvršiti. Skup naredbi često je strukturiran u blok naredbi. U sintaksi *Pythona* blok naredbi definira se uvlakama, a najavljuje se dvotočkom.\n",
    "\n",
    "Kontrola tijeka izvodi se **selekcijom** i **iteracijom**. **Selekcija** je grananje programa s obzirom na zadovoljenost nekog logičkog uvjeta. Naredba kojom se vrši selekcija naziva se *if* naredba. **Iteracija** je uzastopno ponavljanje niza naredbi, a vrši se *for* petljom ili *while* petljom.\n",
    "\n",
    "U ovom poglavlju opisane su dvije naredbe kontrola tijeka:\n",
    "* `if` naredba\n",
    "* `for` petlja."
   ]
  },
  {
   "cell_type": "markdown",
   "metadata": {},
   "source": [
    "## 1.11.1. `if` naredba\n",
    "\n",
    "Naredba kojom se vrši selekcija, odnosno grananje programa s obzirom na zadovoljenost jednog ili više logičkih uvjeta, naziva se `if` naredbom. Sintaksa naredbe ima jednu obaveznu `if` izjavu, jednu ili više opcionalnih `elif` izjava (od *else if*) i jednu opcionalnu `else` izjavu. Blok naredbi definiran je uvlakama, a najavljuje se dvotočkom.\n",
    "\n",
    "Na sljedeći način ispisat ćemo \"Broj je veći od 5.\" za sve brojeve koji su veći od 5 te provjeriti uvjet s brojevima `3` i `10`:"
   ]
  },
  {
   "cell_type": "code",
   "execution_count": 119,
   "metadata": {
    "collapsed": false
   },
   "outputs": [],
   "source": [
    "a=3\n",
    "if a>5:\n",
    "    print 'Broj je veći od 5.'"
   ]
  },
  {
   "cell_type": "code",
   "execution_count": 120,
   "metadata": {
    "collapsed": false
   },
   "outputs": [
    {
     "name": "stdout",
     "output_type": "stream",
     "text": [
      "Broj je veći od 5.\n"
     ]
    }
   ],
   "source": [
    "b=10\n",
    "if b>5:\n",
    "    print 'Broj je veći od 5.'"
   ]
  },
  {
   "cell_type": "markdown",
   "metadata": {},
   "source": [
    "Kod provjere s brojem `3`, logički uvjet nije ispunjen (tj. rezultat logičkog izraza je `FALSE`), jer 2 nije veći od 5 te se nije ispisao zadani tekst. Kod provjere s brojem `10`, logički uvjet je ispunjen (tj. rezultat logičkog izraza je `TRUE`) te se ispisao zadani tekst.\n",
    "\n",
    "Na sljedeći način ispisat ćemo \"Broj je paran.\" za sve brojeve koji su parni, a \"Broj je neparan.\" za sve brojeve koji su neparni te provjeriti blok naredbi s brojevima `3` i `10`:"
   ]
  },
  {
   "cell_type": "code",
   "execution_count": 121,
   "metadata": {
    "collapsed": false
   },
   "outputs": [
    {
     "name": "stdout",
     "output_type": "stream",
     "text": [
      "Broj je neparan.\n"
     ]
    }
   ],
   "source": [
    "a=3\n",
    "if a%2==0:\n",
    "    print 'Broj je paran.'\n",
    "else:\n",
    "    print 'Broj je neparan.'"
   ]
  },
  {
   "cell_type": "code",
   "execution_count": 122,
   "metadata": {
    "collapsed": false
   },
   "outputs": [
    {
     "name": "stdout",
     "output_type": "stream",
     "text": [
      "Broj je paran.\n"
     ]
    }
   ],
   "source": [
    "b=10\n",
    "if b%2==0:\n",
    "    print 'Broj je paran.'\n",
    "else:\n",
    "    print 'Broj je neparan.'"
   ]
  },
  {
   "cell_type": "markdown",
   "metadata": {},
   "source": [
    "U ovom primjeru provjeravamo je li ostatak dijeljenja s brojem 2 jednak 0 (`if a%2==0`). Ako je uvjet ispunjen (tj. rezultat logičkog izraza je `TRUE`), ispisat će se \"Broj je paran.\" (`print 'Broj je paran.'`). Za sve ostale slučajeve (`else`), ispisat će se \"Broj je neparan\" (`print 'Broj je neparan.`).\n",
    "\n",
    "Moguće je unutar `if` naredbe imati drugu `if` naredbu:"
   ]
  },
  {
   "cell_type": "code",
   "execution_count": 123,
   "metadata": {
    "collapsed": false
   },
   "outputs": [
    {
     "name": "stdout",
     "output_type": "stream",
     "text": [
      "18\n"
     ]
    }
   ],
   "source": [
    "c=6\n",
    "if c%2==0:\n",
    "    if c<10:\n",
    "        c*=3\n",
    "else:\n",
    "    c*=5\n",
    "print c"
   ]
  },
  {
   "cell_type": "code",
   "execution_count": 124,
   "metadata": {
    "collapsed": false
   },
   "outputs": [
    {
     "name": "stdout",
     "output_type": "stream",
     "text": [
      "55\n"
     ]
    }
   ],
   "source": [
    "d=11\n",
    "if d%2==0:\n",
    "    if d<10:\n",
    "        d*=3\n",
    "else:\n",
    "    d*=5\n",
    "print d"
   ]
  },
  {
   "cell_type": "markdown",
   "metadata": {},
   "source": [
    "U ovom primjeru provjeravamo je li broj djeljiv s 2. Ako je taj uvjet ispunjen, provjeravamo je li broj manji od 10. Ako je i taj uvjet ispunjen, broj množimo s 3. Ako broj nije djeljiv s 2, broj množimo s 5.\n",
    "\n",
    "Isti zadatak moguće je riješiti logičkim operatorom `and` na sljedeći način:"
   ]
  },
  {
   "cell_type": "code",
   "execution_count": 125,
   "metadata": {
    "collapsed": false
   },
   "outputs": [
    {
     "name": "stdout",
     "output_type": "stream",
     "text": [
      "18\n"
     ]
    }
   ],
   "source": [
    "c=6\n",
    "if c%2==0 and c<10:\n",
    "    c*=3\n",
    "else:\n",
    "    c*=5\n",
    "print c"
   ]
  },
  {
   "cell_type": "code",
   "execution_count": 126,
   "metadata": {
    "collapsed": false
   },
   "outputs": [
    {
     "name": "stdout",
     "output_type": "stream",
     "text": [
      "55\n"
     ]
    }
   ],
   "source": [
    "d=11\n",
    "if d%2==0 and c<10:\n",
    "    d*=3\n",
    "else:\n",
    "    d*=5\n",
    "print d"
   ]
  },
  {
   "cell_type": "markdown",
   "metadata": {},
   "source": [
    "U ovom primjeru provjeravamo je li broj djeljiv s 2 i (logički operator `and`) je li broj manji od 10. Tek kada se oba uvjeta ispune, broj množimo s 3. Ako uvjet nije ispunjen, broj množimo s 5.\n",
    "\n",
    "Na sljedeći način moguće je upotrijebiti logički operator `or`:"
   ]
  },
  {
   "cell_type": "code",
   "execution_count": 127,
   "metadata": {
    "collapsed": false
   },
   "outputs": [
    {
     "name": "stdout",
     "output_type": "stream",
     "text": [
      "14\n"
     ]
    }
   ],
   "source": [
    "e=10\n",
    "if e%2==0 or e%3==0:\n",
    "    e+=4\n",
    "else:\n",
    "    e-=8\n",
    "print e"
   ]
  },
  {
   "cell_type": "code",
   "execution_count": 128,
   "metadata": {
    "collapsed": false
   },
   "outputs": [
    {
     "name": "stdout",
     "output_type": "stream",
     "text": [
      "-3\n"
     ]
    }
   ],
   "source": [
    "f=5\n",
    "if f%2==0 or f%3==0:\n",
    "    f+=4\n",
    "else:\n",
    "    f-=8\n",
    "print f"
   ]
  },
  {
   "cell_type": "markdown",
   "metadata": {},
   "source": [
    "U ovom primjeru provjeravamo je li broj djeljiv s 2 ili (logički operator `or`) je li broj djeljiv s 3. Samo je jedan uvjet potrebno izvršiti kako bi broju zbrojili 4. Ako nije ispunjen ni jedan od uvjeta, oduzima se broj 8.\n",
    "\n",
    "Na sljedeći način možemo postaviti složeni blok naredbi:"
   ]
  },
  {
   "cell_type": "code",
   "execution_count": 129,
   "metadata": {
    "collapsed": false
   },
   "outputs": [
    {
     "name": "stdout",
     "output_type": "stream",
     "text": [
      "Broj je djeljiv s 5.\n"
     ]
    }
   ],
   "source": [
    "g=25\n",
    "if g%2==0:\n",
    "    print 'Broj je djeljiv s 2.'\n",
    "elif g%3==0:\n",
    "    print 'Broj je djeljiv s 3.'\n",
    "elif g%5==0:\n",
    "    print 'Broj je djeljiv s 5.'\n",
    "elif g%7==0:\n",
    "    print 'Broj je djeljiv sa 7.'\n",
    "else:\n",
    "    print 'Broj nije djeljiv s 2, 3, 5 ni 7.'"
   ]
  },
  {
   "cell_type": "code",
   "execution_count": 130,
   "metadata": {
    "collapsed": false
   },
   "outputs": [
    {
     "name": "stdout",
     "output_type": "stream",
     "text": [
      "Broj je djeljiv s 2.\n"
     ]
    }
   ],
   "source": [
    "h=6\n",
    "if h%2==0:\n",
    "    print 'Broj je djeljiv s 2.'\n",
    "elif h%3==0:\n",
    "    print 'Broj je djeljiv s 3.'\n",
    "elif h%5==0:\n",
    "    print 'Broj je djeljiv s 5.'\n",
    "elif h%7==0:\n",
    "    print 'Broj je djeljiv sa 7.'\n",
    "else:\n",
    "    print 'Broj nije djeljiv s 2, 3, 5 ni 7.'"
   ]
  },
  {
   "cell_type": "code",
   "execution_count": 131,
   "metadata": {
    "collapsed": false
   },
   "outputs": [
    {
     "name": "stdout",
     "output_type": "stream",
     "text": [
      "Broj nije djeljiv s 2, 3, 5 ni 7.\n"
     ]
    }
   ],
   "source": [
    "i=11\n",
    "if i%2==0:\n",
    "    print 'Broj je djeljiv s 2.'\n",
    "elif i%3==0:\n",
    "    print 'Broj je djeljiv s 3.'\n",
    "elif i%5==0:\n",
    "    print 'Broj je djeljiv s 5.'\n",
    "elif i%7==0:\n",
    "    print 'Broj je djeljiv sa 7.'\n",
    "else:\n",
    "    print 'Broj nije djeljiv s 2, 3, 5 ni 7.'"
   ]
  },
  {
   "cell_type": "markdown",
   "metadata": {},
   "source": [
    "## 1.11.2. `for` petlja\n",
    "\n",
    "Petlja kojom se vrši iteracija, odnosno uzastopno ponavljanje niza naredbi, naziva se `for` petlja. Sintaksa petlje je `for pomocna_varijabla in obj:`. For petlja prolazi kroz neki objekt `obj`. U svakom prolasku `pomocna_varijabla` poprima vrijednost elementa objekta kroz koji iterira počevši od prvog elementa. Petlja se izvršava onoliko puta koliko ima elemenata u objektu."
   ]
  },
  {
   "cell_type": "markdown",
   "metadata": {},
   "source": [
    "### 1.11.2.1. Iteracija kroz niz znakova\n",
    "\n",
    "Od tipova podataka koji su do sada opisani, iterirati se može kroz nizove znakova i liste. Kada stavimo niz znakova u `for` petlju, iterira se od prvog znaka niza do posljednjeg znaka. Na primjer, u sljedećem primjeru iterirat ćemo kroz niz znakova te u svakoj iteraciji ispisati trenutnu vrijednost pomoćne varijable."
   ]
  },
  {
   "cell_type": "code",
   "execution_count": 132,
   "metadata": {
    "collapsed": false
   },
   "outputs": [
    {
     "name": "stdout",
     "output_type": "stream",
     "text": [
      "Pomoćna varijabla \"znak\" poprima vrijednost: n\n",
      "Pomoćna varijabla \"znak\" poprima vrijednost: e\n",
      "Pomoćna varijabla \"znak\" poprima vrijednost: k\n",
      "Pomoćna varijabla \"znak\" poprima vrijednost: i\n",
      "Pomoćna varijabla \"znak\" poprima vrijednost:  \n",
      "Pomoćna varijabla \"znak\" poprima vrijednost: n\n",
      "Pomoćna varijabla \"znak\" poprima vrijednost: i\n",
      "Pomoćna varijabla \"znak\" poprima vrijednost: z\n"
     ]
    }
   ],
   "source": [
    "for znak in 'neki niz':\n",
    "    print 'Pomoćna varijabla \"znak\" poprima vrijednost: '+znak"
   ]
  },
  {
   "cell_type": "markdown",
   "metadata": {},
   "source": [
    "Iz primjera je vidljivo da pomoćna varijabla `znak` poprima vrijednosti svakog znaka `neki niz` kroz koji iteriramo, od prvog do posljednjeg. U prvoj iteraciji poprima vrijednost `n`, u drugoj iteraciji poprima vrijednost `e`, u trećoj iteraciji poprima vrijednost `k` i tako sve do posljednjeg znaka niza kroz koji iteriramo. Vrši se onoliko iteracija koliko ima znakova u nizu. Naziv pomoćne varijable `znak` je proizvoljan.\n",
    "\n",
    "Moguće je kombinirati `if` naredbu i `for` petlju. U sljedećem primjeru ispisat ćemo samo samoglasnike iz niza znakova kroz koji iteriramo:"
   ]
  },
  {
   "cell_type": "code",
   "execution_count": 133,
   "metadata": {
    "collapsed": false
   },
   "outputs": [
    {
     "name": "stdout",
     "output_type": "stream",
     "text": [
      "e\n",
      "i\n",
      "i\n"
     ]
    }
   ],
   "source": [
    "for znak in 'neki niz':\n",
    "    if znak in 'aeiou':\n",
    "        print znak"
   ]
  },
  {
   "cell_type": "markdown",
   "metadata": {},
   "source": [
    "U ovom primjeru iteriramo kroz `neki niz`. U prvoj iteraciji `znak` poprima vrijednost `n`. Zatim se provjerava nalazi li se ta vrijednost u nizu `'aeiou'`. Upotrebljavamo operator članstva `in` koji ispituje nalazi li se vrijednost pomoćne varijable u navedenom nizu znakova te vraća logički tip podatka. Budući da se `n` ne nalazi, prva iteracija `for` petlje završava i kreće druga iteracija `for` petlje. U drugoj iteraciji `znak` poprima vrijednost `e`. Zatim se provjerava nalazi li se ta vrijednost u nizu `'aeiou'`. Budući da je uvjet ispunjen, ispisuje se trenutna vrijednost pomoćne varijable `znak`, što je u ovom slučaju `e`. Ovdje završava druga iteracija i kreće treća iteracija `for` petlje, kada `znak` poprima vrijednost `k`. Zatim se provjerava nalazi li se ta vrijednost u nizu `aeiou`. Budući da se `k` ne nalazi, završava treća iteracija petlje i kreće četvrta iteracija. U četvrtoj iteraciji `znak` poprima vrijednost `i`. Zatim se provjerava nalazi li se ta vrijednost u nizu `aeiou`. Budući da je uvjet ispunjen, ispisuje se trenutna vrijednost pomoćne varijable `znak`. Ovdje završava četvrta iteracija te kreće peta iteracija `for` petlje. I tako sve do kraja zadnjeg znaka u nizu `neki niz`. Vrši se i dalje onoliko iteracija petlje koliko ima znakova u nizu, samo zbog dodatnog uvjeta ispisujemo jedino one znakove koji ispunjavaju uvjet."
   ]
  },
  {
   "cell_type": "markdown",
   "metadata": {
    "collapsed": true
   },
   "source": [
    "Brojačem možemo izbrojati koliko se puta neki fenomen pojavljuje u nizu, ali ga prvo moramo svesti na vrijednost `0` dodjeljivanjem te vrijednosti varijabli koju nazivamo brojač. Na primjer, možemo izračunati koliko se samoglasnika pojavljuje u nekom nizu znakova."
   ]
  },
  {
   "cell_type": "code",
   "execution_count": 134,
   "metadata": {
    "collapsed": false
   },
   "outputs": [
    {
     "name": "stdout",
     "output_type": "stream",
     "text": [
      "6\n"
     ]
    }
   ],
   "source": [
    "broj_samoglasnika=0\n",
    "niz=\"Ovo je niz znakova.\"\n",
    "for znak in niz:\n",
    "    if znak in 'aeiou':\n",
    "        broj_samoglasnika+=1\n",
    "print broj_samoglasnika"
   ]
  },
  {
   "cell_type": "markdown",
   "metadata": {
    "collapsed": true
   },
   "source": [
    "Varijabla `niz` sadrži 7, a ne 6 samoglasnika. Logički uvjet u `if` naredbi provjerava nalazi li se pomoćna varijabla `znak` u nizu `aeiou`. Budući da je logički uvjet ispunjen samo kada `znak` poprimi vrijednost samoglasnika pisanog malim slovima, ovako postavljen uvjet preskače prvi znak u varijabli `niz` odnosno veliko slovo `O`. Problem se rješava trikom tako da se `niz` pretvori u mala slova metodom `lower()` na sljedeći način:"
   ]
  },
  {
   "cell_type": "code",
   "execution_count": 135,
   "metadata": {
    "collapsed": false
   },
   "outputs": [
    {
     "name": "stdout",
     "output_type": "stream",
     "text": [
      "7\n"
     ]
    }
   ],
   "source": [
    "broj_samoglasnika=0\n",
    "niz=\"Ovo je niz znakova.\"\n",
    "for znak in niz.lower():\n",
    "    if znak in 'aeiou':\n",
    "        broj_samoglasnika+=1\n",
    "print broj_samoglasnika"
   ]
  },
  {
   "cell_type": "markdown",
   "metadata": {
    "collapsed": true
   },
   "source": [
    "U novi niz `samoglasnici` možemo pohraniti sve samoglasnike iz zadanog niza. Prvo je potrebno inicijalizirati prazan niz, a nakon toga iterirati kroz niz, provjeriti je li trenutni znak samoglasnik te ga pridružiti nizu `samoglasnici` ako je logički uvjet ispunjen. "
   ]
  },
  {
   "cell_type": "code",
   "execution_count": 136,
   "metadata": {
    "collapsed": false
   },
   "outputs": [
    {
     "name": "stdout",
     "output_type": "stream",
     "text": [
      "ooeiaoa\n"
     ]
    }
   ],
   "source": [
    "samoglasnici=''\n",
    "niz=\"Ovo je niz znakova.\"\n",
    "for znak in niz.lower():\n",
    "    if znak in 'aeiou':\n",
    "        samoglasnici+=znak\n",
    "print samoglasnici"
   ]
  },
  {
   "cell_type": "markdown",
   "metadata": {},
   "source": [
    "### 1.11.2.2. Iteracija kroz listu\n",
    "\n",
    "Iterirati možemo kroz listu. Kada stavimo listu u `for` petlju, iterira se od prvog elementa liste do posljednjeg elementa liste. Na primjer, u sljedećem primjeru iterirat ćemo kroz listu te u svakoj iteraciji ispisati trenutnu vrijednost pomoćne varijable."
   ]
  },
  {
   "cell_type": "code",
   "execution_count": 137,
   "metadata": {
    "collapsed": false
   },
   "outputs": [
    {
     "name": "stdout",
     "output_type": "stream",
     "text": [
      "1\n",
      "2\n",
      "tri\n",
      "[4, 'pet']\n",
      "6.0\n"
     ]
    }
   ],
   "source": [
    "for element in [1, 2, 'tri', [4,'pet'], 6.0]:\n",
    "    print element"
   ]
  },
  {
   "cell_type": "markdown",
   "metadata": {},
   "source": [
    "U ovom primjeru iteriramo kroz listu `[1, 2, 'tri', [4,'pet'], 6.0]`. U prvoj iteraciji pomoćna varijabla `element` poprima vrijednost `1`. U drugoj iteraciji `element` poprima vrijednost `2`. U trećoj iteraciji `element` poprima vrijednost `'tri'`. U četvrtoj iteraciji `element` poprima vrijednost `[4, 'pet']`. U petoj i posljednjoj iteraciji poprima vrijednost posljednjeg elementa liste `6.0`.\n",
    "\n",
    "Za svaki element liste možemo provjeriti kojeg je tipa podatka pomoću funkcije `type()`:"
   ]
  },
  {
   "cell_type": "code",
   "execution_count": 138,
   "metadata": {
    "collapsed": false
   },
   "outputs": [
    {
     "name": "stdout",
     "output_type": "stream",
     "text": [
      "Element je sljedećeg tipa podatka: <type 'int'>\n",
      "Element je sljedećeg tipa podatka: <type 'int'>\n",
      "Element je sljedećeg tipa podatka: <type 'str'>\n",
      "Element je sljedećeg tipa podatka: <type 'list'>\n",
      "Element je sljedećeg tipa podatka: <type 'float'>\n"
     ]
    }
   ],
   "source": [
    "for element in [1, 2, 'tri', [4,'pet'], 6.0]:\n",
    "    print 'Element je sljedećeg tipa podatka: '+ str(type(element))"
   ]
  },
  {
   "cell_type": "markdown",
   "metadata": {},
   "source": [
    "Iz primjera je vidljivo da su prva dva elementa liste cjelobrojne vrijednosti, treći element je niz znakova, četvrti element je lista, a peti element je realni tip podatka.\n",
    "\n",
    "U sljedećem primjeru kombiniramo `for` petlju i `if` naredbu:"
   ]
  },
  {
   "cell_type": "code",
   "execution_count": 139,
   "metadata": {
    "collapsed": false
   },
   "outputs": [
    {
     "name": "stdout",
     "output_type": "stream",
     "text": [
      "jedan\n",
      "cetiri\n"
     ]
    }
   ],
   "source": [
    "for element in ['jedan', 'dva', 'tri', 'cetiri', 'pet']:\n",
    "    if len(element)>3:\n",
    "        print element"
   ]
  },
  {
   "cell_type": "markdown",
   "metadata": {},
   "source": [
    "U ovom primjeru iteriramo kroz listu `['jedan', 'dva', 'tri', 'četiri', 'pet']` i provjeravamo je li dužina elementa liste veća od 3. Ako je veća, onda ispisuje element. U prvoj iteraciji pomoćna varijabla `element` poprima vrijednost `'jedan'`. Zatim se provjerava je li dužina trenutne vrijednosti pomoćne varijable veća od 3. Budući da je `jedan` ima više od 3 znaka, uvjet je ispunjen i trenutna vrijednost pomoćne varijable `element` se ispisuje. Kreće druga iteracija u kojoj `element` poprima vrijednost `'dva'`. Zatim se provjerava je li dužina trenutne vrijednosti pomoćne varijable veća od 3. Budući da `dva` nema više od tri znaka (ima upravo tri znaka, ali ne više od tri znaka), uvjet nije ispunjen te tu završava druga iteracija i kreće treća iteracija. I tako sve do posljednjeg elementa liste.\n",
    "\n",
    "U sljedećem primjeru ispisat ćemo prvi znak elemenata iz liste indeksiranjem:"
   ]
  },
  {
   "cell_type": "code",
   "execution_count": 140,
   "metadata": {
    "collapsed": false
   },
   "outputs": [
    {
     "name": "stdout",
     "output_type": "stream",
     "text": [
      "j\n",
      "d\n",
      "t\n",
      "c\n",
      "p\n"
     ]
    }
   ],
   "source": [
    "for element in ['jedan', 'dva', 'tri', 'cetiri', 'pet']:\n",
    "    print element[0]"
   ]
  },
  {
   "cell_type": "markdown",
   "metadata": {},
   "source": [
    "Možemo izračunati prosječnu duljinu znakova elemenata liste."
   ]
  },
  {
   "cell_type": "code",
   "execution_count": 141,
   "metadata": {
    "collapsed": false
   },
   "outputs": [
    {
     "name": "stdout",
     "output_type": "stream",
     "text": [
      "4.25\n",
      "4\n"
     ]
    }
   ],
   "source": [
    "duljina_znakova=0\n",
    "lista=['jedan', 'dva', 'tri', 'cetiri']\n",
    "for element in lista:\n",
    "    duljina_znakova+=len(element)\n",
    "print float(duljina_znakova)/len(lista)\n",
    "print duljina_znakova/len(lista)"
   ]
  },
  {
   "cell_type": "markdown",
   "metadata": {},
   "source": [
    "U ovom primjeru prvo smo varijablu u koju ćemo spremati duljinu znakova sveli na vrijednost 0. Zatim smo u varijablu `lista` pohranili listu kroz koju ćemo iterirati. Za svaki element liste računali smo duljinu elementa (`len(element)`) i vrijednost dodavali u varijabli `duljina_znakova`. U prvoj iteraciji `duljina_znakova` poprimila je vrijednost 5, jer `jedan` ima 5 znakova. U drugoj iteraciji `duljina_znakova` poprimila je vrijednost 8, jer `dva` ima još 3 znaka, a 5+3 jednako je 8. U trećoj iteraciji `duljina_znakova` poprimila je vrijednost 11, jer `tri` ima još 3 znaka, a 5+3+3 jednako je 11. U četvrtoj iteraciji `duljina_znakova` poprimila je vrijednost 17, jer `cetiri` ima još 6 znakova, a 5+3+3+6 jednako je 17. Kada je završila iteracija, cjelobrojnu vrijednost varijable `duljina_znakova` pretvorili smo u realni tip podatka te podijelili s dužinom liste (tj. brojem elemenata u listi). Budući da su vrijednost varijable `duljina_znakova` i vrijednost izraza `len(lista)` cjelobrojni tipovi podataka, potrebno je jednu od vrijednosti pretvoriti u realni tip podatka, jer ćemo nećemo dobiti razlomački dio."
   ]
  },
  {
   "cell_type": "markdown",
   "metadata": {},
   "source": [
    "Kada imamo brojač kojim brojimo koliko se puta neki fenomen pojavljuje u određenoj sekvenci ili zbrajamo elemente, taj brojač moramo svesti na vrijednost `0` dodjeljivanjem tu vrijednost varijabli. U sljedećem primjeru izračunat ćemo zbroj elemenata u listi, a brojač pohraniti u varijabli `i`. Na kraju iteracije ispisujemo vrijednost brojača."
   ]
  },
  {
   "cell_type": "code",
   "execution_count": 142,
   "metadata": {
    "collapsed": false
   },
   "outputs": [
    {
     "name": "stdout",
     "output_type": "stream",
     "text": [
      "15\n"
     ]
    }
   ],
   "source": [
    "i=0\n",
    "lista=[1,2,3,4,5]\n",
    "for element in lista:\n",
    "    i+=element\n",
    "print i"
   ]
  },
  {
   "cell_type": "markdown",
   "metadata": {},
   "source": [
    "Moguće je pratiti koje vrijednosti poprima brojač `i` u svakoj iteraciji, tako da se ispiše vrijednost i unutar `for` petlje:"
   ]
  },
  {
   "cell_type": "code",
   "execution_count": 143,
   "metadata": {
    "collapsed": false
   },
   "outputs": [
    {
     "name": "stdout",
     "output_type": "stream",
     "text": [
      "1\n",
      "3\n",
      "6\n",
      "10\n",
      "15\n"
     ]
    }
   ],
   "source": [
    "i=0\n",
    "lista=[1,2,3,4,5]\n",
    "for element in lista:\n",
    "    i+=element\n",
    "    print i"
   ]
  },
  {
   "cell_type": "markdown",
   "metadata": {
    "collapsed": true
   },
   "source": [
    "Vrijednost brojača `i` je `0`. U prvoj iteraciji pomoćna varijabla `element` poprima vrijednost prvog elementa liste odnosno `1` te tu vrijednost dodaje brojaču. Vrijednost brojača `i` sada je `1` te se ta vrijednost ispisuje. U drugoj iteraciji pomoćna varijabla `element` poprima vrijednost drugog elementa liste odnosno `2` te tu vrijednost zbraja na trenutnu vrijednost brojača. Vrijednost brojača `i` sada je `1+2` odnosno `3` te se ta vrijednost ispisuje. U trećoj iteraciji pomoćna varijabla `element` poprima vrijednost trećeg elementa liste odnosno `3` te tu vrijednost zbraja na trenutnu vrijednost brojača. Vrijednost brojača `i` sada je `3+3` odnosno `6` te se ta vrijednost ispisuje. U četvrtoj iteraciji pomoćna varijabla `element` poprima vrijednost četvrtog elementa liste odnosno `4` te tu vrijednost zbraja na trenutnu vrijednost brojača. Vrijednost brojača `i` sada je `6+4` odnosno `10` te se ta vrijednost ispisuje. U petoj iteraciji pomoćna varijabla `element` poprima vrijednost petog elementa liste odnosno `5` te tu vrijednost zbraja na trenutnu vrijednost brojača. Vrijednost brojača `i` sada je `10+5` odnosno `15` te se ta vrijednost ispisuje."
   ]
  },
  {
   "cell_type": "markdown",
   "metadata": {},
   "source": [
    "## 1.X. Vježbe # NL: rješenja bih stavio u odvojenu bilježnicu. I promisliti o boljim zadacima.\n",
    "\n",
    "Ovu vježbu rješavajte u interaktivnom prozoru.\n",
    "1. Izračunajte vrijednost izraza “tri puta pet podijeljeno s dva” te rezultat - realni tip podataka - pohranite u varijablu (objekt realnog tipa).\n",
    "2. Ispišite poruku na ekran “Rezultat prethodnog izraza jest 7.5, a cijeli dio tog izraza je 7”. Brojčane vrijednosti ispisujte iz objekta iz prvog zadatka. Za ispis druge vrijednosti trebate promijeniti tip podataka.\n",
    "3. Provjerite je li izraz “dva plus sedam pa podijeljeno s osam” veće od “jedan minus osam pa puta minus sedam”.\n",
    "4. U jednu varijablu pohranite svoju godinu rođenja, u drugu varijablu trenutnu godinu te ispišite poruku “Prošle ste godine navršili godina: x”. Na mjestu znaka x trebate izračunati svoj broj godina. Na kraju promijenite vrijednost varijable rođenja te ponovite ispis.\n",
    "5. Pohranite u dvije varijable tipa string svoje ime i prezime. U novu varijablu pohranite svoje inicijale, tj. prvo slovo imena i prezimena. Učinite to na temelju vrijednosti pohranjenih u varijablama imena i prezimena.\n",
    "6. Ako je funkcija len() funkcija za računanje duljine sekvence, izračunajte zbroj duljine imena i prezimena te vrijednost ispišite u obliku poruke.\n",
    "7. Provjerite je li duljina imena veća od duljine prezimena.\n",
    "8. Provjerite je li duljina imena paran broj (broj je paran ako je ostatak cjelobrojnog dijeljenja s dva jednak nula, neparan ako je suprotno).\n",
    "9. Započnite rješavanje zadaće.\n",
    "\n",
    "Domaća zadaća: ponoviti sadržaj ove vježbe, rješenje vježbe postaviti na Omegu (sadržaj interaktivnog prozora pohraniti u tekstnu datoteku), te pročitati dokument te isprobati sve primjere u \"Programiranje u Pythonu za netehničare\" zaključno s poglavljem 1.5."
   ]
  }
 ],
 "metadata": {
  "anaconda-cloud": {},
  "kernelspec": {
   "display_name": "Python [default]",
   "language": "python",
   "name": "python2"
  },
  "language_info": {
   "codemirror_mode": {
    "name": "ipython",
    "version": 2
   },
   "file_extension": ".py",
   "mimetype": "text/x-python",
   "name": "python",
   "nbconvert_exporter": "python",
   "pygments_lexer": "ipython2",
   "version": "2.7.12"
  }
 },
 "nbformat": 4,
 "nbformat_minor": 0
}
