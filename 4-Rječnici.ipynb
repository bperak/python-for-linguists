{
 "cells": [
  {
   "cell_type": "markdown",
   "metadata": {},
   "source": [
    "# 4. Rječnici"
   ]
  },
  {
   "cell_type": "markdown",
   "metadata": {},
   "source": [
    "Rječnici ([Associative array](https://en.wikipedia.org/wiki/Associative_array)), u drugim programskim jezicima ponekad zvani *hash* tablice ([Hash table](https://en.wikipedia.org/wiki/Hash_table)), drugi su složeni tip podataka koji upoznajemo. Za razliku od listi koje predstavljaju sekvencu vrijednosti, rječnici predstavljaju skup uređenih parova (ključ, vrijednost). Korisnost rječnika sastoji se u tome da se vrijednosti pohranjene pod nekim ključem dohvaćaju u konstantnom vremenu, tj. da veličina rječnika ne utječne na vrijeme dohvaćanja vrijednosti. S druge strane, da koristimo listu za vrijednosti koje moramo dohvaćati, vrijeme potrebno za dohvaćanje bilo bi vremenski linearne kompleksnosti, odnosno za dvostruko veću listu trebali bi u pravilu i dvostruko više vremena.\n",
    "\n",
    "Ograničenje koje rječnici imaju jest da ključevi mogu biti samo nepromjenjivi tipovi podataka, dok vrijednosti mogu biti bilo koji tip podataka. Ključ je jedinstven, tako da se u rječniku ne može ponavljati."
   ]
  },
  {
   "cell_type": "markdown",
   "metadata": {},
   "source": [
    "Rječnik inicijaliziramo na sljedeći način:"
   ]
  },
  {
   "cell_type": "code",
   "execution_count": 24,
   "metadata": {
    "collapsed": true
   },
   "outputs": [],
   "source": [
    "rjecnik={}"
   ]
  },
  {
   "cell_type": "markdown",
   "metadata": {},
   "source": [
    "Varijabla `rjecnik` je prazan rječnik, odnosno ne sadrži ni jedan uređeni par (ključ : vrijednost)."
   ]
  },
  {
   "cell_type": "markdown",
   "metadata": {},
   "source": [
    "U sljedećem primjeru stvorili smo rječnik s dva uređena para:"
   ]
  },
  {
   "cell_type": "code",
   "execution_count": 25,
   "metadata": {
    "collapsed": true
   },
   "outputs": [],
   "source": [
    "rjecnik={'a':5, 'b':3.8}"
   ]
  },
  {
   "cell_type": "markdown",
   "metadata": {},
   "source": [
    "Varijabla `rjecnik` sadrži u dva uređena para. Prvi uređeni par je `'a':5`, gdje je ključ `'a'`, a vrijednost `5`. Drugi uređeni par je `'b':3.8`, gdje je ključ `'b'`, a vrijednost `3.8`."
   ]
  },
  {
   "cell_type": "markdown",
   "metadata": {},
   "source": [
    "Nad rječnicima može se koristiti funkcija `len()` koja računa broj uređenih parova u rječniku:"
   ]
  },
  {
   "cell_type": "code",
   "execution_count": 26,
   "metadata": {
    "collapsed": false
   },
   "outputs": [
    {
     "data": {
      "text/plain": [
       "2"
      ]
     },
     "execution_count": 26,
     "metadata": {},
     "output_type": "execute_result"
    }
   ],
   "source": [
    "rjecnik={'a':5, 'b':3.8}\n",
    "len(rjecnik)"
   ]
  },
  {
   "cell_type": "markdown",
   "metadata": {},
   "source": [
    "Rječnici su promjenjivi tipovi podataka tako da se njihov sadržaj naknadno može i mijenjati. Ako želimo promijeniti vrijednost postojećeg ključa, to možemo napraviti na sljedeći način:"
   ]
  },
  {
   "cell_type": "code",
   "execution_count": 27,
   "metadata": {
    "collapsed": false
   },
   "outputs": [
    {
     "name": "stdout",
     "output_type": "stream",
     "text": [
      "{'a': 5, 'b': 9}\n"
     ]
    }
   ],
   "source": [
    "rjecnik={'a':5, 'b':3.8}\n",
    "rjecnik['b']=9\n",
    "print rjecnik"
   ]
  },
  {
   "cell_type": "markdown",
   "metadata": {},
   "source": [
    "Sintaksa rada s rječnicima slična je one s listama, jedino što se umjesto indeksa u listi u uglatoj zagradi definira ključ. Iz primjera je također vidljivo da u rječniku ne možemo imati dva ista ključa. Pridruživanjem druge vrijednosti pod postojeći ključ brišemo prethodnu vrijednost pod tim ključem."
   ]
  },
  {
   "cell_type": "markdown",
   "metadata": {},
   "source": [
    "Vrijednosti iz rječnika možemo dohvatiti na dva načina. Prvi je definiranjem ključa u uglatoj zagradi:"
   ]
  },
  {
   "cell_type": "code",
   "execution_count": 28,
   "metadata": {
    "collapsed": false
   },
   "outputs": [
    {
     "name": "stdout",
     "output_type": "stream",
     "text": [
      "5\n"
     ]
    }
   ],
   "source": [
    "print rjecnik['a']"
   ]
  },
  {
   "cell_type": "markdown",
   "metadata": {},
   "source": [
    "Ako na ovaj način dohvaćamo vrijednost ključa koji ne postoji u rječniku, javit će se pogreška `KeyError`, koja nas i upućuje da je pogreška u nazivu ključa:"
   ]
  },
  {
   "cell_type": "code",
   "execution_count": 29,
   "metadata": {
    "collapsed": false
   },
   "outputs": [
    {
     "ename": "KeyError",
     "evalue": "'c'",
     "output_type": "error",
     "traceback": [
      "\u001b[0;31m---------------------------------------------------------------------------\u001b[0m",
      "\u001b[0;31mKeyError\u001b[0m                                  Traceback (most recent call last)",
      "\u001b[0;32m<ipython-input-29-b8fd267317a0>\u001b[0m in \u001b[0;36m<module>\u001b[0;34m()\u001b[0m\n\u001b[1;32m      1\u001b[0m \u001b[0mrjecnik\u001b[0m\u001b[0;34m=\u001b[0m\u001b[0;34m{\u001b[0m\u001b[0;34m'a'\u001b[0m\u001b[0;34m:\u001b[0m\u001b[0;36m5\u001b[0m\u001b[0;34m,\u001b[0m \u001b[0;34m'b'\u001b[0m\u001b[0;34m:\u001b[0m\u001b[0;36m3.8\u001b[0m\u001b[0;34m}\u001b[0m\u001b[0;34m\u001b[0m\u001b[0m\n\u001b[0;32m----> 2\u001b[0;31m \u001b[0;32mprint\u001b[0m \u001b[0mrjecnik\u001b[0m\u001b[0;34m[\u001b[0m\u001b[0;34m'c'\u001b[0m\u001b[0;34m]\u001b[0m\u001b[0;34m\u001b[0m\u001b[0m\n\u001b[0m",
      "\u001b[0;31mKeyError\u001b[0m: 'c'"
     ]
    }
   ],
   "source": [
    "rjecnik={'a':5, 'b':3.8}\n",
    "print rjecnik['c']"
   ]
  },
  {
   "cell_type": "markdown",
   "metadata": {},
   "source": [
    "Drugi način dohvaćanja vrijednosti iz ključa je metodom `get()`:"
   ]
  },
  {
   "cell_type": "code",
   "execution_count": 30,
   "metadata": {
    "collapsed": false
   },
   "outputs": [
    {
     "name": "stdout",
     "output_type": "stream",
     "text": [
      "5\n"
     ]
    }
   ],
   "source": [
    "rjecnik={'a':5, 'b':3.8}\n",
    "print rjecnik.get('a')"
   ]
  },
  {
   "cell_type": "markdown",
   "metadata": {},
   "source": [
    "Ako pak na ovaj način dohvaćamo vrijednost ključa koji ne postoji u rječniku, dobit ćemo vrijednost `None`:"
   ]
  },
  {
   "cell_type": "code",
   "execution_count": 31,
   "metadata": {
    "collapsed": false
   },
   "outputs": [
    {
     "name": "stdout",
     "output_type": "stream",
     "text": [
      "None\n"
     ]
    }
   ],
   "source": [
    "rjecnik={'a':5, 'b':3.8}\n",
    "print rjecnik.get('c')"
   ]
  },
  {
   "cell_type": "markdown",
   "metadata": {},
   "source": [
    "Budući da nećemo uvijek znati postoji li neki ključ u rječniku, najsigurnije dohvaćanje vrijednosti je pomoću metode `get()`."
   ]
  },
  {
   "cell_type": "markdown",
   "metadata": {},
   "source": [
    "Sintaksa ove metode je `rjecnik.get(key[,default])`. Metoda prima jedan obavezni argument i jedan opcionalni. Prvi argument `key` je obavezan argument koji sadrži ključ. Drugi argument `default` je opcionalni argument koji predstavlja vrijednost koja se vraća u slučaju ako ključ ne postoji u rječniku. Pretpostavljena vrijednost drugog argumenta je `None`.\n",
    "\n",
    "U sljedećem primjeru možemo pretpostaviti da će vrijednost drugog argumenta metode `get()` biti `0`, ako ključ ne postoji u rječniku:"
   ]
  },
  {
   "cell_type": "code",
   "execution_count": 32,
   "metadata": {
    "collapsed": false
   },
   "outputs": [
    {
     "name": "stdout",
     "output_type": "stream",
     "text": [
      "0\n"
     ]
    }
   ],
   "source": [
    "rjecnik={'a':5, 'b':3.8}\n",
    "print rjecnik.get('c',0)"
   ]
  },
  {
   "cell_type": "markdown",
   "metadata": {},
   "source": [
    "Pri statističkoj analizi i modeliranju teksta, rječnike ćemo koristiti za prebrojavanje raznih događaja u tekstu. Zato nam je vrlo važan postupak koji za neki ključ vrijednost povećavamo za `1`. Za to ćemo koristiti sljedeću naredbu:"
   ]
  },
  {
   "cell_type": "code",
   "execution_count": 33,
   "metadata": {
    "collapsed": false
   },
   "outputs": [
    {
     "name": "stdout",
     "output_type": "stream",
     "text": [
      "1\n"
     ]
    }
   ],
   "source": [
    "rjecnik={'a':5, 'b':3.8}\n",
    "rjecnik['c']=rjecnik.get('c',0)+1\n",
    "print rjecnik.get('c')"
   ]
  },
  {
   "cell_type": "markdown",
   "metadata": {},
   "source": [
    "U rječniku pod određenim ključem pohranjujemo dosadašnju vrijednost pod tim ključem, ili `0` uvećanu za `1`. U našem slučaju, po izvršavanju ove naredbe pod ključem će biti pohranjena vrijednost `1`. Kada bi ponovno pokrenuli naredbu, pod ključem bi pohranjena bila vrijednost `2`. Što ćemo redovito raditi jest prolaženje kroz sekvencu događaja u tekstu (znakova, nizova znakova – tzv. n-grafa, riječi, nizova riječi – tzv. n-grama) te u rječniku bilježiti koliko smo puta susreli određeni događaj."
   ]
  },
  {
   "cell_type": "markdown",
   "metadata": {},
   "source": [
    "Pogledajmo primjer u kojem prebrojavamo koliko smo puta vidjeli određeni znak u nizu znakova:"
   ]
  },
  {
   "cell_type": "code",
   "execution_count": 34,
   "metadata": {
    "collapsed": false
   },
   "outputs": [
    {
     "name": "stdout",
     "output_type": "stream",
     "text": [
      "{'a': 2, 'g': 2, 'i': 3, 'j': 1, 'l': 2, 'o': 5, 'n': 2, 'r': 2, 't': 1}\n"
     ]
    }
   ],
   "source": [
    "rjecnik={}\n",
    "niz='otorinolaringologija'\n",
    "for znak in niz:\n",
    "    rjecnik[znak]=rjecnik.get(znak,0)+1\n",
    "print rjecnik"
   ]
  },
  {
   "cell_type": "markdown",
   "metadata": {},
   "source": [
    "Pogledajmo kako možemo iterirati kroz rječnik. Do sada smo iterirali kroz niz znakova (znamo da time prolazimo kroz svaki znak tog niza), listu (prolazimo kroz svaki element liste) te datoteku (prolazimo kroz svaki red datoteke). Kada iteriramo kroz rječnik, prolazimo kroz sve ključeve tog rječnika. Ponavljamo: rječnik predstavlja SKUP uređenih parova, odnosno ne možemo očekivati nikakav eksplicitan poredak tih ključeva.\n",
    "\n",
    "U sljedećem primjeru iteriramo kroz rječnik:"
   ]
  },
  {
   "cell_type": "code",
   "execution_count": 35,
   "metadata": {
    "collapsed": false
   },
   "outputs": [
    {
     "name": "stdout",
     "output_type": "stream",
     "text": [
      "ključ a ima vrijednost 5\n",
      "ključ c ima vrijednost 1\n",
      "ključ b ima vrijednost 3.8\n"
     ]
    }
   ],
   "source": [
    "rjecnik={'a':5, 'b':3.8, 'c':1}\n",
    "for kljuc in rjecnik:\n",
    "    print 'ključ '+kljuc+' ima vrijednost '+str(rjecnik[kljuc])"
   ]
  },
  {
   "cell_type": "markdown",
   "metadata": {},
   "source": [
    "Iz ovog primjera je vidljivo da poredak uređenih parova nije definiran, jer se radi o skupu."
   ]
  },
  {
   "cell_type": "markdown",
   "metadata": {},
   "source": [
    "Prisjetimo se i operatora `in` koji je na nizu znakova provjeravao je li podniz znakova sadržan u nizu znakova, odnosno na listi je li neka vrijednost element te liste. Nad rječnicima operator `in` provjerava je li neka vrijednost ključa u tom rječniku:"
   ]
  },
  {
   "cell_type": "code",
   "execution_count": 38,
   "metadata": {
    "collapsed": false
   },
   "outputs": [
    {
     "data": {
      "text/plain": [
       "True"
      ]
     },
     "execution_count": 38,
     "metadata": {},
     "output_type": "execute_result"
    }
   ],
   "source": [
    "rjecnik={'a':5, 'b':3.8, 'c':1}\n",
    "'a' in rjecnik"
   ]
  },
  {
   "cell_type": "code",
   "execution_count": 39,
   "metadata": {
    "collapsed": false
   },
   "outputs": [
    {
     "data": {
      "text/plain": [
       "False"
      ]
     },
     "execution_count": 39,
     "metadata": {},
     "output_type": "execute_result"
    }
   ],
   "source": [
    "rjecnik={'a':5, 'b':3.8, 'c':1}\n",
    "'d' in rjecnik"
   ]
  },
  {
   "cell_type": "markdown",
   "metadata": {},
   "source": [
    "Upoznajmo još tri metode nad rječnicima - `keys()` za dohvaćanje svih ključeva rječnika, `values()` za dohvaćanje svih vrijednosti te `items()` za dohvaćanje svih parova (ključ, vrijednost):"
   ]
  },
  {
   "cell_type": "code",
   "execution_count": 40,
   "metadata": {
    "collapsed": false
   },
   "outputs": [
    {
     "name": "stdout",
     "output_type": "stream",
     "text": [
      "['a', 'c', 'b']\n",
      "[5, 1, 3.8]\n",
      "[('a', 5), ('c', 1), ('b', 3.8)]\n"
     ]
    }
   ],
   "source": [
    "rjecnik={'a':5, 'b':3.8, 'c':1}\n",
    "print rjecnik.keys()\n",
    "print rjecnik.values()\n",
    "print rjecnik.items()"
   ]
  },
  {
   "cell_type": "markdown",
   "metadata": {},
   "source": [
    "Iz primjera je vidljivo da metode `keys()` i `values()` vraćaju listu čiji elementi liste su ključevi ili vrijednosti. Metoda `items()` vraća listu parova ne u uglatim, već u oblim zagradama. Ta metoda, naime, vraća listu n-torki. N-torke su tip podataka koji tek sada po prvi put susrećemo. N-torke su nepromjenjivi pandan promjenjivim listama te ćemo ih koristiti nešto kasnije, kada ćemo u rječnike pod ključevima htjeti bilježiti sekvencu riječi. Prisjetimo se, rječnici kao ključeve primaju samo nepromjenjive tipove podataka."
   ]
  },
  {
   "cell_type": "markdown",
   "metadata": {},
   "source": [
    "Za kraj, pogledajmo kako možemo sortirati rječnik, i to prema vrijednostima silazno. Kako ćemo rječnik koristiti za prebrojavanje događaja, sortiranje rječnika prema vrijednosti bit će nam potrebno za uvid u najčešće događaje."
   ]
  },
  {
   "cell_type": "code",
   "execution_count": 41,
   "metadata": {
    "collapsed": false
   },
   "outputs": [
    {
     "data": {
      "text/plain": [
       "[('d', 10), ('a', 5), ('b', 3.8), ('e', 2), ('c', 1)]"
      ]
     },
     "execution_count": 41,
     "metadata": {},
     "output_type": "execute_result"
    }
   ],
   "source": [
    "rjecnik={'a':5, 'b':3.8, 'c':1, 'd':10, 'e':2}\n",
    "sorted(rjecnik.items(),key=lambda x:-x[1])"
   ]
  },
  {
   "cell_type": "markdown",
   "metadata": {},
   "source": [
    "Ovdje koristimo funkciju `sorted()` nad rezultatom metode `items()` koja vraća listu parova (ključ, vrijednost) iz rječnika. Sam rječnik, naravno, kako se kod njega radi o skupu uređenih parova, nije moguće sortirati. Najzbunjujućiji dio ove naredbe vjerojatno je argument `key` kojime se definira ključ sortiranja. Za početak, ovdje vidite primjer kako u *Pythonu* možete definirati neki od opcionalnih argumenata na ranijem mjestu nego što to nalaže sintaksa funkcije ili metode: navođenjem imena argumenta. Nadalje, vrijednost argumenta `key` je zapravo funkcija u skraćenoj, tzv. lambda notaciji koja kaže da svaki element sortiranja `x` treba doživjeti kao njegov drugi element s promijenjenim predznakom. Pogađate da time kriterij sortiranja postaje vrijednost rječnika, tj. frekvencija kojoj je promijenjen predznak. Time rječnik, tj. listu nastalu iz rječnika sortiramo prema vrijednosti unazadno."
   ]
  },
  {
   "cell_type": "markdown",
   "metadata": {},
   "source": [
    "Zadatke možete naći ovdje: [Zadaci](6-Zadaci.ipynb)"
   ]
  }
 ],
 "metadata": {
  "anaconda-cloud": {},
  "kernelspec": {
   "display_name": "Python [default]",
   "language": "python",
   "name": "python2"
  },
  "language_info": {
   "codemirror_mode": {
    "name": "ipython",
    "version": 2
   },
   "file_extension": ".py",
   "mimetype": "text/x-python",
   "name": "python",
   "nbconvert_exporter": "python",
   "pygments_lexer": "ipython2",
   "version": "2.7.12"
  }
 },
 "nbformat": 4,
 "nbformat_minor": 0
}
