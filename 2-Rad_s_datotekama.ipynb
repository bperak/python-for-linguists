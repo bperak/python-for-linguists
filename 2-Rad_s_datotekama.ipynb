{
 "cells": [
  {
   "cell_type": "markdown",
   "metadata": {
    "collapsed": true
   },
   "source": [
    "# 2. Rad s datotekama\n",
    "\n",
    "U ovom poglavlju opisan je rad s tekstovnim datotekama. Tekstovne datoteke ([Text file](https://en.wikipedia.org/wiki/Text_file)) su one datoteke koje sadrže strojno čitljive znakove. Znak može biti bilo koje slovo abecede (npr. A, č, é), znamenka (npr. 1, 4, 0) i drugi ne-alfanumerički znakovi (npr. !, #, €). Znakovi također mogu biti i drugi neobični simboli (npr. slova ne-latinične abecede, kineski znakovi, razni tehnički simboli, simboli fonetskih zapisa). Osim tekstovnih datoteka, postoje tzv. binarne datoteke ([Binary file](https://en.wikipedia.org/wiki/Binary_file)) koje ne sadrže strojno čitljive znakove. Takve datoteke su npr. slikovni, zvučni ili video zapisi. Ovo poglavlje bavi se samo radom nad tekstovnim datotekama."
   ]
  },
  {
   "cell_type": "markdown",
   "metadata": {},
   "source": [
    "## 2.1. Otvaranje i čitanje datoteke\n",
    "\n",
    "Prije čitanja iz datoteke ili pisanja u datoteku, potrebno je datoteku otvoriti funkcijom `open()`, koja služi kao pristup datoteci. Kada se datoteka otvori, određuje se što će se dalje s tom datotekom raditi, odnosno na koji način će joj se pristupiti. Sintaksa ove funkcije je `open(file_name [, access_mode][, buffering])`. Prvi argument `file_name` obavezan je argument koji sadrži naziv datoteke koju otvaramo odnosno kojom pristupamo. Drugi argument `access_mode` opcionalni je element koji sadrži način pristupa datoteci, odnosno što ćemo s tom datotekom raditi. Postoji više vrijednosti koje drugi argument može poprimiti, ali za potrebe ovog priručnika, opisat ćemo samo dvije: `r` i `w`. Sve vrijednosti drugog argumenta nalaze se u navodnicima. Vrijednost `r` znači da otvorenu datoteku želimo pročitati (od engleske riječi *read*) te je pretpostavljena vrijednost u slučaju kada nije ništa navedeno. Vrijednost `w` znači da u otvorenu datoteku želimo pisati (od engleske riječi *write*). Ako datoteka s nazivom `file_name`već postoji, ovim argumentom ćemo obrisati postojeće podatke i zapisati nove. U slučaju ako datoteka s nazivom `file_name` ne postoji, stvorit će se nova datoteka s tim nazivom. Treći argument `buffering` je također opcionalni element koji sadrži podatak o privremenoj pohrani podataka. Taj argument nećemo upotrebljavati, tako da će pretpostavljena vrijednost biti definirana od strane sustava."
   ]
  },
  {
   "cell_type": "markdown",
   "metadata": {},
   "source": [
    "U sljedećem primjeru postojeću datoteku `tekst.txt` želimo otvoriti, pročitati koristeći metodu `read()` nad otvorenom datotekom, sadržaj pridružiti varijabli `f` te ga ispisati. Metoda `read()` čita postojeću datoteku od početka do kraja te je vraća kao niz znakova."
   ]
  },
  {
   "cell_type": "code",
   "execution_count": 124,
   "metadata": {
    "collapsed": false
   },
   "outputs": [
    {
     "name": "stdout",
     "output_type": "stream",
     "text": [
      "Prvi red.\n",
      "Drugi red.\n",
      "Treći red.\n"
     ]
    }
   ],
   "source": [
    "f=open('tekst.txt','r').read()\n",
    "print f"
   ]
  },
  {
   "cell_type": "markdown",
   "metadata": {},
   "source": [
    "Budući da je vrijednost `r` drugog argumenta opcionalna i pretpostavljena vrijednost, vrijednost možemo izostaviti i dobiti jednaku izlaznu vrijednost:"
   ]
  },
  {
   "cell_type": "code",
   "execution_count": 125,
   "metadata": {
    "collapsed": false
   },
   "outputs": [
    {
     "name": "stdout",
     "output_type": "stream",
     "text": [
      "Prvi red.\n",
      "Drugi red.\n",
      "Treći red.\n"
     ]
    }
   ],
   "source": [
    "f=open('tekst.txt').read()\n",
    "print f"
   ]
  },
  {
   "cell_type": "markdown",
   "metadata": {},
   "source": [
    "## 2.2. Pisanje datoteke\n",
    "\n",
    "Kada želimo nešto zapisati u datoteku, potrebno je datoteku otvoriti funkcijom `open()`. Prvi argument sadrži naziv datoteke u koju ćemo zapisati željeni sadržaj. Drugi argument sadrži vrijednost `w`. Ako već postoji datoteka s nazivom iz prvog argumenta, postojeći podaci će biti obrisani, a novi će biti zapisani. U slučaju ako datoteka s nazivom iz prvog argumenta ne postoji, stvorit će se nova datoteka s tim nazivom. To ćemo pridružiti varijabli npr. `f`.\n",
    "\n",
    "Zatim ćemo nad varijablom `f` pokretati metodu `write()`. Metoda `write()` prima kao argument niz znakova koji želimo zapisati u datoteku. Možemo pokrenuti više metoda `write()` uzastopno.\n",
    "\n",
    "Konačno, nakon što završimo zapisivanje u datoteku, obavezno trebamo datoteku i zatvoriti metodom `close()`. Time dajemo uputu da više nećemo pristupati datoteci i u nju zapisivati. Nakon metode `close()` nije više moguće pisanje u datoteku.\n",
    "\n",
    "Na sljedeći način ćemo pohraniti niz znakova u novu datoteku `datoteka.txt`:"
   ]
  },
  {
   "cell_type": "code",
   "execution_count": 126,
   "metadata": {
    "collapsed": false
   },
   "outputs": [],
   "source": [
    "f=open('datoteka.txt','w')\n",
    "f.write('Ovo je prvi red.')\n",
    "f.write('Je li ovo drugi red?\\nOvo je 2. red.')\n",
    "f.write('\\nOvo je 3. red.')\n",
    "f.close()"
   ]
  },
  {
   "cell_type": "markdown",
   "metadata": {},
   "source": [
    "Pročitat ćemo datoteku `datoteka.txt` kako bismo provjerili jesmo li uspješno zapisali niz znakova."
   ]
  },
  {
   "cell_type": "code",
   "execution_count": 127,
   "metadata": {
    "collapsed": false
   },
   "outputs": [
    {
     "name": "stdout",
     "output_type": "stream",
     "text": [
      "Ovo je prvi red.Je li ovo drugi red?\n",
      "Ovo je 2. red.\n",
      "Ovo je 3. red.\n"
     ]
    }
   ],
   "source": [
    "f=open('datoteka.txt').read()\n",
    "print f"
   ]
  },
  {
   "cell_type": "markdown",
   "metadata": {},
   "source": [
    "Iz primjera je vidljivo da metoda `write()`ne dodaje novi red na kraju niza, stoga ga je potrebno izričito zapisati posebnim znakom `\\n`."
   ]
  },
  {
   "cell_type": "markdown",
   "metadata": {},
   "source": [
    "Osim čitanjem novostvorene datoteke, provjeriti jesmo li uspješno izvršili pisanje u datoteku možemo tako da pogledamo nalazi li se datoteka na našem računalu, a otvaranjem u nekom editoru teksta provjeriti njen sadržaj. Lokacija novostvorene datoteke na računalu je isti direktorij iz kojeg pokrećemo *Python* program.\n",
    "\n",
    "Datoteka će se najvjerojatnije nalaziti u sljedećim direktorijima:\n",
    "* u Windows operacijskom sustavu: `C:\\Python27\\`\n",
    "* u Mac operacijskom sustavu: `Users\\Korisnik\\`."
   ]
  },
  {
   "cell_type": "code",
   "execution_count": 128,
   "metadata": {
    "collapsed": false
   },
   "outputs": [
    {
     "name": "stdout",
     "output_type": "stream",
     "text": [
      "Ovo je prvi red.Je li ovo drugi red?\n",
      "Ovo je 2. red.\n",
      "Ovo je 3. red.\n"
     ]
    }
   ],
   "source": [
    "f=open('datoteka.txt').read()\n",
    "print f"
   ]
  },
  {
   "cell_type": "markdown",
   "metadata": {},
   "source": [
    "## 2.3. Iteriranje kroz datoteku\n",
    "\n",
    "Do sada je obrađena iteracija kroz niz znakova i listu. Niz znakova možemo opisati kao sekvencu znakova, pa se iteracija kroz niz znakova vrši znak po znak. Listu možemo opisati kao sekvencu elemenata liste, pa se iteracija kroz listu vrši od prvog elementa liste do posljednjeg. Tekstovnu datoteku također možemo opisati kao sekvencu redova. Iteracija kroz tekstovnu datoteku vrši se red po red."
   ]
  },
  {
   "cell_type": "code",
   "execution_count": 129,
   "metadata": {
    "collapsed": false
   },
   "outputs": [
    {
     "name": "stdout",
     "output_type": "stream",
     "text": [
      "Red datoteke: Prvi red.\n",
      "\n",
      "Red datoteke: Drugi red.\n",
      "\n",
      "Red datoteke: Treći red.\n"
     ]
    }
   ],
   "source": [
    "for red in open('tekst.txt'):\n",
    "    print 'Red datoteke: ' + red"
   ]
  },
  {
   "cell_type": "markdown",
   "metadata": {},
   "source": [
    "U `for` petlji pomoćna varijabla `red` poprima sadržaj reda datoteke, a kao tip podatka je niz znakova. Možemo provjeriti pomoću funkcije `type()`:"
   ]
  },
  {
   "cell_type": "code",
   "execution_count": 130,
   "metadata": {
    "collapsed": false
   },
   "outputs": [
    {
     "name": "stdout",
     "output_type": "stream",
     "text": [
      "Red datoteke je sljedeći tip podatka: <type 'str'>\n",
      "Red datoteke je sljedeći tip podatka: <type 'str'>\n",
      "Red datoteke je sljedeći tip podatka: <type 'str'>\n"
     ]
    }
   ],
   "source": [
    "for red in open('tekst.txt'):\n",
    "    print 'Red datoteke je sljedeći tip podatka: ' + str(type(red))"
   ]
  },
  {
   "cell_type": "markdown",
   "metadata": {},
   "source": [
    "Iz primjera je vidljivo da su sva tri reda datoteke nizovi znakova. \n",
    "\n",
    "Broj redova datoteke možemo izračunati pomoću brojača, koji prvo moramo svesti na vrijednost `0`:"
   ]
  },
  {
   "cell_type": "code",
   "execution_count": 131,
   "metadata": {
    "collapsed": false
   },
   "outputs": [
    {
     "name": "stdout",
     "output_type": "stream",
     "text": [
      "3\n"
     ]
    }
   ],
   "source": [
    "broj_redova=0\n",
    "for red in open('tekst.txt'):\n",
    "    broj_redova+=1\n",
    "print broj_redova"
   ]
  },
  {
   "cell_type": "markdown",
   "metadata": {},
   "source": [
    "U sljedećem primjeru želimo ispisati samo onaj red koji počinje s velikim slovom `D`. Prvo ćemo iterirati kroz datoteku red po red. Zatim ćemo postaviti logičku uvjet `if` naredbom koji provjerava je li prvi znak trenutnog reda `'D'`."
   ]
  },
  {
   "cell_type": "code",
   "execution_count": 132,
   "metadata": {
    "collapsed": false
   },
   "outputs": [
    {
     "name": "stdout",
     "output_type": "stream",
     "text": [
      "Drugi red.\n",
      "\n"
     ]
    }
   ],
   "source": [
    "for red in open('tekst.txt'):\n",
    "    if red[0]=='D':\n",
    "        print red"
   ]
  },
  {
   "cell_type": "markdown",
   "metadata": {},
   "source": [
    "U slučaju da stavimo u logički uvjet znak `'d'`, a ne `'D'`, nećemo dobiti nikakav ispis jer uvjet nije ispunjen."
   ]
  },
  {
   "cell_type": "code",
   "execution_count": 133,
   "metadata": {
    "collapsed": true
   },
   "outputs": [],
   "source": [
    "for red in open('tekst.txt'):\n",
    "    if red[0]=='d':\n",
    "        print red"
   ]
  },
  {
   "cell_type": "markdown",
   "metadata": {},
   "source": [
    "Međutim, ako pomoćnu varijablu `red` pretvorimo u mala slova metodom `lower()`, uvjet će biti ispunjen:"
   ]
  },
  {
   "cell_type": "code",
   "execution_count": 134,
   "metadata": {
    "collapsed": false
   },
   "outputs": [
    {
     "name": "stdout",
     "output_type": "stream",
     "text": [
      "Drugi red.\n",
      "\n"
     ]
    }
   ],
   "source": [
    "for red in open('tekst.txt'):\n",
    "    if red.lower()[0]=='d':\n",
    "        print red"
   ]
  },
  {
   "cell_type": "markdown",
   "metadata": {},
   "source": [
    "Prvo smo iterirali kroz datoteku. U svakoj iteraciji pomoćna varijabla `red` poprimi sadržaj reda datoteke. U `if` naredbi postavljamo logički uvjet tako da prvo sva slova u pomoćnoj varijabli `red` pretvorimo u mala slova metodom `lower()` (`red.lower()`). Zatim indeksiramo prvi znak u redu (`[0]`) te uspoređujemo je li taj znak identičan znaku `'d'`."
   ]
  },
  {
   "cell_type": "markdown",
   "metadata": {},
   "source": [
    "Na sljedeći način možemo ispisati samo one redove u kojima je treći znak samoglasnik:"
   ]
  },
  {
   "cell_type": "code",
   "execution_count": 135,
   "metadata": {
    "collapsed": false
   },
   "outputs": [
    {
     "name": "stdout",
     "output_type": "stream",
     "text": [
      "Drugi red.\n",
      "\n",
      "Treći red.\n"
     ]
    }
   ],
   "source": [
    "for red in open('tekst.txt'):\n",
    "    if red.lower()[2] in 'aeiou':\n",
    "        print red"
   ]
  },
  {
   "cell_type": "markdown",
   "metadata": {},
   "source": [
    "Nad datotekom koju smo stvorili (`datoteka.txt`) možemo izračunati i ispisati dužinu svakog reda:"
   ]
  },
  {
   "cell_type": "code",
   "execution_count": 136,
   "metadata": {
    "collapsed": false
   },
   "outputs": [
    {
     "name": "stdout",
     "output_type": "stream",
     "text": [
      "Ovo je prvi red.Je li ovo drugi red?\n",
      "\n",
      "Dužina reda: 37\n",
      "Ovo je 2. red.\n",
      "\n",
      "Dužina reda: 15\n",
      "Ovo je 3. red.\n",
      "Dužina reda: 14\n"
     ]
    }
   ],
   "source": [
    "for red in open('datoteka.txt'):\n",
    "    print red\n",
    "    print 'Dužina reda: ' + str(len(red))"
   ]
  },
  {
   "cell_type": "markdown",
   "metadata": {},
   "source": [
    "Iteriramo kroz datoteku `datoteka.txt`. Zatim ispisujemo sadržaj pomoćne varijable `red`. Nakon toga ispisujemo dužinu reda pomoću funkcije `len()`, koju je potrebno pretvoriti iz cjelobrojne vrijednosti u niz znakova pomoću funkcije `str()`. Iz primjera je vidljivo da u je u prvom i drugom redu dužina reda povećana za 1, a u trećem nije. Potrebno je zapamtiti da posebni znakovi također ulaze u dužinu reda. U ovom slučaju u prvom i drugom redu uračunat je znak `\\n` koji se nalazi na kraju redova. Budući da treći odnosno posljednji red nema prelazak u novi red, nema ni znaka `\\n`."
   ]
  },
  {
   "cell_type": "markdown",
   "metadata": {},
   "source": [
    "Osim iteriranja red po red, kroz datoteku je moguće iterirati znak po znak, tako da se u iterira kroz datoteku nad kojom je izvršena metoda `read()`. "
   ]
  },
  {
   "cell_type": "code",
   "execution_count": 137,
   "metadata": {
    "collapsed": false
   },
   "outputs": [
    {
     "name": "stdout",
     "output_type": "stream",
     "text": [
      "O\n",
      "v\n",
      "o\n",
      " \n",
      "j\n",
      "e\n",
      " \n",
      "p\n",
      "r\n",
      "v\n",
      "i\n",
      " \n",
      "r\n",
      "e\n",
      "d\n",
      ".\n",
      "J\n",
      "e\n",
      " \n",
      "l\n",
      "i\n",
      " \n",
      "o\n",
      "v\n",
      "o\n",
      " \n",
      "d\n",
      "r\n",
      "u\n",
      "g\n",
      "i\n",
      " \n",
      "r\n",
      "e\n",
      "d\n",
      "?\n",
      "\n",
      "\n",
      "O\n",
      "v\n",
      "o\n",
      " \n",
      "j\n",
      "e\n",
      " \n",
      "2\n",
      ".\n",
      " \n",
      "r\n",
      "e\n",
      "d\n",
      ".\n",
      "\n",
      "\n",
      "O\n",
      "v\n",
      "o\n",
      " \n",
      "j\n",
      "e\n",
      " \n",
      "3\n",
      ".\n",
      " \n",
      "r\n",
      "e\n",
      "d\n",
      ".\n"
     ]
    }
   ],
   "source": [
    "for element in open('datoteka.txt').read():\n",
    "    print element"
   ]
  },
  {
   "cell_type": "markdown",
   "metadata": {},
   "source": [
    "U sljedećem primjeru možemo izbrojati koliko ima samoglasnika u datoteci `datoteka.txt`. Nakon metode `read()`, pokrenut ćemo metodu `lower()` kako bismo pretvorili sva slova u mala slova:"
   ]
  },
  {
   "cell_type": "code",
   "execution_count": 138,
   "metadata": {
    "collapsed": false
   },
   "outputs": [
    {
     "name": "stdout",
     "output_type": "stream",
     "text": [
      "20\n"
     ]
    }
   ],
   "source": [
    "broj_samoglasnika=0\n",
    "for element in open('datoteka.txt').read().lower():\n",
    "    if element in 'aeiou':\n",
    "        broj_samoglasnika+=1\n",
    "print broj_samoglasnika"
   ]
  },
  {
   "cell_type": "markdown",
   "metadata": {},
   "source": [
    "## 2.4. Kodiranje"
   ]
  },
  {
   "cell_type": "markdown",
   "metadata": {},
   "source": [
    "### 2.4.1. Unicode standard\n",
    "\n",
    "Unicode ([Unicode](http://www.unicode.org), [Unicode](https://en.wikipedia.org/wiki/Unicode)) osigurava jedinstveni broj za svaki znak, neovisno o platformi, programu i jeziku. Unicode je međunarodni standard izdan prvi put 1991. godine (Unicode 1.0) od strane Unicode konzorcija, koji je zadužen za održavanje standarda. Posljednja verzija Unicode 9.0 izdana je u lipnju 2016. godine. Sadrži više od 128.000 znakova iz 135 pisama. Samo za usporedbu, verzija Unicode 7.0 izdana u lipnju 2014. godine sadržavala je više od 113.000 znakova iz 123 pisama, verzija Unicode 5.0 izdana u srpnju 2006. godine sadržavala je 99.000 znakova iz 64 pisama, dok je prva verzija Unicode 1.0 izdana u listopadu 1991. sadržavala je nešto više od 7.000 znakova iz 24 pisama.\n",
    "\n",
    "Kodne stranice ([Code page](https://en.wikipedia.org/wiki/Code_page)) su tablice jedinstvenih brojeva kojim se zapisuje određeni skup znakova. Unicode je jedan kodna stranica čiji skup sadrži više od 128.000 znakova. Međutim, postoje i druge kodne stranice. Npr. u Windows okruženju postoji ISO-8859-2 kodna stranica koja definira kodiranje i hrvatskih slova ili ISO-8859-5 kodna stranica koja definira kodiranje srpskih ćiriličnih slova.\n",
    "\n",
    "Prije nastanka Unicodea, postojalo je više kodnih stranica, ali niti jednog standarda. To je izazivalo mnogo problema, jer jedinstveni broj za određeni znak u jednoj kodnoj stranici je u drugoj kodnoj stranici možda predstavljao neki drugi znak. Drugim riječima, dvije kodne stranice koriste isti broj za kodiranje dva različita znaka ili koriste različite brojeve za kodiranje istog znaka. To je i danas vidljivo kod slanja e-pošte kada su slova s dijakritičkim znakovima predstavljena nekim drugim slovima, znakovima ili njihovim kombinacijama. Kako ne bi dolazilo do pogreške u prijenosu podataka, uvođenje standarda za kodiranje znakova bilo je neophodno. Standard definira kojim brojem će biti kodiran koji znak, tako da kodiranje bude dosljedno.\n",
    "\n",
    "Unicode standard organiziran je tako da se kodne vrijednosti svakog znaka pišu u heksadecimalnom sustavu. Na određeni znak upućuje se tako da se ispred heksadecimalne vrijednosti znaka piše \"U+\". Na primjer, razmak (\" \") ima vrijednost U+0020 i nosi ime \"SPACE\", uskličnik (\"!\") ima vrijednost U+0021 i nosi ime \"EXCLAMATION MARK\", veliko slovo \"A\" ima vrijednost U+0041 i nosi ime \"LATIN CAPITAL LETTER A\", dok malo slovo \"a\" ima vrijednost U+0061 i nosi ime \"LATIN SMALL LETTER A\". Znakovi su organizirani u 17 ravnina ([Plane (Unicode)](https://en.wikipedia.org/wiki/Plane_(Unicode)) od 0 do 16 u decimalnom zapisu, odnosno od 0 do 10 u heksadecimalnom zapisu. Prva i osnovna višejezična ploča je BMP (*basic multilingual pane*), ima vrijednost 0 te sadrži znakove koji se najviše upotrebljavaju. Ostale ravnine od 1 do 16 su dopunske razine.\n",
    "\n",
    "Unicode se može implementirati na više načina. Najčešći način implementacije Unicodea je UTF-8. Kratica UTF stoji za *Unicode Transformation Format*, a brojka govori koliki bitova sadrži najkraći zapis znaka. UTF-8 koristi 8 bitova ili jedan bajt za najkraći zapis znaka. Jednim bajtom zapisano je prvih 128 znakova iz ASCII kodne stranice ([ASCII](https://en.wikipedia.org/wiki/ASCII)). Za prikaz slova s dijakritičkim znakovima potrebna su dva bajta. UTF-8 koristi četiri bajta za najduži zapis znaka. UTF-8 je najčešći način kodiranja znakova. U prosincu 2016. čak preko 88% mrežnih stranica koristi UTF-8 kodiranje ([Usage of character encodings for websites](https://w3techs.com/technologies/overview/character_encoding/all))."
   ]
  },
  {
   "cell_type": "markdown",
   "metadata": {},
   "source": [
    "### 2.4.2. Unicode tip podataka\n",
    "\n",
    "Osim niz znakova kao tip podataka, *Python* poznaje i Unicode tip podataka. Taj tip podataka treba koristiti kada se koriste \"ne-ASCII\" znakovi, kao što su slova s dijakritičkim znakovima ili ne-latinične abecede. Funkcije i metode koje se pokreću nad nizovima znakova moguće je pokretati i nad tipom podataka Unicode.\n",
    "\n",
    "Problem prikaza slova s dijakritičkim znakovima vidljiv je u sljedećem primjeru:"
   ]
  },
  {
   "cell_type": "code",
   "execution_count": 139,
   "metadata": {
    "collapsed": false
   },
   "outputs": [
    {
     "data": {
      "text/plain": [
       "'\\xc5\\xa1e\\xc4\\x87er'"
      ]
     },
     "execution_count": 139,
     "metadata": {},
     "output_type": "execute_result"
    }
   ],
   "source": [
    "'šećer'"
   ]
  },
  {
   "cell_type": "markdown",
   "metadata": {},
   "source": [
    "Ako izračunamo dužinu niza `šećer`, primijetit ćemo da je dužina `7`, a ne `5`."
   ]
  },
  {
   "cell_type": "code",
   "execution_count": 140,
   "metadata": {
    "collapsed": false
   },
   "outputs": [
    {
     "data": {
      "text/plain": [
       "7"
      ]
     },
     "execution_count": 140,
     "metadata": {},
     "output_type": "execute_result"
    }
   ],
   "source": [
    "len('šećer')"
   ]
  },
  {
   "cell_type": "markdown",
   "metadata": {},
   "source": [
    "Slovo \"š\" i slovo \"ć\" zapisani su pomoću dva znaka, umjesto da su zapisani jednim znakom. Zato je potrebno niz znakova pravilno dekodirati iz tipa podataka string u tip podataka Unicode."
   ]
  },
  {
   "cell_type": "markdown",
   "metadata": {},
   "source": [
    "#### 2.4.2.1. Metoda `decode()`\n",
    "\n",
    "Metoda `decode()` dekodira niz znakova koristeći navedenu kodnu stranicu. Kao argument metoda prima naziv kodne stranice (npr. `utf8` ili `iso-8859-2`). Ova metoda koristi se pri čitanju iz datoteke.\n",
    "\n",
    "Iz prethodnog primjera možemo pravilno dekodirati niz znakova `'šećer'`:"
   ]
  },
  {
   "cell_type": "code",
   "execution_count": 141,
   "metadata": {
    "collapsed": false
   },
   "outputs": [
    {
     "data": {
      "text/plain": [
       "u'\\u0161e\\u0107er'"
      ]
     },
     "execution_count": 141,
     "metadata": {},
     "output_type": "execute_result"
    }
   ],
   "source": [
    "'šećer'.decode('utf8')"
   ]
  },
  {
   "cell_type": "markdown",
   "metadata": {},
   "source": [
    "U primjeru vidimo da vrijednost zapisa slova \"š\" iznosi `\\u0161`, a vrijednost zapisa slova \"ć\" iznosi `\\u0107`. Kada izračunamo dužinu zadanog niza, vidjet ćemo da iznosi `5` (odnosno koliko i ima znakova u nizu), a ne `7`, kao što je iznosilo prije dekodiranja (odnosno kada su slova s dijakritičkim znakovima zapisana pomoću dva znaka, umjesto jednim znakom)."
   ]
  },
  {
   "cell_type": "code",
   "execution_count": 142,
   "metadata": {
    "collapsed": false
   },
   "outputs": [
    {
     "data": {
      "text/plain": [
       "5"
      ]
     },
     "execution_count": 142,
     "metadata": {},
     "output_type": "execute_result"
    }
   ],
   "source": [
    "len('šećer'.decode('utf8'))"
   ]
  },
  {
   "cell_type": "code",
   "execution_count": 143,
   "metadata": {
    "collapsed": false
   },
   "outputs": [
    {
     "data": {
      "text/plain": [
       "False"
      ]
     },
     "execution_count": 143,
     "metadata": {},
     "output_type": "execute_result"
    }
   ],
   "source": [
    "len('šećer')==len('šećer'.decode('utf8'))"
   ]
  },
  {
   "cell_type": "markdown",
   "metadata": {},
   "source": [
    "Isti problem možemo primijetiti kod datoteka. U sljedećem primjeru ispisujemo znak po znak iz datoteke `tekst.txt`:"
   ]
  },
  {
   "cell_type": "code",
   "execution_count": 144,
   "metadata": {
    "collapsed": false
   },
   "outputs": [
    {
     "name": "stdout",
     "output_type": "stream",
     "text": [
      "P\n",
      "r\n",
      "v\n",
      "i\n",
      " \n",
      "r\n",
      "e\n",
      "d\n",
      ".\n",
      "\n",
      "\n",
      "D\n",
      "r\n",
      "u\n",
      "g\n",
      "i\n",
      " \n",
      "r\n",
      "e\n",
      "d\n",
      ".\n",
      "\n",
      "\n",
      "T\n",
      "r\n",
      "e\n",
      "�\n",
      "�\n",
      "i\n",
      " \n",
      "r\n",
      "e\n",
      "d\n",
      ".\n"
     ]
    }
   ],
   "source": [
    "for znak in open('tekst.txt').read():\n",
    "    print znak"
   ]
  },
  {
   "cell_type": "markdown",
   "metadata": {},
   "source": [
    "Možemo primijetiti da je slovo \"ć\" prikazano pomoću dva neidentificirana znaka. Ako nakon čitanja datoteke odredimo koju kodnu stranicu treba koristiti za dekodiranje, slovo \"ć\" će biti ispravno prikazano."
   ]
  },
  {
   "cell_type": "code",
   "execution_count": 145,
   "metadata": {
    "collapsed": false
   },
   "outputs": [
    {
     "name": "stdout",
     "output_type": "stream",
     "text": [
      "P\n",
      "r\n",
      "v\n",
      "i\n",
      " \n",
      "r\n",
      "e\n",
      "d\n",
      ".\n",
      "\n",
      "\n",
      "D\n",
      "r\n",
      "u\n",
      "g\n",
      "i\n",
      " \n",
      "r\n",
      "e\n",
      "d\n",
      ".\n",
      "\n",
      "\n",
      "T\n",
      "r\n",
      "e\n",
      "ć\n",
      "i\n",
      " \n",
      "r\n",
      "e\n",
      "d\n",
      ".\n"
     ]
    }
   ],
   "source": [
    "for znak in open('tekst.txt').read().decode('utf8'):\n",
    "    print znak"
   ]
  },
  {
   "cell_type": "markdown",
   "metadata": {},
   "source": [
    "Problem možemo primijetiti i kod računanja duljine datoteke:"
   ]
  },
  {
   "cell_type": "code",
   "execution_count": 146,
   "metadata": {
    "collapsed": false
   },
   "outputs": [
    {
     "name": "stdout",
     "output_type": "stream",
     "text": [
      "32\n",
      "31\n",
      "False\n"
     ]
    }
   ],
   "source": [
    "print len(open('tekst.txt').read())\n",
    "print len(open('tekst.txt').read().decode('utf8'))\n",
    "print len(open('tekst.txt').read())==len(open('tekst.txt').read().decode('utf8'))"
   ]
  },
  {
   "cell_type": "markdown",
   "metadata": {},
   "source": [
    "#### 2.4.2.1. Metoda `encode()`\n",
    "\n",
    "Metoda `encode()` kodira niz znakova u navedenu kodnu stranicu. Kao argument metoda prima naziv kodne stranice (npr. `utf8` ili `iso-8859-2`). Ova metoda koristi se pri pisanju u datoteku.\n",
    "\n",
    "Za primjer stvorit ćemo novu datoteku `tekst_iso.txt` te kodirati u kodnu stranicu `ISO-8859-2` sa sadržajem iz datoteke `tekst.txt`."
   ]
  },
  {
   "cell_type": "code",
   "execution_count": 147,
   "metadata": {
    "collapsed": false
   },
   "outputs": [],
   "source": [
    "tekst=open('tekst.txt').read().decode('utf8')\n",
    "\n",
    "iso=open('tekst_iso.txt','w')\n",
    "iso.write(tekst.encode('iso-8859-2'))\n",
    "iso.close()"
   ]
  },
  {
   "cell_type": "markdown",
   "metadata": {},
   "source": [
    "Ako usporedimo dužine obiju datoteka bez dekodiranja, dobit ćemo da nisu jednake dužine iako sadrže isti tekst."
   ]
  },
  {
   "cell_type": "code",
   "execution_count": 148,
   "metadata": {
    "collapsed": false
   },
   "outputs": [
    {
     "data": {
      "text/plain": [
       "False"
      ]
     },
     "execution_count": 148,
     "metadata": {},
     "output_type": "execute_result"
    }
   ],
   "source": [
    "len(open('tekst.txt').read())==len(open('tekst_iso.txt').read())"
   ]
  },
  {
   "cell_type": "markdown",
   "metadata": {},
   "source": [
    "Međutim, ako usporedimo dužine datoteka s ispravnim kodiranjem, dobit ćemo da su jednake dužine:"
   ]
  },
  {
   "cell_type": "code",
   "execution_count": 149,
   "metadata": {
    "collapsed": false
   },
   "outputs": [
    {
     "data": {
      "text/plain": [
       "True"
      ]
     },
     "execution_count": 149,
     "metadata": {},
     "output_type": "execute_result"
    }
   ],
   "source": [
    "duzina_utf=len(open('tekst.txt').read().decode('utf8'))\n",
    "duzina_iso=len(open('tekst_iso.txt').read().decode('iso-8859-2'))\n",
    "duzina_utf==duzina_iso"
   ]
  },
  {
   "cell_type": "markdown",
   "metadata": {},
   "source": [
    "Treba pripaziti da se ispravno dekodira datoteka i kod iteriranja. U sljedećem primjeru izračunat ćemo dužinu redova u datoteci `tekst.txt` bez dekodiranja i s ispravnim dekodiranjem:"
   ]
  },
  {
   "cell_type": "code",
   "execution_count": 150,
   "metadata": {
    "collapsed": false
   },
   "outputs": [
    {
     "name": "stdout",
     "output_type": "stream",
     "text": [
      "Prvi red.\n",
      "\n",
      "Dužina reda: 10\n",
      "Drugi red.\n",
      "\n",
      "Dužina reda: 11\n",
      "Treći red.\n",
      "Dužina reda: 11\n"
     ]
    }
   ],
   "source": [
    "for red in open('tekst.txt'):\n",
    "    print red\n",
    "    print 'Dužina reda: ' + str(len(red))"
   ]
  },
  {
   "cell_type": "markdown",
   "metadata": {},
   "source": [
    "U ovom primjeru dužina posljednjeg reda je neispravno izračunata jer je slovo \"ć\" pročitano kao dva, umjesto kao jedan znak."
   ]
  },
  {
   "cell_type": "code",
   "execution_count": 151,
   "metadata": {
    "collapsed": false
   },
   "outputs": [
    {
     "name": "stdout",
     "output_type": "stream",
     "text": [
      "Dužina reda: 10\n",
      "Dužina reda: 11\n",
      "Dužina reda: 10\n"
     ]
    }
   ],
   "source": [
    "for red in open('tekst.txt'):\n",
    "    red=red.decode('utf8')\n",
    "    print 'Dužina reda: ' + str(len(red))"
   ]
  },
  {
   "cell_type": "markdown",
   "metadata": {},
   "source": [
    "Prvi korak je iteracija kroz datoteku po redovima. Sada pomoćna varijabla `red` poprima sadržaj reda datoteke. U sljedećem koraku u istu pomoćnu varijablu `red` pohranjujemo sadržaj tog red, ali dekodiran UTF-8 kodnom stranicom. Sada pomoćna varijabla `red` poprima sadržaj reda datoteke, ali ispravno kodiran. Sljedeći put kada u istoj iteraciji koristimo pomoćnu varijablu `red`, ona sadrži ispravno kodiran red datoteke. U posljednjem redu ispisujemo dužinu reda. Upravo zbog ispravnog kodiranja i slova \"ć\", sada je ispravna vrijednost dužine posljednjeg reda `10`, a ne `11`."
   ]
  },
  {
   "cell_type": "markdown",
   "metadata": {},
   "source": [
    "Zadatke možete naći ovdje: [Zadaci](6-Zadaci.ipynb)"
   ]
  }
 ],
 "metadata": {
  "anaconda-cloud": {},
  "kernelspec": {
   "display_name": "Python [default]",
   "language": "python",
   "name": "python2"
  },
  "language_info": {
   "codemirror_mode": {
    "name": "ipython",
    "version": 2
   },
   "file_extension": ".py",
   "mimetype": "text/x-python",
   "name": "python",
   "nbconvert_exporter": "python",
   "pygments_lexer": "ipython2",
   "version": "2.7.12"
  }
 },
 "nbformat": 4,
 "nbformat_minor": 0
}
